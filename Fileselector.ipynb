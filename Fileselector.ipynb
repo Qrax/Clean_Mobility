{
 "cells": [
  {
   "metadata": {
    "ExecuteTime": {
     "end_time": "2024-10-08T07:43:58.854243Z",
     "start_time": "2024-10-08T07:43:19.364834Z"
    }
   },
   "cell_type": "code",
   "source": [
    "from heapq import merge\n",
    "\n",
    "import matplotlib.pyplot as plt\n",
    "import numpy as np\n",
    "import pandas as pd\n",
    "import os\n",
    "import copy\n",
    "from math import sqrt, ceil\n",
    "from IPython.display import display\n",
    "import ipywidgets as widgets\n",
    "#from rope.base.oi.soa import analyze_module\n",
    "from scipy.stats import linregress\n",
    "import libraries as lib"
   ],
   "id": "17e89b97a3f9ea74",
   "outputs": [],
   "execution_count": 1
  },
  {
   "metadata": {
    "ExecuteTime": {
     "end_time": "2024-10-08T07:44:02.683091Z",
     "start_time": "2024-10-08T07:44:02.609583Z"
    }
   },
   "cell_type": "code",
   "source": [
    "# Basis pad voor de OneDrive locatie\n",
    "base_directory = \"../../OneDrive - HvA/Logfiles/\"  # Vul hier je eigen pad naar je OneDrive map in\n",
    "\n",
    "# Dropdown widgets voor elke stap\n",
    "voertuig_dropdown = widgets.Dropdown(description='Voertuig:')\n",
    "jaartal_dropdown = widgets.Dropdown(description='Jaartal:')\n",
    "situatie_dropdown = widgets.Dropdown(description='Situatie:')\n",
    "dataset_dropdown = widgets.Dropdown(description='Dataset:')\n",
    "\n",
    "# Confirm-knop\n",
    "confirm_button = widgets.Button(description=\"Map Laden\", button_style='success')\n",
    "\n",
    "# Output widget voor berichten of fouten\n",
    "output = widgets.Output()\n",
    "\n",
    "# Variabele voor het opslaan van de geselecteerde directory\n",
    "directory = None\n",
    "\n",
    "def update_jaartal_options(change):\n",
    "    \"\"\"Update de jaartal dropdown op basis van het gekozen voertuig.\"\"\"\n",
    "    selected_voertuig = voertuig_dropdown.value\n",
    "    voertuig_path = os.path.join(base_directory, selected_voertuig)\n",
    "    \n",
    "    if os.path.exists(voertuig_path):\n",
    "        # Lijst van beschikbare jaartallen (mappen) in de voertuigmap\n",
    "        jaartal_options = [name for name in os.listdir(voertuig_path) if os.path.isdir(os.path.join(voertuig_path, name))]\n",
    "        jaartal_dropdown.options = jaartal_options\n",
    "    else:\n",
    "        jaartal_dropdown.options = []\n",
    "        situatie_dropdown.options = []\n",
    "        dataset_dropdown.options = []\n",
    "\n",
    "def update_situatie_options(change):\n",
    "    \"\"\"Update de situatie dropdown op basis van het gekozen jaartal.\"\"\"\n",
    "    selected_voertuig = voertuig_dropdown.value\n",
    "    selected_jaartal = jaartal_dropdown.value\n",
    "    jaartal_path = os.path.join(base_directory, selected_voertuig, selected_jaartal)\n",
    "    \n",
    "    if os.path.exists(jaartal_path):\n",
    "        # Lijst van beschikbare situaties (mappen) in de jaartalmap\n",
    "        situatie_options = [name for name in os.listdir(jaartal_path) if os.path.isdir(os.path.join(jaartal_path, name))]\n",
    "        situatie_dropdown.options = situatie_options\n",
    "    else:\n",
    "        situatie_dropdown.options = []\n",
    "        dataset_dropdown.options = []\n",
    "\n",
    "def update_dataset_options(change):\n",
    "    \"\"\"Update de dataset dropdown op basis van de gekozen situatie.\"\"\"\n",
    "    selected_voertuig = voertuig_dropdown.value\n",
    "    selected_jaartal = jaartal_dropdown.value\n",
    "    selected_situatie = situatie_dropdown.value\n",
    "    situatie_path = os.path.join(base_directory, selected_voertuig, selected_jaartal, selected_situatie)\n",
    "    \n",
    "    if os.path.exists(situatie_path):\n",
    "        # Lijst van beschikbare datasets (mappen) in de situatiemap\n",
    "        dataset_options = [name for name in os.listdir(situatie_path) if os.path.isdir(os.path.join(situatie_path, name))]\n",
    "        dataset_dropdown.options = dataset_options\n",
    "    else:\n",
    "        dataset_dropdown.options = []\n",
    "\n",
    "def read_directory(b):\n",
    "    \"\"\"Geeft het pad naar de geselecteerde datasetmap en slaat het op.\"\"\"\n",
    "    global directory  # Gebruik de globale variabele om het pad op te slaan\n",
    "    selected_voertuig = voertuig_dropdown.value\n",
    "    selected_jaartal = jaartal_dropdown.value\n",
    "    selected_situatie = situatie_dropdown.value\n",
    "    selected_dataset = dataset_dropdown.value\n",
    "\n",
    "    if selected_voertuig and selected_jaartal and selected_situatie and selected_dataset:\n",
    "        # Maak het volledige pad naar de geselecteerde dataset\n",
    "        directory = os.path.join(base_directory, selected_voertuig, selected_jaartal, selected_situatie, selected_dataset)\n",
    "        with output:\n",
    "            output.clear_output()\n",
    "            print(f\"Geselecteerde map opgeslagen als 'directory': {directory}\")\n",
    "    else:\n",
    "        with output:\n",
    "            output.clear_output()\n",
    "            print(\"Selecteer alle opties (voertuig, jaartal, situatie, dataset) om verder te gaan.\")\n",
    "\n",
    "# Verbind de veranderingen in de dropdowns aan hun respectievelijke update functies\n",
    "voertuig_dropdown.observe(update_jaartal_options, names='value')\n",
    "jaartal_dropdown.observe(update_situatie_options, names='value')\n",
    "situatie_dropdown.observe(update_dataset_options, names='value')\n",
    "\n",
    "# Koppel de 'Confirm'-knop aan de read_directory functie\n",
    "confirm_button.on_click(read_directory)\n",
    "\n",
    "# Begin met het ophalen van de voertuigen (eerste dropdown)\n",
    "voertuig_dropdown.options = [name for name in os.listdir(base_directory) if os.path.isdir(os.path.join(base_directory, name))]\n",
    "\n",
    "# Toon de widgets\n",
    "display(voertuig_dropdown, jaartal_dropdown, situatie_dropdown, dataset_dropdown, confirm_button, output)\n"
   ],
   "id": "3526bb720e1e672b",
   "outputs": [
    {
     "data": {
      "text/plain": [
       "Dropdown(description='Voertuig:', options=('EVA', 'gnuplot voorbeelden', 'H2A', 'Oude data datalogger boot', '…"
      ],
      "application/vnd.jupyter.widget-view+json": {
       "version_major": 2,
       "version_minor": 0,
       "model_id": "e8b59beb2fbe49e8b60b76f659bbcef9"
      }
     },
     "metadata": {},
     "output_type": "display_data"
    },
    {
     "data": {
      "text/plain": [
       "Dropdown(description='Jaartal:', options=(), value=None)"
      ],
      "application/vnd.jupyter.widget-view+json": {
       "version_major": 2,
       "version_minor": 0,
       "model_id": "f523bc5ac3bb4e4ba87de61086961046"
      }
     },
     "metadata": {},
     "output_type": "display_data"
    },
    {
     "data": {
      "text/plain": [
       "Dropdown(description='Situatie:', options=(), value=None)"
      ],
      "application/vnd.jupyter.widget-view+json": {
       "version_major": 2,
       "version_minor": 0,
       "model_id": "19baff95c34349c59c0ce3f97b6145a2"
      }
     },
     "metadata": {},
     "output_type": "display_data"
    },
    {
     "data": {
      "text/plain": [
       "Dropdown(description='Dataset:', options=(), value=None)"
      ],
      "application/vnd.jupyter.widget-view+json": {
       "version_major": 2,
       "version_minor": 0,
       "model_id": "13ef5c9d06374562b36a53fd17ad87ad"
      }
     },
     "metadata": {},
     "output_type": "display_data"
    },
    {
     "data": {
      "text/plain": [
       "Button(button_style='success', description='Map Laden', style=ButtonStyle())"
      ],
      "application/vnd.jupyter.widget-view+json": {
       "version_major": 2,
       "version_minor": 0,
       "model_id": "4893c8902f344a9d84c4488c5515d708"
      }
     },
     "metadata": {},
     "output_type": "display_data"
    },
    {
     "data": {
      "text/plain": [
       "Output()"
      ],
      "application/vnd.jupyter.widget-view+json": {
       "version_major": 2,
       "version_minor": 0,
       "model_id": "9fdc8f842317485da195b22d98584fa3"
      }
     },
     "metadata": {},
     "output_type": "display_data"
    }
   ],
   "execution_count": 2
  },
  {
   "metadata": {},
   "cell_type": "code",
   "outputs": [],
   "execution_count": null,
   "source": "",
   "id": "7f80970c7a7d3623"
  },
  {
   "metadata": {
    "ExecuteTime": {
     "end_time": "2024-10-03T22:01:30.375620Z",
     "start_time": "2024-10-03T22:01:30.333714Z"
    }
   },
   "cell_type": "code",
   "source": [
    "# Gebruik de functie om de map te selecteren\n",
    "base_directory = \"../../OneDrive - HvA/Logfiles/\"  # Vul hier je eigen base directory in\n",
    "directory = lib.Get_directory(base_directory)"
   ],
   "id": "e5006355329a8ef8",
   "outputs": [
    {
     "data": {
      "text/plain": [
       "Dropdown(description='Voertuig:', options=('EVA', 'gnuplot voorbeelden', 'H2A', 'Oude data datalogger boot', '…"
      ],
      "application/vnd.jupyter.widget-view+json": {
       "version_major": 2,
       "version_minor": 0,
       "model_id": "03e52edb0d4c428a9b3a1b981bc4300d"
      }
     },
     "metadata": {},
     "output_type": "display_data"
    },
    {
     "data": {
      "text/plain": [
       "Dropdown(description='Jaartal:', options=(), value=None)"
      ],
      "application/vnd.jupyter.widget-view+json": {
       "version_major": 2,
       "version_minor": 0,
       "model_id": "ff60e894642f41c69f591e85e36b581f"
      }
     },
     "metadata": {},
     "output_type": "display_data"
    },
    {
     "data": {
      "text/plain": [
       "Dropdown(description='Situatie:', options=(), value=None)"
      ],
      "application/vnd.jupyter.widget-view+json": {
       "version_major": 2,
       "version_minor": 0,
       "model_id": "2fc45852d8c34c0e9379ef3a27f01c3b"
      }
     },
     "metadata": {},
     "output_type": "display_data"
    },
    {
     "data": {
      "text/plain": [
       "Dropdown(description='Dataset:', options=(), value=None)"
      ],
      "application/vnd.jupyter.widget-view+json": {
       "version_major": 2,
       "version_minor": 0,
       "model_id": "69a592d010db439a9d6e35a7c63a96bb"
      }
     },
     "metadata": {},
     "output_type": "display_data"
    },
    {
     "data": {
      "text/plain": [
       "Button(button_style='success', description='Map Laden', style=ButtonStyle())"
      ],
      "application/vnd.jupyter.widget-view+json": {
       "version_major": 2,
       "version_minor": 0,
       "model_id": "63090023ca474ba3954fe58a2d180bba"
      }
     },
     "metadata": {},
     "output_type": "display_data"
    },
    {
     "data": {
      "text/plain": [
       "Output()"
      ],
      "application/vnd.jupyter.widget-view+json": {
       "version_major": 2,
       "version_minor": 0,
       "model_id": "920f310f93cd4af5a2d14bd85a550276"
      }
     },
     "metadata": {},
     "output_type": "display_data"
    }
   ],
   "execution_count": 3
  },
  {
   "metadata": {
    "ExecuteTime": {
     "end_time": "2024-10-03T22:03:56.349546Z",
     "start_time": "2024-10-03T22:03:56.328219Z"
    }
   },
   "cell_type": "code",
   "source": [
    "directory = \"../../OneDrive - HvA/Logfiles/H2A/2022/20220628-20220701_race_nogaro/0022 - 20220701T083421 3h51m4s 30.541km Nogaro\"\n",
    "\n",
    "#\"../../OneDrive - HvA/Logfiles/\""
   ],
   "id": "d8b0fbf83943d58d",
   "outputs": [],
   "execution_count": 1
  },
  {
   "metadata": {
    "ExecuteTime": {
     "end_time": "2024-10-08T07:44:31.247262Z",
     "start_time": "2024-10-08T07:44:31.216799Z"
    }
   },
   "cell_type": "code",
   "source": "result = lib.DataUitzoekenGui(directory)",
   "id": "b4b983f09c7368e4",
   "outputs": [
    {
     "data": {
      "text/plain": [
       "SelectMultiple(description='Bestanden:', options=('1.csv', '2.csv', 'F.csv', 'I.csv'), value=())"
      ],
      "application/vnd.jupyter.widget-view+json": {
       "version_major": 2,
       "version_minor": 0,
       "model_id": "6119612270314648a250bf4b92a4593a"
      }
     },
     "metadata": {},
     "output_type": "display_data"
    },
    {
     "data": {
      "text/plain": [
       "Button(button_style='success', description='Bestanden Laden', icon='check', style=ButtonStyle(), tooltip='Klik…"
      ],
      "application/vnd.jupyter.widget-view+json": {
       "version_major": 2,
       "version_minor": 0,
       "model_id": "7cd32cd4a3f14d5fb223dfa0187b1fee"
      }
     },
     "metadata": {},
     "output_type": "display_data"
    },
    {
     "data": {
      "text/plain": [
       "Label(value='')"
      ],
      "application/vnd.jupyter.widget-view+json": {
       "version_major": 2,
       "version_minor": 0,
       "model_id": "cc935188a3bc4f12b3b70fc7bf7e5e6a"
      }
     },
     "metadata": {},
     "output_type": "display_data"
    }
   ],
   "execution_count": 3
  },
  {
   "metadata": {
    "ExecuteTime": {
     "end_time": "2024-10-08T07:56:03.437886Z",
     "start_time": "2024-10-08T07:56:03.385945Z"
    }
   },
   "cell_type": "code",
   "source": [
    "# Na het laden van de bestanden en het klikken op de knop\n",
    "# Controleer of 'merged_df' in result zit\n",
    "if 'merged_df' in result:\n",
    "    merged_df = result['merged_df']\n",
    "    # Gebruik merged_df zoals je wilt\n",
    "    display(merged_df)\n",
    "else:\n",
    "    print(\"De data is nog niet geladen.\")\n"
   ],
   "id": "6adddaeccd38bf0f",
   "outputs": [
    {
     "data": {
      "text/plain": [
       "                 Datalogger port_x  Dataloggertijd, in s_x      Tijd  \\\n",
       "Indextijd                                                              \n",
       "0 days 00:01:12                NaN                     NaN       NaN   \n",
       "0 days 00:01:13                1.0                 73.2213   63422.0   \n",
       "0 days 00:01:14                1.0                 74.2258   63423.0   \n",
       "0 days 00:01:15                1.0                 75.2287   63424.0   \n",
       "0 days 00:01:16                1.0                 76.2242   63425.0   \n",
       "...                            ...                     ...       ...   \n",
       "0 days 03:52:12                1.0              13932.0692  102521.0   \n",
       "0 days 03:52:13                1.0              13933.0556  102522.0   \n",
       "0 days 03:52:14                1.0              13934.0410  102523.0   \n",
       "0 days 03:52:15                1.0              13935.0720  102524.0   \n",
       "0 days 03:52:16                1.0              13936.0506  102525.0   \n",
       "\n",
       "                  Latitude  Longitude  Snelheid over de grond in km/h  \\\n",
       "Indextijd                                                               \n",
       "0 days 00:01:12        NaN        NaN                             NaN   \n",
       "0 days 00:01:13  4346.2325     2.5027                             0.0   \n",
       "0 days 00:01:14  4346.2325     2.5027                             0.0   \n",
       "0 days 00:01:15  4346.2325     2.5027                             0.0   \n",
       "0 days 00:01:16  4346.2325     2.5028                             0.0   \n",
       "...                    ...        ...                             ...   \n",
       "0 days 03:52:12  4346.3056     2.5465                             0.0   \n",
       "0 days 03:52:13  4346.3056     2.5465                             0.0   \n",
       "0 days 03:52:14  4346.3056     2.5465                             0.0   \n",
       "0 days 03:52:15  4346.3056     2.5465                             0.0   \n",
       "0 days 03:52:16  4346.3056     2.5465                             0.0   \n",
       "\n",
       "                 Richting van de snelheid    Datum  Magnetische variatie  \\\n",
       "Indextijd                                                                  \n",
       "0 days 00:01:12                       NaN      NaN                   NaN   \n",
       "0 days 00:01:13                     195.0  10722.0                   NaN   \n",
       "0 days 00:01:14                     195.0  10722.0                   NaN   \n",
       "0 days 00:01:15                     195.0  10722.0                   NaN   \n",
       "0 days 00:01:16                     195.0  10722.0                   NaN   \n",
       "...                                   ...      ...                   ...   \n",
       "0 days 03:52:12                     162.3  10722.0                   NaN   \n",
       "0 days 03:52:13                     162.3  10722.0                   NaN   \n",
       "0 days 03:52:14                     162.3  10722.0                   NaN   \n",
       "0 days 03:52:15                     162.3  10722.0                   NaN   \n",
       "0 days 03:52:16                     162.3  10722.0                   NaN   \n",
       "\n",
       "                 Magnetische directie  ...  \\\n",
       "Indextijd                              ...   \n",
       "0 days 00:01:12                   NaN  ...   \n",
       "0 days 00:01:13                   NaN  ...   \n",
       "0 days 00:01:14                   NaN  ...   \n",
       "0 days 00:01:15                   NaN  ...   \n",
       "0 days 00:01:16                   NaN  ...   \n",
       "...                               ...  ...   \n",
       "0 days 03:52:12                   NaN  ...   \n",
       "0 days 03:52:13                   NaN  ...   \n",
       "0 days 03:52:14                   NaN  ...   \n",
       "0 days 03:52:15                   NaN  ...   \n",
       "0 days 03:52:16                   NaN  ...   \n",
       "\n",
       "                 Huidig stroom-instelpunt van cruise control  \\\n",
       "Indextijd                                                      \n",
       "0 days 00:01:12                                          0.0   \n",
       "0 days 00:01:13                                          0.0   \n",
       "0 days 00:01:14                                          0.0   \n",
       "0 days 00:01:15                                          0.0   \n",
       "0 days 00:01:16                                          0.0   \n",
       "...                                                      ...   \n",
       "0 days 03:52:12                                          NaN   \n",
       "0 days 03:52:13                                          NaN   \n",
       "0 days 03:52:14                                          NaN   \n",
       "0 days 03:52:15                                          NaN   \n",
       "0 days 03:52:16                                          NaN   \n",
       "\n",
       "                 Doelsnelheid van cruise control  \\\n",
       "Indextijd                                          \n",
       "0 days 00:01:12                              0.0   \n",
       "0 days 00:01:13                              0.0   \n",
       "0 days 00:01:14                              0.0   \n",
       "0 days 00:01:15                              0.0   \n",
       "0 days 00:01:16                              0.0   \n",
       "...                                          ...   \n",
       "0 days 03:52:12                              NaN   \n",
       "0 days 03:52:13                              NaN   \n",
       "0 days 03:52:14                              NaN   \n",
       "0 days 03:52:15                              NaN   \n",
       "0 days 03:52:16                              NaN   \n",
       "\n",
       "                 Toestand cruise control2-knop (aan=1, uit=0)  \\\n",
       "Indextijd                                                       \n",
       "0 days 00:01:12                                           0.0   \n",
       "0 days 00:01:13                                           0.0   \n",
       "0 days 00:01:14                                           0.0   \n",
       "0 days 00:01:15                                           0.0   \n",
       "0 days 00:01:16                                           0.0   \n",
       "...                                                       ...   \n",
       "0 days 03:52:12                                           NaN   \n",
       "0 days 03:52:13                                           NaN   \n",
       "0 days 03:52:14                                           NaN   \n",
       "0 days 03:52:15                                           NaN   \n",
       "0 days 03:52:16                                           NaN   \n",
       "\n",
       "                 GPS longitude, in graden  GPS latitude, in graden  \\\n",
       "Indextijd                                                            \n",
       "0 days 00:01:12                 4346.2325                    195.0   \n",
       "0 days 00:01:13                 4346.2325                    195.0   \n",
       "0 days 00:01:14                 4346.2325                    195.0   \n",
       "0 days 00:01:15                 4346.2325                    195.0   \n",
       "0 days 00:01:16                 4346.2325                    195.0   \n",
       "...                                   ...                      ...   \n",
       "0 days 03:52:12                       NaN                      NaN   \n",
       "0 days 03:52:13                       NaN                      NaN   \n",
       "0 days 03:52:14                       NaN                      NaN   \n",
       "0 days 03:52:15                       NaN                      NaN   \n",
       "0 days 03:52:16                       NaN                      NaN   \n",
       "\n",
       "                 GPS direction  GPS speed, in km/h  \\\n",
       "Indextijd                                            \n",
       "0 days 00:01:12            0.0        63420.240000   \n",
       "0 days 00:01:13            0.0        63421.121212   \n",
       "0 days 00:01:14            0.0        63422.210526   \n",
       "0 days 00:01:15            0.0        63423.151515   \n",
       "0 days 00:01:16            0.0        63424.234848   \n",
       "...                        ...                 ...   \n",
       "0 days 03:52:12            NaN                 NaN   \n",
       "0 days 03:52:13            NaN                 NaN   \n",
       "0 days 03:52:14            NaN                 NaN   \n",
       "0 days 03:52:15            NaN                 NaN   \n",
       "0 days 03:52:16            NaN                 NaN   \n",
       "\n",
       "                 GPS time, in seconden sinds het begin van de huidige GPS-week  \\\n",
       "Indextijd                                                                        \n",
       "0 days 00:01:12                                                NaN               \n",
       "0 days 00:01:13                                                NaN               \n",
       "0 days 00:01:14                                                NaN               \n",
       "0 days 00:01:15                                                NaN               \n",
       "0 days 00:01:16                                                NaN               \n",
       "...                                                            ...               \n",
       "0 days 03:52:12                                                NaN               \n",
       "0 days 03:52:13                                                NaN               \n",
       "0 days 03:52:14                                                NaN               \n",
       "0 days 03:52:15                                                NaN               \n",
       "0 days 03:52:16                                                NaN               \n",
       "\n",
       "                 Format header (>03|04)  \\\n",
       "Indextijd                                 \n",
       "0 days 00:01:12                   03|04   \n",
       "0 days 00:01:13                   03|04   \n",
       "0 days 00:01:14                   03|04   \n",
       "0 days 00:01:15                   03|04   \n",
       "0 days 00:01:16                   03|04   \n",
       "...                                 ...   \n",
       "0 days 03:52:12                     NaN   \n",
       "0 days 03:52:13                     NaN   \n",
       "0 days 03:52:14                     NaN   \n",
       "0 days 03:52:15                     NaN   \n",
       "0 days 03:52:16                     NaN   \n",
       "\n",
       "                Tijdstip laatste verandering cruise control2-knop  \n",
       "Indextijd                                                          \n",
       "0 days 00:01:12                                   0.00000002.5027  \n",
       "0 days 00:01:13                                   0.00000002.5027  \n",
       "0 days 00:01:14                                   0.00000002.5027  \n",
       "0 days 00:01:15                                   0.00000002.5027  \n",
       "0 days 00:01:16                                   0.00000002.5027  \n",
       "...                                                           ...  \n",
       "0 days 03:52:12                                               NaN  \n",
       "0 days 03:52:13                                               NaN  \n",
       "0 days 03:52:14                                               NaN  \n",
       "0 days 03:52:15                                               NaN  \n",
       "0 days 03:52:16                                               NaN  \n",
       "\n",
       "[13865 rows x 57 columns]"
      ],
      "text/html": [
       "<div>\n",
       "<style scoped>\n",
       "    .dataframe tbody tr th:only-of-type {\n",
       "        vertical-align: middle;\n",
       "    }\n",
       "\n",
       "    .dataframe tbody tr th {\n",
       "        vertical-align: top;\n",
       "    }\n",
       "\n",
       "    .dataframe thead th {\n",
       "        text-align: right;\n",
       "    }\n",
       "</style>\n",
       "<table border=\"1\" class=\"dataframe\">\n",
       "  <thead>\n",
       "    <tr style=\"text-align: right;\">\n",
       "      <th></th>\n",
       "      <th>Datalogger port_x</th>\n",
       "      <th>Dataloggertijd, in s_x</th>\n",
       "      <th>Tijd</th>\n",
       "      <th>Latitude</th>\n",
       "      <th>Longitude</th>\n",
       "      <th>Snelheid over de grond in km/h</th>\n",
       "      <th>Richting van de snelheid</th>\n",
       "      <th>Datum</th>\n",
       "      <th>Magnetische variatie</th>\n",
       "      <th>Magnetische directie</th>\n",
       "      <th>...</th>\n",
       "      <th>Huidig stroom-instelpunt van cruise control</th>\n",
       "      <th>Doelsnelheid van cruise control</th>\n",
       "      <th>Toestand cruise control2-knop (aan=1, uit=0)</th>\n",
       "      <th>GPS longitude, in graden</th>\n",
       "      <th>GPS latitude, in graden</th>\n",
       "      <th>GPS direction</th>\n",
       "      <th>GPS speed, in km/h</th>\n",
       "      <th>GPS time, in seconden sinds het begin van de huidige GPS-week</th>\n",
       "      <th>Format header (&gt;03|04)</th>\n",
       "      <th>Tijdstip laatste verandering cruise control2-knop</th>\n",
       "    </tr>\n",
       "    <tr>\n",
       "      <th>Indextijd</th>\n",
       "      <th></th>\n",
       "      <th></th>\n",
       "      <th></th>\n",
       "      <th></th>\n",
       "      <th></th>\n",
       "      <th></th>\n",
       "      <th></th>\n",
       "      <th></th>\n",
       "      <th></th>\n",
       "      <th></th>\n",
       "      <th></th>\n",
       "      <th></th>\n",
       "      <th></th>\n",
       "      <th></th>\n",
       "      <th></th>\n",
       "      <th></th>\n",
       "      <th></th>\n",
       "      <th></th>\n",
       "      <th></th>\n",
       "      <th></th>\n",
       "      <th></th>\n",
       "    </tr>\n",
       "  </thead>\n",
       "  <tbody>\n",
       "    <tr>\n",
       "      <th>0 days 00:01:12</th>\n",
       "      <td>NaN</td>\n",
       "      <td>NaN</td>\n",
       "      <td>NaN</td>\n",
       "      <td>NaN</td>\n",
       "      <td>NaN</td>\n",
       "      <td>NaN</td>\n",
       "      <td>NaN</td>\n",
       "      <td>NaN</td>\n",
       "      <td>NaN</td>\n",
       "      <td>NaN</td>\n",
       "      <td>...</td>\n",
       "      <td>0.0</td>\n",
       "      <td>0.0</td>\n",
       "      <td>0.0</td>\n",
       "      <td>4346.2325</td>\n",
       "      <td>195.0</td>\n",
       "      <td>0.0</td>\n",
       "      <td>63420.240000</td>\n",
       "      <td>NaN</td>\n",
       "      <td>03|04</td>\n",
       "      <td>0.00000002.5027</td>\n",
       "    </tr>\n",
       "    <tr>\n",
       "      <th>0 days 00:01:13</th>\n",
       "      <td>1.0</td>\n",
       "      <td>73.2213</td>\n",
       "      <td>63422.0</td>\n",
       "      <td>4346.2325</td>\n",
       "      <td>2.5027</td>\n",
       "      <td>0.0</td>\n",
       "      <td>195.0</td>\n",
       "      <td>10722.0</td>\n",
       "      <td>NaN</td>\n",
       "      <td>NaN</td>\n",
       "      <td>...</td>\n",
       "      <td>0.0</td>\n",
       "      <td>0.0</td>\n",
       "      <td>0.0</td>\n",
       "      <td>4346.2325</td>\n",
       "      <td>195.0</td>\n",
       "      <td>0.0</td>\n",
       "      <td>63421.121212</td>\n",
       "      <td>NaN</td>\n",
       "      <td>03|04</td>\n",
       "      <td>0.00000002.5027</td>\n",
       "    </tr>\n",
       "    <tr>\n",
       "      <th>0 days 00:01:14</th>\n",
       "      <td>1.0</td>\n",
       "      <td>74.2258</td>\n",
       "      <td>63423.0</td>\n",
       "      <td>4346.2325</td>\n",
       "      <td>2.5027</td>\n",
       "      <td>0.0</td>\n",
       "      <td>195.0</td>\n",
       "      <td>10722.0</td>\n",
       "      <td>NaN</td>\n",
       "      <td>NaN</td>\n",
       "      <td>...</td>\n",
       "      <td>0.0</td>\n",
       "      <td>0.0</td>\n",
       "      <td>0.0</td>\n",
       "      <td>4346.2325</td>\n",
       "      <td>195.0</td>\n",
       "      <td>0.0</td>\n",
       "      <td>63422.210526</td>\n",
       "      <td>NaN</td>\n",
       "      <td>03|04</td>\n",
       "      <td>0.00000002.5027</td>\n",
       "    </tr>\n",
       "    <tr>\n",
       "      <th>0 days 00:01:15</th>\n",
       "      <td>1.0</td>\n",
       "      <td>75.2287</td>\n",
       "      <td>63424.0</td>\n",
       "      <td>4346.2325</td>\n",
       "      <td>2.5027</td>\n",
       "      <td>0.0</td>\n",
       "      <td>195.0</td>\n",
       "      <td>10722.0</td>\n",
       "      <td>NaN</td>\n",
       "      <td>NaN</td>\n",
       "      <td>...</td>\n",
       "      <td>0.0</td>\n",
       "      <td>0.0</td>\n",
       "      <td>0.0</td>\n",
       "      <td>4346.2325</td>\n",
       "      <td>195.0</td>\n",
       "      <td>0.0</td>\n",
       "      <td>63423.151515</td>\n",
       "      <td>NaN</td>\n",
       "      <td>03|04</td>\n",
       "      <td>0.00000002.5027</td>\n",
       "    </tr>\n",
       "    <tr>\n",
       "      <th>0 days 00:01:16</th>\n",
       "      <td>1.0</td>\n",
       "      <td>76.2242</td>\n",
       "      <td>63425.0</td>\n",
       "      <td>4346.2325</td>\n",
       "      <td>2.5028</td>\n",
       "      <td>0.0</td>\n",
       "      <td>195.0</td>\n",
       "      <td>10722.0</td>\n",
       "      <td>NaN</td>\n",
       "      <td>NaN</td>\n",
       "      <td>...</td>\n",
       "      <td>0.0</td>\n",
       "      <td>0.0</td>\n",
       "      <td>0.0</td>\n",
       "      <td>4346.2325</td>\n",
       "      <td>195.0</td>\n",
       "      <td>0.0</td>\n",
       "      <td>63424.234848</td>\n",
       "      <td>NaN</td>\n",
       "      <td>03|04</td>\n",
       "      <td>0.00000002.5027</td>\n",
       "    </tr>\n",
       "    <tr>\n",
       "      <th>...</th>\n",
       "      <td>...</td>\n",
       "      <td>...</td>\n",
       "      <td>...</td>\n",
       "      <td>...</td>\n",
       "      <td>...</td>\n",
       "      <td>...</td>\n",
       "      <td>...</td>\n",
       "      <td>...</td>\n",
       "      <td>...</td>\n",
       "      <td>...</td>\n",
       "      <td>...</td>\n",
       "      <td>...</td>\n",
       "      <td>...</td>\n",
       "      <td>...</td>\n",
       "      <td>...</td>\n",
       "      <td>...</td>\n",
       "      <td>...</td>\n",
       "      <td>...</td>\n",
       "      <td>...</td>\n",
       "      <td>...</td>\n",
       "      <td>...</td>\n",
       "    </tr>\n",
       "    <tr>\n",
       "      <th>0 days 03:52:12</th>\n",
       "      <td>1.0</td>\n",
       "      <td>13932.0692</td>\n",
       "      <td>102521.0</td>\n",
       "      <td>4346.3056</td>\n",
       "      <td>2.5465</td>\n",
       "      <td>0.0</td>\n",
       "      <td>162.3</td>\n",
       "      <td>10722.0</td>\n",
       "      <td>NaN</td>\n",
       "      <td>NaN</td>\n",
       "      <td>...</td>\n",
       "      <td>NaN</td>\n",
       "      <td>NaN</td>\n",
       "      <td>NaN</td>\n",
       "      <td>NaN</td>\n",
       "      <td>NaN</td>\n",
       "      <td>NaN</td>\n",
       "      <td>NaN</td>\n",
       "      <td>NaN</td>\n",
       "      <td>NaN</td>\n",
       "      <td>NaN</td>\n",
       "    </tr>\n",
       "    <tr>\n",
       "      <th>0 days 03:52:13</th>\n",
       "      <td>1.0</td>\n",
       "      <td>13933.0556</td>\n",
       "      <td>102522.0</td>\n",
       "      <td>4346.3056</td>\n",
       "      <td>2.5465</td>\n",
       "      <td>0.0</td>\n",
       "      <td>162.3</td>\n",
       "      <td>10722.0</td>\n",
       "      <td>NaN</td>\n",
       "      <td>NaN</td>\n",
       "      <td>...</td>\n",
       "      <td>NaN</td>\n",
       "      <td>NaN</td>\n",
       "      <td>NaN</td>\n",
       "      <td>NaN</td>\n",
       "      <td>NaN</td>\n",
       "      <td>NaN</td>\n",
       "      <td>NaN</td>\n",
       "      <td>NaN</td>\n",
       "      <td>NaN</td>\n",
       "      <td>NaN</td>\n",
       "    </tr>\n",
       "    <tr>\n",
       "      <th>0 days 03:52:14</th>\n",
       "      <td>1.0</td>\n",
       "      <td>13934.0410</td>\n",
       "      <td>102523.0</td>\n",
       "      <td>4346.3056</td>\n",
       "      <td>2.5465</td>\n",
       "      <td>0.0</td>\n",
       "      <td>162.3</td>\n",
       "      <td>10722.0</td>\n",
       "      <td>NaN</td>\n",
       "      <td>NaN</td>\n",
       "      <td>...</td>\n",
       "      <td>NaN</td>\n",
       "      <td>NaN</td>\n",
       "      <td>NaN</td>\n",
       "      <td>NaN</td>\n",
       "      <td>NaN</td>\n",
       "      <td>NaN</td>\n",
       "      <td>NaN</td>\n",
       "      <td>NaN</td>\n",
       "      <td>NaN</td>\n",
       "      <td>NaN</td>\n",
       "    </tr>\n",
       "    <tr>\n",
       "      <th>0 days 03:52:15</th>\n",
       "      <td>1.0</td>\n",
       "      <td>13935.0720</td>\n",
       "      <td>102524.0</td>\n",
       "      <td>4346.3056</td>\n",
       "      <td>2.5465</td>\n",
       "      <td>0.0</td>\n",
       "      <td>162.3</td>\n",
       "      <td>10722.0</td>\n",
       "      <td>NaN</td>\n",
       "      <td>NaN</td>\n",
       "      <td>...</td>\n",
       "      <td>NaN</td>\n",
       "      <td>NaN</td>\n",
       "      <td>NaN</td>\n",
       "      <td>NaN</td>\n",
       "      <td>NaN</td>\n",
       "      <td>NaN</td>\n",
       "      <td>NaN</td>\n",
       "      <td>NaN</td>\n",
       "      <td>NaN</td>\n",
       "      <td>NaN</td>\n",
       "    </tr>\n",
       "    <tr>\n",
       "      <th>0 days 03:52:16</th>\n",
       "      <td>1.0</td>\n",
       "      <td>13936.0506</td>\n",
       "      <td>102525.0</td>\n",
       "      <td>4346.3056</td>\n",
       "      <td>2.5465</td>\n",
       "      <td>0.0</td>\n",
       "      <td>162.3</td>\n",
       "      <td>10722.0</td>\n",
       "      <td>NaN</td>\n",
       "      <td>NaN</td>\n",
       "      <td>...</td>\n",
       "      <td>NaN</td>\n",
       "      <td>NaN</td>\n",
       "      <td>NaN</td>\n",
       "      <td>NaN</td>\n",
       "      <td>NaN</td>\n",
       "      <td>NaN</td>\n",
       "      <td>NaN</td>\n",
       "      <td>NaN</td>\n",
       "      <td>NaN</td>\n",
       "      <td>NaN</td>\n",
       "    </tr>\n",
       "  </tbody>\n",
       "</table>\n",
       "<p>13865 rows × 57 columns</p>\n",
       "</div>"
      ]
     },
     "metadata": {},
     "output_type": "display_data"
    }
   ],
   "execution_count": 23
  },
  {
   "metadata": {},
   "cell_type": "code",
   "outputs": [],
   "execution_count": null,
   "source": [
    "# Functie om voorbeelddata in te laden\n",
    "def load_sample_data():\n",
    "    # Voorbeelddataset met 2D data om clustering te kunnen demonstreren\n",
    "    result = {\n",
    "        'A': [1, 2, 3, 4, 5, 6, 7, 8, 9, 10],\n",
    "        'B': [2, 3, 4, 5, 6, 7, 8, 9, 10, 11],\n",
    "        'C': [5, 6, 7, 8, 9, 10, 11, 12, 13, 14]\n",
    "    }\n",
    "    df = pd.DataFrame(result)\n",
    "    return df\n"
   ],
   "id": "cd25bdb793fb651d"
  },
  {
   "metadata": {
    "ExecuteTime": {
     "end_time": "2024-10-08T07:59:07.997788Z",
     "start_time": "2024-10-08T07:59:07.973285Z"
    }
   },
   "cell_type": "code",
   "source": [
    "df= merged_df\n",
    "\n",
    "print(df)"
   ],
   "id": "77101aac1798def5",
   "outputs": [
    {
     "name": "stdout",
     "output_type": "stream",
     "text": [
      "                 Datalogger port_x  Dataloggertijd, in s_x      Tijd  \\\n",
      "Indextijd                                                              \n",
      "0 days 00:01:12                NaN                     NaN       NaN   \n",
      "0 days 00:01:13                1.0                 73.2213   63422.0   \n",
      "0 days 00:01:14                1.0                 74.2258   63423.0   \n",
      "0 days 00:01:15                1.0                 75.2287   63424.0   \n",
      "0 days 00:01:16                1.0                 76.2242   63425.0   \n",
      "...                            ...                     ...       ...   \n",
      "0 days 03:52:12                1.0              13932.0692  102521.0   \n",
      "0 days 03:52:13                1.0              13933.0556  102522.0   \n",
      "0 days 03:52:14                1.0              13934.0410  102523.0   \n",
      "0 days 03:52:15                1.0              13935.0720  102524.0   \n",
      "0 days 03:52:16                1.0              13936.0506  102525.0   \n",
      "\n",
      "                  Latitude  Longitude  Snelheid over de grond in km/h  \\\n",
      "Indextijd                                                               \n",
      "0 days 00:01:12        NaN        NaN                             NaN   \n",
      "0 days 00:01:13  4346.2325     2.5027                             0.0   \n",
      "0 days 00:01:14  4346.2325     2.5027                             0.0   \n",
      "0 days 00:01:15  4346.2325     2.5027                             0.0   \n",
      "0 days 00:01:16  4346.2325     2.5028                             0.0   \n",
      "...                    ...        ...                             ...   \n",
      "0 days 03:52:12  4346.3056     2.5465                             0.0   \n",
      "0 days 03:52:13  4346.3056     2.5465                             0.0   \n",
      "0 days 03:52:14  4346.3056     2.5465                             0.0   \n",
      "0 days 03:52:15  4346.3056     2.5465                             0.0   \n",
      "0 days 03:52:16  4346.3056     2.5465                             0.0   \n",
      "\n",
      "                 Richting van de snelheid    Datum  Magnetische variatie  \\\n",
      "Indextijd                                                                  \n",
      "0 days 00:01:12                       NaN      NaN                   NaN   \n",
      "0 days 00:01:13                     195.0  10722.0                   NaN   \n",
      "0 days 00:01:14                     195.0  10722.0                   NaN   \n",
      "0 days 00:01:15                     195.0  10722.0                   NaN   \n",
      "0 days 00:01:16                     195.0  10722.0                   NaN   \n",
      "...                                   ...      ...                   ...   \n",
      "0 days 03:52:12                     162.3  10722.0                   NaN   \n",
      "0 days 03:52:13                     162.3  10722.0                   NaN   \n",
      "0 days 03:52:14                     162.3  10722.0                   NaN   \n",
      "0 days 03:52:15                     162.3  10722.0                   NaN   \n",
      "0 days 03:52:16                     162.3  10722.0                   NaN   \n",
      "\n",
      "                 Magnetische directie  ...  \\\n",
      "Indextijd                              ...   \n",
      "0 days 00:01:12                   NaN  ...   \n",
      "0 days 00:01:13                   NaN  ...   \n",
      "0 days 00:01:14                   NaN  ...   \n",
      "0 days 00:01:15                   NaN  ...   \n",
      "0 days 00:01:16                   NaN  ...   \n",
      "...                               ...  ...   \n",
      "0 days 03:52:12                   NaN  ...   \n",
      "0 days 03:52:13                   NaN  ...   \n",
      "0 days 03:52:14                   NaN  ...   \n",
      "0 days 03:52:15                   NaN  ...   \n",
      "0 days 03:52:16                   NaN  ...   \n",
      "\n",
      "                 Huidig stroom-instelpunt van cruise control  \\\n",
      "Indextijd                                                      \n",
      "0 days 00:01:12                                          0.0   \n",
      "0 days 00:01:13                                          0.0   \n",
      "0 days 00:01:14                                          0.0   \n",
      "0 days 00:01:15                                          0.0   \n",
      "0 days 00:01:16                                          0.0   \n",
      "...                                                      ...   \n",
      "0 days 03:52:12                                          NaN   \n",
      "0 days 03:52:13                                          NaN   \n",
      "0 days 03:52:14                                          NaN   \n",
      "0 days 03:52:15                                          NaN   \n",
      "0 days 03:52:16                                          NaN   \n",
      "\n",
      "                 Doelsnelheid van cruise control  \\\n",
      "Indextijd                                          \n",
      "0 days 00:01:12                              0.0   \n",
      "0 days 00:01:13                              0.0   \n",
      "0 days 00:01:14                              0.0   \n",
      "0 days 00:01:15                              0.0   \n",
      "0 days 00:01:16                              0.0   \n",
      "...                                          ...   \n",
      "0 days 03:52:12                              NaN   \n",
      "0 days 03:52:13                              NaN   \n",
      "0 days 03:52:14                              NaN   \n",
      "0 days 03:52:15                              NaN   \n",
      "0 days 03:52:16                              NaN   \n",
      "\n",
      "                 Toestand cruise control2-knop (aan=1, uit=0)  \\\n",
      "Indextijd                                                       \n",
      "0 days 00:01:12                                           0.0   \n",
      "0 days 00:01:13                                           0.0   \n",
      "0 days 00:01:14                                           0.0   \n",
      "0 days 00:01:15                                           0.0   \n",
      "0 days 00:01:16                                           0.0   \n",
      "...                                                       ...   \n",
      "0 days 03:52:12                                           NaN   \n",
      "0 days 03:52:13                                           NaN   \n",
      "0 days 03:52:14                                           NaN   \n",
      "0 days 03:52:15                                           NaN   \n",
      "0 days 03:52:16                                           NaN   \n",
      "\n",
      "                 GPS longitude, in graden  GPS latitude, in graden  \\\n",
      "Indextijd                                                            \n",
      "0 days 00:01:12                 4346.2325                    195.0   \n",
      "0 days 00:01:13                 4346.2325                    195.0   \n",
      "0 days 00:01:14                 4346.2325                    195.0   \n",
      "0 days 00:01:15                 4346.2325                    195.0   \n",
      "0 days 00:01:16                 4346.2325                    195.0   \n",
      "...                                   ...                      ...   \n",
      "0 days 03:52:12                       NaN                      NaN   \n",
      "0 days 03:52:13                       NaN                      NaN   \n",
      "0 days 03:52:14                       NaN                      NaN   \n",
      "0 days 03:52:15                       NaN                      NaN   \n",
      "0 days 03:52:16                       NaN                      NaN   \n",
      "\n",
      "                 GPS direction  GPS speed, in km/h  \\\n",
      "Indextijd                                            \n",
      "0 days 00:01:12            0.0        63420.240000   \n",
      "0 days 00:01:13            0.0        63421.121212   \n",
      "0 days 00:01:14            0.0        63422.210526   \n",
      "0 days 00:01:15            0.0        63423.151515   \n",
      "0 days 00:01:16            0.0        63424.234848   \n",
      "...                        ...                 ...   \n",
      "0 days 03:52:12            NaN                 NaN   \n",
      "0 days 03:52:13            NaN                 NaN   \n",
      "0 days 03:52:14            NaN                 NaN   \n",
      "0 days 03:52:15            NaN                 NaN   \n",
      "0 days 03:52:16            NaN                 NaN   \n",
      "\n",
      "                 GPS time, in seconden sinds het begin van de huidige GPS-week  \\\n",
      "Indextijd                                                                        \n",
      "0 days 00:01:12                                                NaN               \n",
      "0 days 00:01:13                                                NaN               \n",
      "0 days 00:01:14                                                NaN               \n",
      "0 days 00:01:15                                                NaN               \n",
      "0 days 00:01:16                                                NaN               \n",
      "...                                                            ...               \n",
      "0 days 03:52:12                                                NaN               \n",
      "0 days 03:52:13                                                NaN               \n",
      "0 days 03:52:14                                                NaN               \n",
      "0 days 03:52:15                                                NaN               \n",
      "0 days 03:52:16                                                NaN               \n",
      "\n",
      "                 Format header (>03|04)  \\\n",
      "Indextijd                                 \n",
      "0 days 00:01:12                   03|04   \n",
      "0 days 00:01:13                   03|04   \n",
      "0 days 00:01:14                   03|04   \n",
      "0 days 00:01:15                   03|04   \n",
      "0 days 00:01:16                   03|04   \n",
      "...                                 ...   \n",
      "0 days 03:52:12                     NaN   \n",
      "0 days 03:52:13                     NaN   \n",
      "0 days 03:52:14                     NaN   \n",
      "0 days 03:52:15                     NaN   \n",
      "0 days 03:52:16                     NaN   \n",
      "\n",
      "                Tijdstip laatste verandering cruise control2-knop  \n",
      "Indextijd                                                          \n",
      "0 days 00:01:12                                   0.00000002.5027  \n",
      "0 days 00:01:13                                   0.00000002.5027  \n",
      "0 days 00:01:14                                   0.00000002.5027  \n",
      "0 days 00:01:15                                   0.00000002.5027  \n",
      "0 days 00:01:16                                   0.00000002.5027  \n",
      "...                                                           ...  \n",
      "0 days 03:52:12                                               NaN  \n",
      "0 days 03:52:13                                               NaN  \n",
      "0 days 03:52:14                                               NaN  \n",
      "0 days 03:52:15                                               NaN  \n",
      "0 days 03:52:16                                               NaN  \n",
      "\n",
      "[13865 rows x 57 columns]\n"
     ]
    }
   ],
   "execution_count": 27
  },
  {
   "metadata": {
    "ExecuteTime": {
     "end_time": "2024-10-08T08:00:27.069965Z",
     "start_time": "2024-10-08T08:00:26.928878Z"
    }
   },
   "cell_type": "code",
   "source": [
    "import pandas as pd\n",
    "import matplotlib.pyplot as plt\n",
    "import ipywidgets as widgets\n",
    "from IPython.display import display\n",
    "from sklearn.cluster import KMeans, DBSCAN, AgglomerativeClustering\n",
    "\n",
    "# Functie om een plot te maken (data-analyse)\n",
    "def plot_data(df, column, analysis_type, plot_type):\n",
    "    plt.figure(figsize=(8, 6))\n",
    "\n",
    "    # Statistische analyse\n",
    "    if analysis_type == 'Gemiddelde':\n",
    "        avg = df[column].mean()\n",
    "        plt.axhline(y=avg, color='r', linestyle='--')\n",
    "        plt.title(f\"Gemiddelde van {column}: {avg:.2f}\")\n",
    "    elif analysis_type == 'Mediaan':\n",
    "        median = df[column].median()\n",
    "        plt.axhline(y=median, color='g', linestyle='--')\n",
    "        plt.title(f\"Mediaan van {column}: {median:.2f}\")\n",
    "    elif analysis_type == 'Standaardafwijking':\n",
    "        std_dev = df[column].std()\n",
    "        plt.axhline(y=std_dev, color='b', linestyle='--')\n",
    "        plt.title(f\"Standaardafwijking van {column}: {std_dev:.2f}\")\n",
    "    \n",
    "    # Plot type\n",
    "    if plot_type == 'Lijnplot':\n",
    "        plt.plot(df[column], label=column)\n",
    "        plt.title(f\"Lijnplot van {column}\")\n",
    "        plt.legend()\n",
    "    elif plot_type == 'Scatter Plot':\n",
    "        plt.scatter(range(len(df[column])), df[column], label=column)\n",
    "        plt.title(f\"Scatter Plot van {column}\")\n",
    "        plt.legend()\n",
    "    elif plot_type == 'Balkdiagram':\n",
    "        plt.bar(range(len(df[column])), df[column], label=column)\n",
    "        plt.title(f\"Balkdiagram van {column}\")\n",
    "        plt.legend()\n",
    "    elif plot_type == 'Histogram':\n",
    "        df[column].hist(bins=10)\n",
    "        plt.title(f\"Histogram van {column}\")\n",
    "    \n",
    "    plt.show()\n",
    "\n",
    "# Functie om clustering toe te passen en te plotten\n",
    "def plot_clustering(df, x_column, y_column, algorithm, n_clusters=None, eps=None):\n",
    "    # Afhankelijk van het gekozen algoritme, passen we een ander clustering algoritme toe\n",
    "    if algorithm == 'KMeans':\n",
    "        kmeans = KMeans(n_clusters=n_clusters)\n",
    "        df['Cluster'] = kmeans.fit_predict(df[[x_column, y_column]])\n",
    "    elif algorithm == 'DBSCAN':\n",
    "        dbscan = DBSCAN(eps=eps)\n",
    "        df['Cluster'] = dbscan.fit_predict(df[[x_column, y_column]])\n",
    "    elif algorithm == 'Agglomerative':\n",
    "        agg_clustering = AgglomerativeClustering(n_clusters=n_clusters)\n",
    "        df['Cluster'] = agg_clustering.fit_predict(df[[x_column, y_column]])\n",
    "    \n",
    "    # Plotten van clusters\n",
    "    plt.figure(figsize=(8, 6))\n",
    "    plt.scatter(df[x_column], df[y_column], c=df['Cluster'], cmap='viridis', label='Clusters')\n",
    "    plt.title(f\"{algorithm} Clustering\")\n",
    "    plt.xlabel(x_column)\n",
    "    plt.ylabel(y_column)\n",
    "    plt.colorbar(label='Cluster Label')\n",
    "    plt.show()\n",
    "\n",
    "# GUI opzetten\n",
    "def create_gui():\n",
    "    df = load_sample_data()\n",
    "\n",
    "    # Dropdown menu's voor kolomselectie, statistische analyse en plottype\n",
    "    column_dropdown = widgets.Dropdown(\n",
    "        options=df.columns,\n",
    "        description='Kolom:'\n",
    "    )\n",
    "    \n",
    "    analysis_dropdown = widgets.Dropdown(\n",
    "        options=['Geen', 'Gemiddelde', 'Mediaan', 'Standaardafwijking'],\n",
    "        description='Analyse:'\n",
    "    )\n",
    "    \n",
    "    plot_type_dropdown = widgets.Dropdown(\n",
    "        options=['Lijnplot', 'Scatter Plot', 'Balkdiagram', 'Histogram'],\n",
    "        description='Plot Type:'\n",
    "    )\n",
    "\n",
    "    # Kiezen van kolommen voor clustering\n",
    "    x_column_dropdown = widgets.Dropdown(\n",
    "        options=df.columns,\n",
    "        description='X-as:'\n",
    "    )\n",
    "    y_column_dropdown = widgets.Dropdown(\n",
    "        options=df.columns,\n",
    "        description='Y-as:'\n",
    "    )\n",
    "\n",
    "    # Dropdown voor clustering methoden\n",
    "    algorithm_dropdown = widgets.Dropdown(\n",
    "        options=['KMeans', 'DBSCAN', 'Agglomerative'],\n",
    "        description='Methode:'\n",
    "    )\n",
    "    \n",
    "    # Slider voor aantal clusters (voor KMeans en Agglomerative)\n",
    "    n_clusters_slider = widgets.IntSlider(\n",
    "        value=3,\n",
    "        min=2,\n",
    "        max=10,\n",
    "        step=1,\n",
    "        description='Clusters:'\n",
    "    )\n",
    "    \n",
    "    # Slider voor de epsilon-parameter van DBSCAN (bepaalt hoe dicht de punten bij elkaar moeten liggen om tot hetzelfde cluster te behoren)\n",
    "    eps_slider = widgets.FloatSlider(\n",
    "        value=0.5,\n",
    "        min=0.1,\n",
    "        max=1.0,\n",
    "        step=0.1,\n",
    "        description='Eps (DBSCAN):'\n",
    "    )\n",
    "\n",
    "    # Knoppen om analyses en clustering uit te voeren\n",
    "    plot_button = widgets.Button(\n",
    "        description=\"Plot maken\",\n",
    "        button_style='success'\n",
    "    )\n",
    "    cluster_button = widgets.Button(\n",
    "        description=\"Clustering toepassen\",\n",
    "        button_style='info'\n",
    "    )\n",
    "    \n",
    "    # Output widget voor het weergeven van de plot\n",
    "    output = widgets.Output()\n",
    "\n",
    "    # Functie voor het maken van de analyse plot bij klikken op de knop\n",
    "    def on_plot_button_click(b):\n",
    "        with output:\n",
    "            output.clear_output()\n",
    "            selected_column = column_dropdown.value\n",
    "            selected_analysis = analysis_dropdown.value\n",
    "            selected_plot_type = plot_type_dropdown.value\n",
    "            plot_data(df, selected_column, selected_analysis, selected_plot_type)\n",
    "\n",
    "    # Functie voor het maken van de clustering plot bij klikken op de knop\n",
    "    def on_cluster_button_click(b):\n",
    "        with output:\n",
    "            output.clear_output()\n",
    "            selected_x_column = x_column_dropdown.value\n",
    "            selected_y_column = y_column_dropdown.value\n",
    "            selected_algorithm = algorithm_dropdown.value\n",
    "            \n",
    "            # Bepaal de juiste clustering methode en pas toe\n",
    "            if selected_algorithm == 'KMeans' or selected_algorithm == 'Agglomerative':\n",
    "                n_clusters = n_clusters_slider.value\n",
    "                plot_clustering(df, selected_x_column, selected_y_column, selected_algorithm, n_clusters=n_clusters)\n",
    "            elif selected_algorithm == 'DBSCAN':\n",
    "                eps = eps_slider.value\n",
    "                plot_clustering(df, selected_x_column, selected_y_column, selected_algorithm, eps=eps)\n",
    "\n",
    "    # Verbind knoppen met hun respectievelijke functies\n",
    "    plot_button.on_click(on_plot_button_click)\n",
    "    cluster_button.on_click(on_cluster_button_click)\n",
    "\n",
    "    # Weergeven van de widgets en de output\n",
    "    display(column_dropdown, analysis_dropdown, plot_type_dropdown, plot_button)\n",
    "    display(widgets.HTML(value=\"<hr>\"))  # Scheidingslijn voor duidelijkheid\n",
    "    display(x_column_dropdown, y_column_dropdown, algorithm_dropdown)\n",
    "\n",
    "    # Dynamisch laten zien of slider voor clusters of voor eps getoond moet worden\n",
    "    def update_widgets(change):\n",
    "        if algorithm_dropdown.value == 'DBSCAN':\n",
    "            display(eps_slider)\n",
    "            eps_slider.layout.display = 'block'\n",
    "            n_clusters_slider.layout.display = 'none'\n",
    "        else:\n",
    "            display(n_clusters_slider)\n",
    "            n_clusters_slider.layout.display = 'block'\n",
    "            eps_slider.layout.display = 'none'\n",
    "    \n",
    "    # Koppel de update-functie aan het veranderen van de algoritme-keuze\n",
    "    algorithm_dropdown.observe(update_widgets, names='value')\n",
    "    \n",
    "    display(n_clusters_slider, eps_slider, cluster_button, output)\n",
    "    eps_slider.layout.display = 'none'  # Start met DBSCAN eps slider verborgen\n",
    "\n",
    "# De GUI aanroepen\n",
    "create_gui()\n"
   ],
   "id": "e4302bf7840d69b3",
   "outputs": [
    {
     "data": {
      "text/plain": [
       "Dropdown(description='Kolom:', options=('A', 'B', 'C'), value='A')"
      ],
      "application/vnd.jupyter.widget-view+json": {
       "version_major": 2,
       "version_minor": 0,
       "model_id": "637571621ea74d3491dab2b5db4db8d3"
      }
     },
     "metadata": {},
     "output_type": "display_data"
    },
    {
     "data": {
      "text/plain": [
       "Dropdown(description='Analyse:', options=('Geen', 'Gemiddelde', 'Mediaan', 'Standaardafwijking'), value='Geen'…"
      ],
      "application/vnd.jupyter.widget-view+json": {
       "version_major": 2,
       "version_minor": 0,
       "model_id": "e03663f834f345d7b693b5ecb5e533aa"
      }
     },
     "metadata": {},
     "output_type": "display_data"
    },
    {
     "data": {
      "text/plain": [
       "Dropdown(description='Plot Type:', options=('Lijnplot', 'Scatter Plot', 'Balkdiagram', 'Histogram'), value='Li…"
      ],
      "application/vnd.jupyter.widget-view+json": {
       "version_major": 2,
       "version_minor": 0,
       "model_id": "f1bdca3b3e6c4ceaac9a077a1c638a90"
      }
     },
     "metadata": {},
     "output_type": "display_data"
    },
    {
     "data": {
      "text/plain": [
       "Button(button_style='success', description='Plot maken', style=ButtonStyle())"
      ],
      "application/vnd.jupyter.widget-view+json": {
       "version_major": 2,
       "version_minor": 0,
       "model_id": "e9e7cb8f767442679a954a6f8e1f93c7"
      }
     },
     "metadata": {},
     "output_type": "display_data"
    },
    {
     "data": {
      "text/plain": [
       "HTML(value='<hr>')"
      ],
      "application/vnd.jupyter.widget-view+json": {
       "version_major": 2,
       "version_minor": 0,
       "model_id": "0f17cd04512a464cac5371d36a5a587d"
      }
     },
     "metadata": {},
     "output_type": "display_data"
    },
    {
     "data": {
      "text/plain": [
       "Dropdown(description='X-as:', options=('A', 'B', 'C'), value='A')"
      ],
      "application/vnd.jupyter.widget-view+json": {
       "version_major": 2,
       "version_minor": 0,
       "model_id": "43057229b1834367bb2ec62b74b2a158"
      }
     },
     "metadata": {},
     "output_type": "display_data"
    },
    {
     "data": {
      "text/plain": [
       "Dropdown(description='Y-as:', options=('A', 'B', 'C'), value='A')"
      ],
      "application/vnd.jupyter.widget-view+json": {
       "version_major": 2,
       "version_minor": 0,
       "model_id": "ce2625782455425ea9bfab5b8b502629"
      }
     },
     "metadata": {},
     "output_type": "display_data"
    },
    {
     "data": {
      "text/plain": [
       "Dropdown(description='Methode:', options=('KMeans', 'DBSCAN', 'Agglomerative'), value='KMeans')"
      ],
      "application/vnd.jupyter.widget-view+json": {
       "version_major": 2,
       "version_minor": 0,
       "model_id": "7deffb8b9c404644a7687165cdefdf6d"
      }
     },
     "metadata": {},
     "output_type": "display_data"
    },
    {
     "data": {
      "text/plain": [
       "IntSlider(value=3, description='Clusters:', max=10, min=2)"
      ],
      "application/vnd.jupyter.widget-view+json": {
       "version_major": 2,
       "version_minor": 0,
       "model_id": "588904cea1fa4cd296a434f7dcc64c69"
      }
     },
     "metadata": {},
     "output_type": "display_data"
    },
    {
     "data": {
      "text/plain": [
       "FloatSlider(value=0.5, description='Eps (DBSCAN):', max=1.0, min=0.1)"
      ],
      "application/vnd.jupyter.widget-view+json": {
       "version_major": 2,
       "version_minor": 0,
       "model_id": "e6ca4f338fe94ead80b703876a697ca7"
      }
     },
     "metadata": {},
     "output_type": "display_data"
    },
    {
     "data": {
      "text/plain": [
       "Button(button_style='info', description='Clustering toepassen', style=ButtonStyle())"
      ],
      "application/vnd.jupyter.widget-view+json": {
       "version_major": 2,
       "version_minor": 0,
       "model_id": "7e3282a708db424fbd6a42080d4c28e7"
      }
     },
     "metadata": {},
     "output_type": "display_data"
    },
    {
     "data": {
      "text/plain": [
       "Output()"
      ],
      "application/vnd.jupyter.widget-view+json": {
       "version_major": 2,
       "version_minor": 0,
       "model_id": "4b3a2579b3f24ed1a769b14cea2b6c3d"
      }
     },
     "metadata": {},
     "output_type": "display_data"
    }
   ],
   "execution_count": 28
  },
  {
   "metadata": {
    "ExecuteTime": {
     "end_time": "2024-10-08T08:51:17.859148Z",
     "start_time": "2024-10-08T08:51:17.818469Z"
    }
   },
   "cell_type": "code",
   "source": [
    "import numpy as np\n",
    "import scipy.stats as stats\n",
    "\n",
    "def confidence_interval(data, confidence=0.95):\n",
    "    \"\"\"\n",
    "    Bereken het betrouwbaarheidsinterval voor het gemiddelde van de gegeven data.\n",
    "    \n",
    "    Parameters:\n",
    "    data (list or numpy array): De data waarop het interval moet worden berekend.\n",
    "    confidence (float): Het gewenste betrouwbaarheidsniveau (standaard 95%).\n",
    "    \n",
    "    Returns:\n",
    "    tuple: Een tuple met het (lager, hoger) betrouwbaarheidsinterval.\n",
    "    \"\"\"\n",
    "    # Data omzetten naar een numpy array voor eenvoudige berekeningen\n",
    "    data = np.array(data)\n",
    "    \n",
    "    # Steekproefomvang, gemiddelde en standaardfout\n",
    "    n = len(data)  # Steekproefgrootte\n",
    "    mean = np.mean(data)  # Gemiddelde van de data\n",
    "    stderr = stats.sem(data)  # Standaardfout van het gemiddelde\n",
    "\n",
    "    # Bereken de t-score (voor kleine steekproeven) of z-score (voor grote steekproeven)\n",
    "    t_value = stats.t.ppf((1 + confidence) / 2., n - 1)\n",
    "    \n",
    "    # Bereken het interval\n",
    "    margin_of_error = t_value * stderr\n",
    "    confidence_interval = (mean - margin_of_error, mean + margin_of_error)\n",
    "    \n",
    "    return confidence_interval\n",
    "\n",
    "# Voorbeeldgebruik\n",
    "data = [10, 12, 9, 11, 12, 14, 13, 15, 9, 8]\n",
    "ci = confidence_interval(data)\n",
    "print(f\"95% betrouwbaarheidsinterval: {ci}\")\n"
   ],
   "id": "b6a9c733a629774b",
   "outputs": [
    {
     "name": "stdout",
     "output_type": "stream",
     "text": [
      "95% betrouwbaarheidsinterval: (9.646234005144466, 12.953765994855535)\n"
     ]
    }
   ],
   "execution_count": 29
  },
  {
   "metadata": {
    "ExecuteTime": {
     "end_time": "2024-10-08T08:55:48.791976Z",
     "start_time": "2024-10-08T08:53:40.147402Z"
    }
   },
   "cell_type": "code",
   "source": "import Plotmaken",
   "id": "d1984be66a5c15ec",
   "outputs": [],
   "execution_count": 30
  },
  {
   "metadata": {},
   "cell_type": "code",
   "outputs": [],
   "execution_count": null,
   "source": "",
   "id": "d303629c3abfc1ed"
  }
 ],
 "metadata": {
  "kernelspec": {
   "display_name": "Python 3",
   "language": "python",
   "name": "python3"
  },
  "language_info": {
   "codemirror_mode": {
    "name": "ipython",
    "version": 2
   },
   "file_extension": ".py",
   "mimetype": "text/x-python",
   "name": "python",
   "nbconvert_exporter": "python",
   "pygments_lexer": "ipython2",
   "version": "2.7.6"
  }
 },
 "nbformat": 4,
 "nbformat_minor": 5
}
