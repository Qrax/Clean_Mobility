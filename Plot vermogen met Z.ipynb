{
 "cells": [
  {
   "cell_type": "code",
   "id": "200c6cb5-3b99-4942-80ba-fece84071309",
   "metadata": {
    "tags": [],
    "ExecuteTime": {
     "end_time": "2024-11-10T14:12:23.134605Z",
     "start_time": "2024-11-10T14:12:20.774331Z"
    }
   },
   "source": [
    "import matplotlib.pyplot as plt\n",
    "from mpl_toolkits.mplot3d import Axes3D\n",
    "import numpy as np\n",
    "import pandas as pd\n",
    "from scipy.spatial import cKDTree\n",
    "from math import sqrt, ceil\n",
    "from scipy.stats import linregress\n"
   ],
   "outputs": [],
   "execution_count": 1
  },
  {
   "cell_type": "code",
   "id": "7c69ab67-3836-4435-b6fe-763633e41c56",
   "metadata": {
    "ExecuteTime": {
     "end_time": "2024-11-10T14:12:38.680128Z",
     "start_time": "2024-11-10T14:12:38.660506Z"
    }
   },
   "source": [
    "directory = \"C:/Users\\qvled\\OneDrive - HvA\\Logfiles\\H2A/2023/Nogaro/20230525_h2a_poging1/0002/\"\n",
    "    #\"../../HvA/CleanMobility - E-team/Logfiles/H2A/2023/Nogaro/20230525_h2a_poging1/0002/\"\n",
    "file_master = \"1.csv\"\n",
    "file_motordriver =\"5.csv\"\n",
    "file_FCC = \"4.csv\"\n",
    "file_richting = \"F.csv\""
   ],
   "outputs": [],
   "execution_count": 2
  },
  {
   "metadata": {
    "ExecuteTime": {
     "end_time": "2024-11-10T14:06:30.706890Z",
     "start_time": "2024-11-10T14:06:30.651921Z"
    }
   },
   "cell_type": "code",
   "source": [
    "data_file_motordriver = lib.DataInladenMotorDriver(f'{directory}{file_motordriver}')\n",
    "data_file_master = lib.DataInladen(f'{directory}{file_master}')\n",
    "data_file_FCC = lib.DataInladenFCC(f'{directory}{file_FCC}')\n",
    "data_file_richting = lib.DataInladen(f'{directory}{file_richting}')"
   ],
   "id": "7ae23e556fa2e33d",
   "outputs": [
    {
     "ename": "NameError",
     "evalue": "name 'lib' is not defined",
     "output_type": "error",
     "traceback": [
      "\u001B[1;31m---------------------------------------------------------------------------\u001B[0m",
      "\u001B[1;31mNameError\u001B[0m                                 Traceback (most recent call last)",
      "Cell \u001B[1;32mIn[9], line 1\u001B[0m\n\u001B[1;32m----> 1\u001B[0m data_file_motordriver \u001B[38;5;241m=\u001B[39m \u001B[43mlib\u001B[49m\u001B[38;5;241m.\u001B[39mDataInladenMotorDriver(\u001B[38;5;124mf\u001B[39m\u001B[38;5;124m'\u001B[39m\u001B[38;5;132;01m{\u001B[39;00mdirectory\u001B[38;5;132;01m}\u001B[39;00m\u001B[38;5;132;01m{\u001B[39;00mfile_motordriver\u001B[38;5;132;01m}\u001B[39;00m\u001B[38;5;124m'\u001B[39m)\n\u001B[0;32m      2\u001B[0m data_file_master \u001B[38;5;241m=\u001B[39m lib\u001B[38;5;241m.\u001B[39mDataInladen(\u001B[38;5;124mf\u001B[39m\u001B[38;5;124m'\u001B[39m\u001B[38;5;132;01m{\u001B[39;00mdirectory\u001B[38;5;132;01m}\u001B[39;00m\u001B[38;5;132;01m{\u001B[39;00mfile_master\u001B[38;5;132;01m}\u001B[39;00m\u001B[38;5;124m'\u001B[39m)\n\u001B[0;32m      3\u001B[0m data_file_FCC \u001B[38;5;241m=\u001B[39m lib\u001B[38;5;241m.\u001B[39mDataInladenFCC(\u001B[38;5;124mf\u001B[39m\u001B[38;5;124m'\u001B[39m\u001B[38;5;132;01m{\u001B[39;00mdirectory\u001B[38;5;132;01m}\u001B[39;00m\u001B[38;5;132;01m{\u001B[39;00mfile_FCC\u001B[38;5;132;01m}\u001B[39;00m\u001B[38;5;124m'\u001B[39m)\n",
      "\u001B[1;31mNameError\u001B[0m: name 'lib' is not defined"
     ]
    }
   ],
   "execution_count": 9
  },
  {
   "metadata": {
    "ExecuteTime": {
     "end_time": "2024-11-10T14:12:41.621991Z",
     "start_time": "2024-11-10T14:12:40.574616Z"
    }
   },
   "cell_type": "code",
   "source": [
    "import pandas as pd\n",
    "import matplotlib.pyplot as plt\n",
    "from mpl_toolkits.mplot3d import Axes3D\n",
    "\n",
    "def convert_to_decimal(degrees_minutes, direction):\n",
    "    degrees = int(degrees_minutes[:2])\n",
    "    minutes = float(degrees_minutes[2:])\n",
    "    decimal = degrees + minutes / 60\n",
    "    if direction in ['S', 'W']:\n",
    "        decimal = -decimal\n",
    "    return decimal\n",
    "\n",
    "def lees_gps_data(filepath):\n",
    "    latitudes = []\n",
    "    longitudes = []\n",
    "    hoogtes = []\n",
    "    \n",
    "    with open(filepath, 'r') as file:\n",
    "        for regel in file:\n",
    "            if regel.startswith('$GPGGA'):\n",
    "                delen = regel.split(',')\n",
    "                if len(delen) > 9:\n",
    "                    latitude = delen[2]\n",
    "                    lat_direction = delen[3]\n",
    "                    longitude = delen[4]\n",
    "                    lon_direction = delen[5]\n",
    "                    hoogte = delen[9]\n",
    "                    \n",
    "                    # Converteren van NMEA formaat naar decimale graden\n",
    "                    if latitude and longitude:\n",
    "                        dec_lat = convert_to_decimal(latitude, lat_direction)\n",
    "                        dec_lon = convert_to_decimal(longitude, lon_direction)\n",
    "                        latitudes.append(dec_lat)\n",
    "                        longitudes.append(dec_lon)\n",
    "                        \n",
    "                    # Hoogte extraheren\n",
    "                    try:\n",
    "                        hoogte = float(hoogte)\n",
    "                        hoogtes.append(hoogte)\n",
    "                    except ValueError:\n",
    "                        continue\n",
    "\n",
    "    # Maak een DataFrame van de verzamelde gegevens\n",
    "    data = pd.DataFrame({\n",
    "        'latitude': latitudes,\n",
    "        'longitude': longitudes,\n",
    "        'hoogte': hoogtes\n",
    "    })\n",
    "    return data\n",
    "\n",
    "# Bestandspad instellen\n",
    "file_path = 'C:/Users/qvled/OneDrive - HvA/Clean_Mobility_Files/H2A/Data voor hoogteprofiel.txt'\n",
    "\n",
    "# Lees de GPS-data\n",
    "df = lees_gps_data(file_path)\n"
   ],
   "id": "15db36b9ec57df92",
   "outputs": [],
   "execution_count": 3
  },
  {
   "metadata": {
    "ExecuteTime": {
     "end_time": "2024-11-10T14:45:23.246241Z",
     "start_time": "2024-11-10T14:45:22.512266Z"
    }
   },
   "cell_type": "code",
   "source": [
    "file_path = 'C:/Users/qvled/OneDrive - HvA/Clean_Mobility_Files/H2A/Data voor hoogteprofiel.txt'\n",
    "latitudes, longitudes, hoogtes = lees_gps_data(file_path)\n",
    "\n",
    "def plot_hoogteprofiel(latitudes, longitudes, hoogtes):\n",
    "    fig = plt.figure()\n",
    "    ax = fig.add_subplot(111, projection='3d')\n",
    "    scatter = ax.scatter(longitudes, latitudes, hoogtes, c=hoogtes, cmap='viridis')\n",
    "    ax.set_title('3D Hoogteprofiel')\n",
    "    ax.set_xlabel('Longitude')\n",
    "    ax.set_ylabel('Latitude')\n",
    "    ax.set_zlabel('Hoogte (m)')\n",
    "    plt.show()\n",
    "\n",
    "plot_hoogteprofiel(filtered_df['latitude'], filtered_df['longitude'], filtered_df['hoogte'])\n"
   ],
   "id": "1353eddfc3b5664b",
   "outputs": [],
   "execution_count": 21
  },
  {
   "metadata": {
    "ExecuteTime": {
     "end_time": "2024-11-10T14:25:44.620435Z",
     "start_time": "2024-11-10T14:25:44.609093Z"
    }
   },
   "cell_type": "code",
   "source": [
    "def filter_data(data, min_lon, max_lon, min_lat, max_lat, min_hoogte, max_hoogte):\n",
    "    \"\"\" Filter de punten die zich binnen de gedefinieerde pitstraat coördinaten en irreële hoogtes bevinden. \"\"\"\n",
    "    gefilterde_data = data[\n",
    "        ((data['longitude'] < min_lon) | (data['longitude'] > max_lon) |\n",
    "         (data['latitude'] < min_lat) | (data['latitude'] > max_lat)) &\n",
    "        (data['hoogte'] >= min_hoogte) & (data['hoogte'] <= max_hoogte)\n",
    "    ]\n",
    "    return gefilterde_data\n",
    "\n",
    "# Filtergrenzen instellen\n",
    "min_lon = -0.044\n",
    "max_lon = -0.040\n",
    "min_lat = 0.00025+4.377e1\n",
    "max_lat = 0.0019+4.377e1\n",
    "min_hoogte = 96\n",
    "max_hoogte = 105\n",
    "\n",
    "# Pas de filter toe\n",
    "gefilterde_data = filter_data(df, min_lon, max_lon, min_lat, max_lat, min_hoogte, max_hoogte)\n"
   ],
   "id": "e76943f3dd984e41",
   "outputs": [],
   "execution_count": 9
  },
  {
   "metadata": {
    "ExecuteTime": {
     "end_time": "2024-11-10T14:45:08.509556Z",
     "start_time": "2024-11-10T14:45:08.393126Z"
    }
   },
   "cell_type": "code",
   "source": [
    "%matplotlib qt\n",
    "\n",
    "def plot_hoogteprofiel_2d(latitudes, longitudes, hoogtes):\n",
    "    fig, ax = plt.subplots()\n",
    "    scatter = ax.scatter(longitudes, latitudes, c=hoogtes, cmap='viridis', marker='o')\n",
    "    ax.set_title('2D Hoogteprofiel met Kleuren Heatmap')\n",
    "    ax.set_xlabel('Longitude')\n",
    "    ax.set_ylabel('Latitude')\n",
    "    cbar = fig.colorbar(scatter, ax=ax)\n",
    "    cbar.set_label('Hoogte (m)')\n",
    "    plt.grid(True)\n",
    "    plt.show()\n",
    "\n",
    "plot_hoogteprofiel_2d(filtered_df['latitude'], filtered_df['longitude'], filtered_df['hoogte'])\n"
   ],
   "id": "180bef76ae50d59f",
   "outputs": [],
   "execution_count": 20
  },
  {
   "metadata": {
    "ExecuteTime": {
     "end_time": "2024-11-10T14:40:50.199561Z",
     "start_time": "2024-11-10T14:40:50.191627Z"
    }
   },
   "cell_type": "code",
   "source": [
    "import pandas as pd\n",
    "import numpy as np\n",
    "\n",
    "def calculate_distance(lat1, lon1, lat2, lon2):\n",
    "    return np.sqrt((lat2 - lat1) ** 2 + (lon2 - lon1) ** 2)\n",
    "\n",
    "def find_nearest_index(df, target_lon, target_lat):\n",
    "    distances = df.apply(lambda row: calculate_distance(row['latitude'], row['longitude'], target_lat, target_lon), axis=1)\n",
    "    return distances.idxmin()\n"
   ],
   "id": "7e1a6def772ca39f",
   "outputs": [],
   "execution_count": 11
  },
  {
   "metadata": {
    "ExecuteTime": {
     "end_time": "2024-11-10T14:40:55.000792Z",
     "start_time": "2024-11-10T14:40:54.974654Z"
    }
   },
   "cell_type": "code",
   "source": [
    "def filter_track_data(df, start_lon, start_lat, end_lon, end_lat):\n",
    "    start_index = find_nearest_index(df, start_lon, start_lat)\n",
    "    end_index = find_nearest_index(df, end_lon, end_lat)\n",
    "    \n",
    "    # Zorg ervoor dat de start_index voor de end_index komt\n",
    "    if start_index > end_index:\n",
    "        start_index, end_index = end_index, start_index\n",
    "    \n",
    "    return df.iloc[start_index:end_index + 1]\n"
   ],
   "id": "a2dba2efa8fea91f",
   "outputs": [],
   "execution_count": 12
  },
  {
   "metadata": {
    "ExecuteTime": {
     "end_time": "2024-11-10T14:44:00.013242Z",
     "start_time": "2024-11-10T14:43:58.058882Z"
    }
   },
   "cell_type": "code",
   "source": [
    "# Definieer de coördinaten voor het start- en eindpunt\n",
    "start_lon = -0.0445\n",
    "start_lat = 0.0019 + 4.377e1\n",
    "end_lon = -0.040\n",
    "end_lat = 0.00025 + 4.377e1\n",
    "\n",
    "# Veronderstel dat 'df' je DataFrame is met de relevante data\n",
    "filtered_df = filter_track_data(df, start_lon, start_lat, end_lon, end_lat)\n",
    "\n",
    "# Print het gefilterde DataFrame om te controleren\n",
    "print(filtered_df)\n"
   ],
   "id": "53c02e2bcb1bd8a",
   "outputs": [
    {
     "name": "stdout",
     "output_type": "stream",
     "text": [
      "        latitude  longitude  hoogte\n",
      "22325  43.771927  -0.044494   102.0\n",
      "22326  43.771929  -0.044500   102.0\n",
      "22327  43.771929  -0.044507   102.0\n",
      "22328  43.771931  -0.044513   102.0\n",
      "22329  43.771932  -0.044520   102.0\n",
      "...          ...        ...     ...\n",
      "43080  43.770278  -0.039973    98.0\n",
      "43081  43.770276  -0.039981    98.0\n",
      "43082  43.770274  -0.039989    98.0\n",
      "43083  43.770273  -0.039997    98.0\n",
      "43084  43.770271  -0.040005    98.0\n",
      "\n",
      "[20760 rows x 3 columns]\n"
     ]
    }
   ],
   "execution_count": 17
  },
  {
   "metadata": {
    "ExecuteTime": {
     "end_time": "2024-11-10T14:48:22.649694Z",
     "start_time": "2024-11-10T14:48:22.335980Z"
    }
   },
   "cell_type": "code",
   "source": [
    "%matplotlib qt\n",
    "\n",
    "def plot_hoogteprofiel_2d(latitudes, longitudes, hoogtes):\n",
    "    fig, ax = plt.subplots()\n",
    "    scatter = ax.scatter(longitudes, latitudes, c=hoogtes, cmap='viridis', marker='o')\n",
    "    ax.set_title('Hoogteprofiel van racebaan Nogaro')\n",
    "    ax.set_xlabel('Longitude')\n",
    "    ax.set_ylabel('Latitude')\n",
    "    cbar = fig.colorbar(scatter, ax=ax)\n",
    "    cbar.set_label('Hoogte boven zeeniveau (m)')\n",
    "    plt.grid(True)\n",
    "    plt.show()\n",
    "\n",
    "plot_hoogteprofiel_2d(filtered_df['latitude'], filtered_df['longitude'], filtered_df['hoogte'])"
   ],
   "id": "52939fdfbd0cae45",
   "outputs": [],
   "execution_count": 24
  },
  {
   "metadata": {},
   "cell_type": "code",
   "outputs": [],
   "execution_count": null,
   "source": "",
   "id": "76a618be63353051"
  }
 ],
 "metadata": {
  "kernelspec": {
   "display_name": "Python 3",
   "language": "python",
   "name": "python3"
  },
  "language_info": {
   "codemirror_mode": {
    "name": "ipython",
    "version": 3
   },
   "file_extension": ".py",
   "mimetype": "text/x-python",
   "name": "python",
   "nbconvert_exporter": "python",
   "pygments_lexer": "ipython3",
   "version": "3.8.8"
  }
 },
 "nbformat": 4,
 "nbformat_minor": 5
}
