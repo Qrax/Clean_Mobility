{
 "cells": [
  {
   "cell_type": "code",
   "id": "200c6cb5-3b99-4942-80ba-fece84071309",
   "metadata": {
    "tags": [],
    "jupyter": {
     "is_executing": true
    }
   },
   "source": [
    "import matplotlib.pyplot as plt\n",
    "import numpy as np\n",
    "import pandas as pd\n",
    "import os\n",
    "import copy\n",
    "from math import sqrt,ceil\n",
    "from scipy.stats import linregress"
   ],
   "outputs": [],
   "execution_count": null
  },
  {
   "cell_type": "code",
   "id": "7c69ab67-3836-4435-b6fe-763633e41c56",
   "metadata": {
    "jupyter": {
     "is_executing": true
    }
   },
   "source": [
    "directory = \"../Data clean mobility/Data H2a/0022 - 20220701T083421 3h51m4s 30.541km Nogaro\"\n",
    "file = \"REV2_FCC1_29_02_2024_vast_vermogen_40W\""
   ],
   "outputs": [],
   "execution_count": null
  },
  {
   "cell_type": "code",
   "id": "3cb2ddd7-f7c3-444b-bcf2-e85ec2ac6234",
   "metadata": {
    "collapsed": true,
    "jupyter": {
     "outputs_hidden": true,
     "source_hidden": true,
     "is_executing": true
    },
    "tags": []
   },
   "source": [
    "data = np.genfromtxt(f'{directory}{file}', delimiter=',', dtype=None, encoding='latin1', filling_values=np.NaN)"
   ],
   "outputs": [],
   "execution_count": null
  },
  {
   "cell_type": "code",
   "id": "1b88720b-f384-4544-92f6-447920b77bbf",
   "metadata": {
    "collapsed": true,
    "jupyter": {
     "outputs_hidden": true,
     "source_hidden": true
    },
    "tags": []
   },
   "source": [
    "print(data[0,3])\n",
    "for i in range(len(data[0,:])):\n",
    "    plt.plot(data[0:10000,i])\n",
    "    plt.show()\n",
    "#plt.plot(data[0:100000,13])"
   ],
   "outputs": [],
   "execution_count": null
  },
  {
   "cell_type": "code",
   "id": "6494a8e9-8f93-4785-b19a-63e3780574be",
   "metadata": {},
   "source": [
    "df = pd.read_csv(f'{directory}{file}' , delimiter=',', \n",
    "                 na_values=['nan', 'NAN', 'NaN'],  # Strings die als NaN moeten worden geïnterpreteerd\n",
    "                 #thousands='.',  # Als komma's als duizendtalscheiders worden gebruikt\n",
    "                 decimal=',',  # Als punten als decimaalteken worden gebruikt\n",
    "                 encoding='latin1', \n",
    "                 #usecols=[1],  # Selecteer alleen de eerste kolom\n",
    "                 skiprows=0)"
   ],
   "outputs": [],
   "execution_count": null
  },
  {
   "cell_type": "code",
   "id": "f872b21f-bbde-4d8a-9f37-f2fec495b995",
   "metadata": {},
   "source": [
    "df.head()"
   ],
   "outputs": [],
   "execution_count": null
  },
  {
   "cell_type": "code",
   "id": "51d68bb7-3614-4f99-949e-6ed8398794ad",
   "metadata": {},
   "source": [
    "print(df.iloc[11,1])\n",
    "for i in range(1,len(df.iloc[0,:])):\n",
    "    plt.plot(df.iloc[:,0],df.iloc[:,i])\n",
    "    plt.show()\n",
    "#print(df.iloc[:,1]-df.iloc[0,1])"
   ],
   "outputs": [],
   "execution_count": null
  }
 ],
 "metadata": {
  "kernelspec": {
   "display_name": "Python 3",
   "language": "python",
   "name": "python3"
  },
  "language_info": {
   "codemirror_mode": {
    "name": "ipython",
    "version": 3
   },
   "file_extension": ".py",
   "mimetype": "text/x-python",
   "name": "python",
   "nbconvert_exporter": "python",
   "pygments_lexer": "ipython3",
   "version": "3.8.8"
  }
 },
 "nbformat": 4,
 "nbformat_minor": 5
}
