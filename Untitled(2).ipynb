{
 "cells": [
  {
   "cell_type": "code",
   "id": "200c6cb5-3b99-4942-80ba-fece84071309",
   "metadata": {
    "tags": [],
    "ExecuteTime": {
     "end_time": "2024-09-13T17:52:48.062579Z",
     "start_time": "2024-09-13T17:52:46.541927Z"
    }
   },
   "source": [
    "import matplotlib.pyplot as plt\n",
    "import numpy as np\n",
    "import pandas as pd\n",
    "import os\n",
    "import copy\n",
    "from math import sqrt,ceil\n",
    "from scipy.stats import linregress"
   ],
   "outputs": [],
   "execution_count": 1
  },
  {
   "cell_type": "code",
   "id": "7c69ab67-3836-4435-b6fe-763633e41c56",
   "metadata": {
    "ExecuteTime": {
     "end_time": "2024-09-13T17:58:40.057656Z",
     "start_time": "2024-09-13T17:58:40.052125Z"
    }
   },
   "source": [
    "directory = \"../Data/0022 - 20220701T083421 3h51m4s 30.541km Nogaro/\"\n",
    "file = \"1.csv\""
   ],
   "outputs": [],
   "execution_count": 4
  },
  {
   "cell_type": "code",
   "id": "3cb2ddd7-f7c3-444b-bcf2-e85ec2ac6234",
   "metadata": {
    "collapsed": true,
    "jupyter": {
     "outputs_hidden": true,
     "source_hidden": true
    },
    "tags": [],
    "ExecuteTime": {
     "end_time": "2024-09-13T17:58:42.300270Z",
     "start_time": "2024-09-13T17:58:41.065089Z"
    }
   },
   "source": [
    "data = np.genfromtxt(f'{directory}{file}', delimiter=',', dtype=None, encoding='latin1', filling_values=np.NaN)"
   ],
   "outputs": [],
   "execution_count": 5
  },
  {
   "metadata": {
    "ExecuteTime": {
     "end_time": "2024-09-13T17:59:02.347043Z",
     "start_time": "2024-09-13T17:59:02.336815Z"
    }
   },
   "cell_type": "code",
   "source": "data",
   "id": "99a7225cd383d27e",
   "outputs": [
    {
     "data": {
      "text/plain": [
       "array([(1,    72.2299, '08|03', '$GPRMC',  63421., 'A', 4346.2325, 'N', 2.5027, 'W', 0., 195. , 10722,  True,  True, 'A', 1100000011,  True,  True,  True,  True,  True,  True,  True,  True),\n",
       "       (1,    73.2213, '08|03', '$GPRMC',  63422., 'A', 4346.2325, 'N', 2.5027, 'W', 0., 195. , 10722,  True,  True, 'A', 1100000011,  True,  True,  True,  True,  True,  True,  True,  True),\n",
       "       (1,    74.2258, '08|03', '$GPRMC',  63423., 'A', 4346.2325, 'N', 2.5027, 'W', 0., 195. , 10722,  True,  True, 'A', 1100000011,  True,  True,  True,  True,  True,  True,  True,  True),\n",
       "       ...,\n",
       "       (1, 13934.041 , '08|03', '$GPRMC', 102523., 'A', 4346.3056, 'N', 2.5465, 'W', 0., 162.3, 10722,  True,  True, 'A', 1100000011,  True,  True,  True,  True,  True,  True,  True,  True),\n",
       "       (1, 13935.072 , '08|03', '$GPRMC', 102524., 'A', 4346.3056, 'N', 2.5465, 'W', 0., 162.3, 10722,  True,  True, 'A', 1100000011,  True,  True,  True,  True,  True,  True,  True,  True),\n",
       "       (1, 13936.0506, '08|03', '$GPRMC', 102525., 'A', 4346.3056, 'N', 2.5465, 'W', 0., 162.3, 10722,  True,  True, 'A', 1100000011,  True,  True,  True,  True,  True,  True,  True,  True)],\n",
       "      dtype=[('f0', '<i4'), ('f1', '<f8'), ('f2', '<U5'), ('f3', '<U6'), ('f4', '<f8'), ('f5', '<U1'), ('f6', '<f8'), ('f7', '<U1'), ('f8', '<f8'), ('f9', '<U1'), ('f10', '<f8'), ('f11', '<f8'), ('f12', '<i4'), ('f13', '?'), ('f14', '?'), ('f15', '<U1'), ('f16', '<i4'), ('f17', '?'), ('f18', '?'), ('f19', '?'), ('f20', '?'), ('f21', '?'), ('f22', '?'), ('f23', '?'), ('f24', '?')])"
      ]
     },
     "execution_count": 8,
     "metadata": {},
     "output_type": "execute_result"
    }
   ],
   "execution_count": 8
  },
  {
   "cell_type": "code",
   "id": "1b88720b-f384-4544-92f6-447920b77bbf",
   "metadata": {
    "collapsed": true,
    "jupyter": {
     "outputs_hidden": true,
     "source_hidden": true
    },
    "tags": [],
    "ExecuteTime": {
     "end_time": "2024-09-13T17:58:44.919875Z",
     "start_time": "2024-09-13T17:58:44.906546Z"
    }
   },
   "source": [
    "print(data[0,3])\n",
    "for i in range(len(data[0,:])):\n",
    "    plt.plot(data[0:10000,i])\n",
    "    plt.show()\n",
    "#plt.plot(data[0:100000,13])"
   ],
   "outputs": [
    {
     "ename": "IndexError",
     "evalue": "too many indices for array: array is 1-dimensional, but 2 were indexed",
     "output_type": "error",
     "traceback": [
      "\u001B[1;31m---------------------------------------------------------------------------\u001B[0m",
      "\u001B[1;31mIndexError\u001B[0m                                Traceback (most recent call last)",
      "\u001B[1;32m<ipython-input-6-b1a6a78f31af>\u001B[0m in \u001B[0;36m<module>\u001B[1;34m\u001B[0m\n\u001B[1;32m----> 1\u001B[1;33m \u001B[0mprint\u001B[0m\u001B[1;33m(\u001B[0m\u001B[0mdata\u001B[0m\u001B[1;33m[\u001B[0m\u001B[1;36m0\u001B[0m\u001B[1;33m,\u001B[0m\u001B[1;36m3\u001B[0m\u001B[1;33m]\u001B[0m\u001B[1;33m)\u001B[0m\u001B[1;33m\u001B[0m\u001B[1;33m\u001B[0m\u001B[0m\n\u001B[0m\u001B[0;32m      2\u001B[0m \u001B[1;32mfor\u001B[0m \u001B[0mi\u001B[0m \u001B[1;32min\u001B[0m \u001B[0mrange\u001B[0m\u001B[1;33m(\u001B[0m\u001B[0mlen\u001B[0m\u001B[1;33m(\u001B[0m\u001B[0mdata\u001B[0m\u001B[1;33m[\u001B[0m\u001B[1;36m0\u001B[0m\u001B[1;33m,\u001B[0m\u001B[1;33m:\u001B[0m\u001B[1;33m]\u001B[0m\u001B[1;33m)\u001B[0m\u001B[1;33m)\u001B[0m\u001B[1;33m:\u001B[0m\u001B[1;33m\u001B[0m\u001B[1;33m\u001B[0m\u001B[0m\n\u001B[0;32m      3\u001B[0m     \u001B[0mplt\u001B[0m\u001B[1;33m.\u001B[0m\u001B[0mplot\u001B[0m\u001B[1;33m(\u001B[0m\u001B[0mdata\u001B[0m\u001B[1;33m[\u001B[0m\u001B[1;36m0\u001B[0m\u001B[1;33m:\u001B[0m\u001B[1;36m10000\u001B[0m\u001B[1;33m,\u001B[0m\u001B[0mi\u001B[0m\u001B[1;33m]\u001B[0m\u001B[1;33m)\u001B[0m\u001B[1;33m\u001B[0m\u001B[1;33m\u001B[0m\u001B[0m\n\u001B[0;32m      4\u001B[0m     \u001B[0mplt\u001B[0m\u001B[1;33m.\u001B[0m\u001B[0mshow\u001B[0m\u001B[1;33m(\u001B[0m\u001B[1;33m)\u001B[0m\u001B[1;33m\u001B[0m\u001B[1;33m\u001B[0m\u001B[0m\n\u001B[0;32m      5\u001B[0m \u001B[1;31m#plt.plot(data[0:100000,13])\u001B[0m\u001B[1;33m\u001B[0m\u001B[1;33m\u001B[0m\u001B[1;33m\u001B[0m\u001B[0m\n",
      "\u001B[1;31mIndexError\u001B[0m: too many indices for array: array is 1-dimensional, but 2 were indexed"
     ]
    }
   ],
   "execution_count": 6
  },
  {
   "cell_type": "code",
   "id": "6494a8e9-8f93-4785-b19a-63e3780574be",
   "metadata": {},
   "source": [
    "df = pd.read_csv(f'{directory}{file}' , delimiter=',', \n",
    "                 na_values=['nan', 'NAN', 'NaN'],  # Strings die als NaN moeten worden geïnterpreteerd\n",
    "                 #thousands='.',  # Als komma's als duizendtalscheiders worden gebruikt\n",
    "                 decimal=',',  # Als punten als decimaalteken worden gebruikt\n",
    "                 encoding='latin1', \n",
    "                 #usecols=[1],  # Selecteer alleen de eerste kolom\n",
    "                 skiprows=0)"
   ],
   "outputs": [],
   "execution_count": null
  },
  {
   "cell_type": "code",
   "id": "f872b21f-bbde-4d8a-9f37-f2fec495b995",
   "metadata": {},
   "source": [
    "df.head()"
   ],
   "outputs": [],
   "execution_count": null
  },
  {
   "cell_type": "code",
   "id": "51d68bb7-3614-4f99-949e-6ed8398794ad",
   "metadata": {},
   "source": [
    "print(df.iloc[11,1])\n",
    "for i in range(1,len(df.iloc[0,:])):\n",
    "    plt.plot(df.iloc[:,0],df.iloc[:,i])\n",
    "    plt.show()\n",
    "#print(df.iloc[:,1]-df.iloc[0,1])"
   ],
   "outputs": [],
   "execution_count": null
  }
 ],
 "metadata": {
  "kernelspec": {
   "display_name": "Python 3",
   "language": "python",
   "name": "python3"
  },
  "language_info": {
   "codemirror_mode": {
    "name": "ipython",
    "version": 3
   },
   "file_extension": ".py",
   "mimetype": "text/x-python",
   "name": "python",
   "nbconvert_exporter": "python",
   "pygments_lexer": "ipython3",
   "version": "3.8.8"
  }
 },
 "nbformat": 4,
 "nbformat_minor": 5
}
