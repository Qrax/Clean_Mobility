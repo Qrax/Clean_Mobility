{
 "cells": [
  {
   "cell_type": "code",
   "id": "200c6cb5-3b99-4942-80ba-fece84071309",
   "metadata": {
    "tags": [],
    "ExecuteTime": {
     "end_time": "2024-09-24T11:54:55.817800Z",
     "start_time": "2024-09-24T11:54:53.625241Z"
    }
   },
   "source": [
    "import matplotlib.pyplot as plt\n",
    "import numpy as np\n",
    "import pandas as pd\n",
    "import os\n",
    "import copy\n",
    "from math import sqrt,ceil\n",
    "\n",
    "from rope.base.oi.soa import analyze_module\n",
    "from scipy.stats import linregress\n",
    "import libraries as lib"
   ],
   "outputs": [],
   "execution_count": 1
  },
  {
   "cell_type": "code",
   "id": "7c69ab67-3836-4435-b6fe-763633e41c56",
   "metadata": {
    "ExecuteTime": {
     "end_time": "2024-09-24T12:10:24.489111Z",
     "start_time": "2024-09-24T12:10:24.484098Z"
    }
   },
   "source": [
    "directory = \"../../../OneDrive - HvA/Logfiles/SOLAR/2023/20230615_testvaart_Amstel/0014 - 20230615T131248 3h14m8s 22.186km Duivendrecht\"\n",
    "file = \"1.csv\""
   ],
   "outputs": [],
   "execution_count": 19
  },
  {
   "metadata": {
    "ExecuteTime": {
     "end_time": "2024-09-24T12:14:05.904331Z",
     "start_time": "2024-09-24T12:14:05.788850Z"
    }
   },
   "cell_type": "code",
   "source": [
    "data_file = lib.DataInladen(f'{directory}/{file}')\n",
    "data_file"
   ],
   "id": "f5528a29228fc98e",
   "outputs": [
    {
     "name": "stdout",
     "output_type": "stream",
     "text": [
      "08|04\n",
      "   1  331.7514  08|04   $GPRMC  111248.000  A  5219.8936  N  00453.9587  E  \\\n",
      "0  1  332.7614  08|04   $GPRMC    111249.0  A  5219.8936  N    453.9587  E   \n",
      "1  1  333.7367  08|04   $GPRMC    111250.0  A  5219.8936  N    453.9587  E   \n",
      "2  1  334.7538  08|04   $GPRMC    111251.0  A  5219.8936  N    453.9587  E   \n",
      "3  1  335.7802  08|04   $GPRMC    111252.0  A  5219.8936  N    453.9587  E   \n",
      "4  1  336.7533  08|04   $GPRMC    111253.0  A  5219.8936  N    453.9587  E   \n",
      "\n",
      "   0.0  221.6  150623  Unnamed: 13  Unnamed: 14 A.1  000111001011  0.00  \n",
      "0  0.0  221.6  150623          NaN          NaN   A     111001011   0.0  \n",
      "1  0.0  221.6  150623          NaN          NaN   A     111001011   0.0  \n",
      "2  0.0  221.6  150623          NaN          NaN   A     111001011   0.0  \n",
      "3  0.0  221.6  150623          NaN          NaN   A     111001011   0.0  \n",
      "4  0.0  221.6  150623          NaN          NaN   A     111001011   0.0  \n",
      "['Datalogger port', 'Dataloggertijd, in s', 'Format header (>08|04)', 'NMEA type($GPRMC)', 'Tijd', 'Status', 'Latitude', 'Noord of Zuid (N/S)', 'Longitude', 'Oost of West (E/W)', 'Snelheid over de grond in km/h', 'Richting van de snelheid', 'Datum', 'Magnetische variatie', 'Magnetische directie', 'Mode indicator (A)', 'Data in balancers', 'Snelheid tenopzichte van het water in km/u', 'Checksum']\n",
      "19\n",
      "1 Datalogger port\n",
      "2 Dataloggertijd, in s\n",
      "3 Format header (>08|04)\n",
      "4 NMEA type($GPRMC)\n",
      "5 Tijd\n",
      "6 Status\n",
      "7 Latitude\n",
      "8 Noord of Zuid (N/S)\n",
      "9 Longitude\n",
      "10 Oost of West (E/W)\n",
      "11 Snelheid over de grond in km/h\n",
      "12 Richting van de snelheid\n",
      "13 Datum\n",
      "14 Magnetische variatie\n",
      "15 Magnetische directie\n",
      "16 Mode indicator (A)\n",
      "17 Data in balancers\n",
      "18 Snelheid tenopzichte van het water in km/u\n",
      "19 Checksum\n"
     ]
    },
    {
     "data": {
      "text/plain": "       Datalogger port  Dataloggertijd, in s Format header (>08|04)  \\\n0                    1              332.7614                  08|04   \n1                    1              333.7367                  08|04   \n2                    1              334.7538                  08|04   \n3                    1              335.7802                  08|04   \n4                    1              336.7533                  08|04   \n...                ...                   ...                    ...   \n11643                1            11975.8896                  08|04   \n11644                1            11976.8664                  08|04   \n11645                1            11977.8414                  08|04   \n11646                1            11978.8763                  08|04   \n11647                1            11979.8387                  08|04   \n\n      NMEA type($GPRMC)      Tijd Status   Latitude Noord of Zuid (N/S)  \\\n0                $GPRMC  111249.0      A  5219.8936                   N   \n1                $GPRMC  111250.0      A  5219.8936                   N   \n2                $GPRMC  111251.0      A  5219.8936                   N   \n3                $GPRMC  111252.0      A  5219.8936                   N   \n4                $GPRMC  111253.0      A  5219.8936                   N   \n...                 ...       ...    ...        ...                 ...   \n11643            $GPRMC  142652.0      A  5219.9052                   N   \n11644            $GPRMC  142653.0      A  5219.9052                   N   \n11645            $GPRMC  142654.0      A  5219.9052                   N   \n11646            $GPRMC  142655.0      A  5219.9052                   N   \n11647            $GPRMC  142656.0      A  5219.9052                   N   \n\n       Longitude Oost of West (E/W)  Snelheid over de grond in km/h  \\\n0       453.9587                  E                             0.0   \n1       453.9587                  E                             0.0   \n2       453.9587                  E                             0.0   \n3       453.9587                  E                             0.0   \n4       453.9587                  E                             0.0   \n...          ...                ...                             ...   \n11643   453.9402                  E                             0.0   \n11644   453.9402                  E                             0.0   \n11645   453.9402                  E                             0.0   \n11646   453.9402                  E                             0.0   \n11647   453.9402                  E                             0.0   \n\n       Richting van de snelheid   Datum  Magnetische variatie  \\\n0                         221.6  150623                   NaN   \n1                         221.6  150623                   NaN   \n2                         221.6  150623                   NaN   \n3                         221.6  150623                   NaN   \n4                         221.6  150623                   NaN   \n...                         ...     ...                   ...   \n11643                       1.9  150623                   NaN   \n11644                       1.9  150623                   NaN   \n11645                       1.9  150623                   NaN   \n11646                       1.9  150623                   NaN   \n11647                       1.9  150623                   NaN   \n\n       Magnetische directie Mode indicator (A)  Data in balancers  \\\n0                       NaN                  A          111001011   \n1                       NaN                  A          111001011   \n2                       NaN                  A          111001011   \n3                       NaN                  A          111001011   \n4                       NaN                  A          111001011   \n...                     ...                ...                ...   \n11643                   NaN                  D          111001011   \n11644                   NaN                  D          111001011   \n11645                   NaN                  D          111001011   \n11646                   NaN                  D          111001011   \n11647                   NaN                  D          111001011   \n\n       Snelheid tenopzichte van het water in km/u  \n0                                             0.0  \n1                                             0.0  \n2                                             0.0  \n3                                             0.0  \n4                                             0.0  \n...                                           ...  \n11643                                         0.0  \n11644                                         0.0  \n11645                                         0.0  \n11646                                         0.0  \n11647                                         0.0  \n\n[11648 rows x 18 columns]",
      "text/html": "<div>\n<style scoped>\n    .dataframe tbody tr th:only-of-type {\n        vertical-align: middle;\n    }\n\n    .dataframe tbody tr th {\n        vertical-align: top;\n    }\n\n    .dataframe thead th {\n        text-align: right;\n    }\n</style>\n<table border=\"1\" class=\"dataframe\">\n  <thead>\n    <tr style=\"text-align: right;\">\n      <th></th>\n      <th>Datalogger port</th>\n      <th>Dataloggertijd, in s</th>\n      <th>Format header (&gt;08|04)</th>\n      <th>NMEA type($GPRMC)</th>\n      <th>Tijd</th>\n      <th>Status</th>\n      <th>Latitude</th>\n      <th>Noord of Zuid (N/S)</th>\n      <th>Longitude</th>\n      <th>Oost of West (E/W)</th>\n      <th>Snelheid over de grond in km/h</th>\n      <th>Richting van de snelheid</th>\n      <th>Datum</th>\n      <th>Magnetische variatie</th>\n      <th>Magnetische directie</th>\n      <th>Mode indicator (A)</th>\n      <th>Data in balancers</th>\n      <th>Snelheid tenopzichte van het water in km/u</th>\n    </tr>\n  </thead>\n  <tbody>\n    <tr>\n      <th>0</th>\n      <td>1</td>\n      <td>332.7614</td>\n      <td>08|04</td>\n      <td>$GPRMC</td>\n      <td>111249.0</td>\n      <td>A</td>\n      <td>5219.8936</td>\n      <td>N</td>\n      <td>453.9587</td>\n      <td>E</td>\n      <td>0.0</td>\n      <td>221.6</td>\n      <td>150623</td>\n      <td>NaN</td>\n      <td>NaN</td>\n      <td>A</td>\n      <td>111001011</td>\n      <td>0.0</td>\n    </tr>\n    <tr>\n      <th>1</th>\n      <td>1</td>\n      <td>333.7367</td>\n      <td>08|04</td>\n      <td>$GPRMC</td>\n      <td>111250.0</td>\n      <td>A</td>\n      <td>5219.8936</td>\n      <td>N</td>\n      <td>453.9587</td>\n      <td>E</td>\n      <td>0.0</td>\n      <td>221.6</td>\n      <td>150623</td>\n      <td>NaN</td>\n      <td>NaN</td>\n      <td>A</td>\n      <td>111001011</td>\n      <td>0.0</td>\n    </tr>\n    <tr>\n      <th>2</th>\n      <td>1</td>\n      <td>334.7538</td>\n      <td>08|04</td>\n      <td>$GPRMC</td>\n      <td>111251.0</td>\n      <td>A</td>\n      <td>5219.8936</td>\n      <td>N</td>\n      <td>453.9587</td>\n      <td>E</td>\n      <td>0.0</td>\n      <td>221.6</td>\n      <td>150623</td>\n      <td>NaN</td>\n      <td>NaN</td>\n      <td>A</td>\n      <td>111001011</td>\n      <td>0.0</td>\n    </tr>\n    <tr>\n      <th>3</th>\n      <td>1</td>\n      <td>335.7802</td>\n      <td>08|04</td>\n      <td>$GPRMC</td>\n      <td>111252.0</td>\n      <td>A</td>\n      <td>5219.8936</td>\n      <td>N</td>\n      <td>453.9587</td>\n      <td>E</td>\n      <td>0.0</td>\n      <td>221.6</td>\n      <td>150623</td>\n      <td>NaN</td>\n      <td>NaN</td>\n      <td>A</td>\n      <td>111001011</td>\n      <td>0.0</td>\n    </tr>\n    <tr>\n      <th>4</th>\n      <td>1</td>\n      <td>336.7533</td>\n      <td>08|04</td>\n      <td>$GPRMC</td>\n      <td>111253.0</td>\n      <td>A</td>\n      <td>5219.8936</td>\n      <td>N</td>\n      <td>453.9587</td>\n      <td>E</td>\n      <td>0.0</td>\n      <td>221.6</td>\n      <td>150623</td>\n      <td>NaN</td>\n      <td>NaN</td>\n      <td>A</td>\n      <td>111001011</td>\n      <td>0.0</td>\n    </tr>\n    <tr>\n      <th>...</th>\n      <td>...</td>\n      <td>...</td>\n      <td>...</td>\n      <td>...</td>\n      <td>...</td>\n      <td>...</td>\n      <td>...</td>\n      <td>...</td>\n      <td>...</td>\n      <td>...</td>\n      <td>...</td>\n      <td>...</td>\n      <td>...</td>\n      <td>...</td>\n      <td>...</td>\n      <td>...</td>\n      <td>...</td>\n      <td>...</td>\n    </tr>\n    <tr>\n      <th>11643</th>\n      <td>1</td>\n      <td>11975.8896</td>\n      <td>08|04</td>\n      <td>$GPRMC</td>\n      <td>142652.0</td>\n      <td>A</td>\n      <td>5219.9052</td>\n      <td>N</td>\n      <td>453.9402</td>\n      <td>E</td>\n      <td>0.0</td>\n      <td>1.9</td>\n      <td>150623</td>\n      <td>NaN</td>\n      <td>NaN</td>\n      <td>D</td>\n      <td>111001011</td>\n      <td>0.0</td>\n    </tr>\n    <tr>\n      <th>11644</th>\n      <td>1</td>\n      <td>11976.8664</td>\n      <td>08|04</td>\n      <td>$GPRMC</td>\n      <td>142653.0</td>\n      <td>A</td>\n      <td>5219.9052</td>\n      <td>N</td>\n      <td>453.9402</td>\n      <td>E</td>\n      <td>0.0</td>\n      <td>1.9</td>\n      <td>150623</td>\n      <td>NaN</td>\n      <td>NaN</td>\n      <td>D</td>\n      <td>111001011</td>\n      <td>0.0</td>\n    </tr>\n    <tr>\n      <th>11645</th>\n      <td>1</td>\n      <td>11977.8414</td>\n      <td>08|04</td>\n      <td>$GPRMC</td>\n      <td>142654.0</td>\n      <td>A</td>\n      <td>5219.9052</td>\n      <td>N</td>\n      <td>453.9402</td>\n      <td>E</td>\n      <td>0.0</td>\n      <td>1.9</td>\n      <td>150623</td>\n      <td>NaN</td>\n      <td>NaN</td>\n      <td>D</td>\n      <td>111001011</td>\n      <td>0.0</td>\n    </tr>\n    <tr>\n      <th>11646</th>\n      <td>1</td>\n      <td>11978.8763</td>\n      <td>08|04</td>\n      <td>$GPRMC</td>\n      <td>142655.0</td>\n      <td>A</td>\n      <td>5219.9052</td>\n      <td>N</td>\n      <td>453.9402</td>\n      <td>E</td>\n      <td>0.0</td>\n      <td>1.9</td>\n      <td>150623</td>\n      <td>NaN</td>\n      <td>NaN</td>\n      <td>D</td>\n      <td>111001011</td>\n      <td>0.0</td>\n    </tr>\n    <tr>\n      <th>11647</th>\n      <td>1</td>\n      <td>11979.8387</td>\n      <td>08|04</td>\n      <td>$GPRMC</td>\n      <td>142656.0</td>\n      <td>A</td>\n      <td>5219.9052</td>\n      <td>N</td>\n      <td>453.9402</td>\n      <td>E</td>\n      <td>0.0</td>\n      <td>1.9</td>\n      <td>150623</td>\n      <td>NaN</td>\n      <td>NaN</td>\n      <td>D</td>\n      <td>111001011</td>\n      <td>0.0</td>\n    </tr>\n  </tbody>\n</table>\n<p>11648 rows × 18 columns</p>\n</div>"
     },
     "execution_count": 21,
     "metadata": {},
     "output_type": "execute_result"
    }
   ],
   "execution_count": 21
  },
  {
   "metadata": {
    "ExecuteTime": {
     "end_time": "2024-09-24T12:21:29.605579Z",
     "start_time": "2024-09-24T12:21:29.579086Z"
    }
   },
   "cell_type": "code",
   "source": [
    "xas = 'Latitude'\n",
    "yas = 'Longitude'\n",
    "zas = 'Snelheid over de grond in km/h'\n",
    "# Filtering the data so it's only the laps we want to analyze\n",
    "# First filter so that the data without GPS data is removed\n",
    "data_file_filtered = data_file[data_file[xas] != 0]\n",
    "data_file_filtered = data_file[data_file[yas] != 0]\n",
    "\n",
    "# Now filter out the beginning and end of the data, by removing the first and last 10% of the data\n",
    "from math import ceil\n",
    "#data_file\n",
    "#data_file = data_file.iloc[ceil(len(data_file)*0.215):ceil(len(data_file)*0.267)]\n",
    "\n",
    "# Display the filtered data\n",
    "data_file_filtered"
   ],
   "id": "4c6686a5b4a3b8ad",
   "outputs": [
    {
     "data": {
      "text/plain": "       Datalogger port  Dataloggertijd, in s Format header (>08|04)  \\\n0                    1              332.7614                  08|04   \n1                    1              333.7367                  08|04   \n2                    1              334.7538                  08|04   \n3                    1              335.7802                  08|04   \n4                    1              336.7533                  08|04   \n...                ...                   ...                    ...   \n11643                1            11975.8896                  08|04   \n11644                1            11976.8664                  08|04   \n11645                1            11977.8414                  08|04   \n11646                1            11978.8763                  08|04   \n11647                1            11979.8387                  08|04   \n\n      NMEA type($GPRMC)      Tijd Status   Latitude Noord of Zuid (N/S)  \\\n0                $GPRMC  111249.0      A  5219.8936                   N   \n1                $GPRMC  111250.0      A  5219.8936                   N   \n2                $GPRMC  111251.0      A  5219.8936                   N   \n3                $GPRMC  111252.0      A  5219.8936                   N   \n4                $GPRMC  111253.0      A  5219.8936                   N   \n...                 ...       ...    ...        ...                 ...   \n11643            $GPRMC  142652.0      A  5219.9052                   N   \n11644            $GPRMC  142653.0      A  5219.9052                   N   \n11645            $GPRMC  142654.0      A  5219.9052                   N   \n11646            $GPRMC  142655.0      A  5219.9052                   N   \n11647            $GPRMC  142656.0      A  5219.9052                   N   \n\n       Longitude Oost of West (E/W)  Snelheid over de grond in km/h  \\\n0       453.9587                  E                             0.0   \n1       453.9587                  E                             0.0   \n2       453.9587                  E                             0.0   \n3       453.9587                  E                             0.0   \n4       453.9587                  E                             0.0   \n...          ...                ...                             ...   \n11643   453.9402                  E                             0.0   \n11644   453.9402                  E                             0.0   \n11645   453.9402                  E                             0.0   \n11646   453.9402                  E                             0.0   \n11647   453.9402                  E                             0.0   \n\n       Richting van de snelheid   Datum  Magnetische variatie  \\\n0                         221.6  150623                   NaN   \n1                         221.6  150623                   NaN   \n2                         221.6  150623                   NaN   \n3                         221.6  150623                   NaN   \n4                         221.6  150623                   NaN   \n...                         ...     ...                   ...   \n11643                       1.9  150623                   NaN   \n11644                       1.9  150623                   NaN   \n11645                       1.9  150623                   NaN   \n11646                       1.9  150623                   NaN   \n11647                       1.9  150623                   NaN   \n\n       Magnetische directie Mode indicator (A)  Data in balancers  \\\n0                       NaN                  A          111001011   \n1                       NaN                  A          111001011   \n2                       NaN                  A          111001011   \n3                       NaN                  A          111001011   \n4                       NaN                  A          111001011   \n...                     ...                ...                ...   \n11643                   NaN                  D          111001011   \n11644                   NaN                  D          111001011   \n11645                   NaN                  D          111001011   \n11646                   NaN                  D          111001011   \n11647                   NaN                  D          111001011   \n\n       Snelheid tenopzichte van het water in km/u  \n0                                             0.0  \n1                                             0.0  \n2                                             0.0  \n3                                             0.0  \n4                                             0.0  \n...                                           ...  \n11643                                         0.0  \n11644                                         0.0  \n11645                                         0.0  \n11646                                         0.0  \n11647                                         0.0  \n\n[11648 rows x 18 columns]",
      "text/html": "<div>\n<style scoped>\n    .dataframe tbody tr th:only-of-type {\n        vertical-align: middle;\n    }\n\n    .dataframe tbody tr th {\n        vertical-align: top;\n    }\n\n    .dataframe thead th {\n        text-align: right;\n    }\n</style>\n<table border=\"1\" class=\"dataframe\">\n  <thead>\n    <tr style=\"text-align: right;\">\n      <th></th>\n      <th>Datalogger port</th>\n      <th>Dataloggertijd, in s</th>\n      <th>Format header (&gt;08|04)</th>\n      <th>NMEA type($GPRMC)</th>\n      <th>Tijd</th>\n      <th>Status</th>\n      <th>Latitude</th>\n      <th>Noord of Zuid (N/S)</th>\n      <th>Longitude</th>\n      <th>Oost of West (E/W)</th>\n      <th>Snelheid over de grond in km/h</th>\n      <th>Richting van de snelheid</th>\n      <th>Datum</th>\n      <th>Magnetische variatie</th>\n      <th>Magnetische directie</th>\n      <th>Mode indicator (A)</th>\n      <th>Data in balancers</th>\n      <th>Snelheid tenopzichte van het water in km/u</th>\n    </tr>\n  </thead>\n  <tbody>\n    <tr>\n      <th>0</th>\n      <td>1</td>\n      <td>332.7614</td>\n      <td>08|04</td>\n      <td>$GPRMC</td>\n      <td>111249.0</td>\n      <td>A</td>\n      <td>5219.8936</td>\n      <td>N</td>\n      <td>453.9587</td>\n      <td>E</td>\n      <td>0.0</td>\n      <td>221.6</td>\n      <td>150623</td>\n      <td>NaN</td>\n      <td>NaN</td>\n      <td>A</td>\n      <td>111001011</td>\n      <td>0.0</td>\n    </tr>\n    <tr>\n      <th>1</th>\n      <td>1</td>\n      <td>333.7367</td>\n      <td>08|04</td>\n      <td>$GPRMC</td>\n      <td>111250.0</td>\n      <td>A</td>\n      <td>5219.8936</td>\n      <td>N</td>\n      <td>453.9587</td>\n      <td>E</td>\n      <td>0.0</td>\n      <td>221.6</td>\n      <td>150623</td>\n      <td>NaN</td>\n      <td>NaN</td>\n      <td>A</td>\n      <td>111001011</td>\n      <td>0.0</td>\n    </tr>\n    <tr>\n      <th>2</th>\n      <td>1</td>\n      <td>334.7538</td>\n      <td>08|04</td>\n      <td>$GPRMC</td>\n      <td>111251.0</td>\n      <td>A</td>\n      <td>5219.8936</td>\n      <td>N</td>\n      <td>453.9587</td>\n      <td>E</td>\n      <td>0.0</td>\n      <td>221.6</td>\n      <td>150623</td>\n      <td>NaN</td>\n      <td>NaN</td>\n      <td>A</td>\n      <td>111001011</td>\n      <td>0.0</td>\n    </tr>\n    <tr>\n      <th>3</th>\n      <td>1</td>\n      <td>335.7802</td>\n      <td>08|04</td>\n      <td>$GPRMC</td>\n      <td>111252.0</td>\n      <td>A</td>\n      <td>5219.8936</td>\n      <td>N</td>\n      <td>453.9587</td>\n      <td>E</td>\n      <td>0.0</td>\n      <td>221.6</td>\n      <td>150623</td>\n      <td>NaN</td>\n      <td>NaN</td>\n      <td>A</td>\n      <td>111001011</td>\n      <td>0.0</td>\n    </tr>\n    <tr>\n      <th>4</th>\n      <td>1</td>\n      <td>336.7533</td>\n      <td>08|04</td>\n      <td>$GPRMC</td>\n      <td>111253.0</td>\n      <td>A</td>\n      <td>5219.8936</td>\n      <td>N</td>\n      <td>453.9587</td>\n      <td>E</td>\n      <td>0.0</td>\n      <td>221.6</td>\n      <td>150623</td>\n      <td>NaN</td>\n      <td>NaN</td>\n      <td>A</td>\n      <td>111001011</td>\n      <td>0.0</td>\n    </tr>\n    <tr>\n      <th>...</th>\n      <td>...</td>\n      <td>...</td>\n      <td>...</td>\n      <td>...</td>\n      <td>...</td>\n      <td>...</td>\n      <td>...</td>\n      <td>...</td>\n      <td>...</td>\n      <td>...</td>\n      <td>...</td>\n      <td>...</td>\n      <td>...</td>\n      <td>...</td>\n      <td>...</td>\n      <td>...</td>\n      <td>...</td>\n      <td>...</td>\n    </tr>\n    <tr>\n      <th>11643</th>\n      <td>1</td>\n      <td>11975.8896</td>\n      <td>08|04</td>\n      <td>$GPRMC</td>\n      <td>142652.0</td>\n      <td>A</td>\n      <td>5219.9052</td>\n      <td>N</td>\n      <td>453.9402</td>\n      <td>E</td>\n      <td>0.0</td>\n      <td>1.9</td>\n      <td>150623</td>\n      <td>NaN</td>\n      <td>NaN</td>\n      <td>D</td>\n      <td>111001011</td>\n      <td>0.0</td>\n    </tr>\n    <tr>\n      <th>11644</th>\n      <td>1</td>\n      <td>11976.8664</td>\n      <td>08|04</td>\n      <td>$GPRMC</td>\n      <td>142653.0</td>\n      <td>A</td>\n      <td>5219.9052</td>\n      <td>N</td>\n      <td>453.9402</td>\n      <td>E</td>\n      <td>0.0</td>\n      <td>1.9</td>\n      <td>150623</td>\n      <td>NaN</td>\n      <td>NaN</td>\n      <td>D</td>\n      <td>111001011</td>\n      <td>0.0</td>\n    </tr>\n    <tr>\n      <th>11645</th>\n      <td>1</td>\n      <td>11977.8414</td>\n      <td>08|04</td>\n      <td>$GPRMC</td>\n      <td>142654.0</td>\n      <td>A</td>\n      <td>5219.9052</td>\n      <td>N</td>\n      <td>453.9402</td>\n      <td>E</td>\n      <td>0.0</td>\n      <td>1.9</td>\n      <td>150623</td>\n      <td>NaN</td>\n      <td>NaN</td>\n      <td>D</td>\n      <td>111001011</td>\n      <td>0.0</td>\n    </tr>\n    <tr>\n      <th>11646</th>\n      <td>1</td>\n      <td>11978.8763</td>\n      <td>08|04</td>\n      <td>$GPRMC</td>\n      <td>142655.0</td>\n      <td>A</td>\n      <td>5219.9052</td>\n      <td>N</td>\n      <td>453.9402</td>\n      <td>E</td>\n      <td>0.0</td>\n      <td>1.9</td>\n      <td>150623</td>\n      <td>NaN</td>\n      <td>NaN</td>\n      <td>D</td>\n      <td>111001011</td>\n      <td>0.0</td>\n    </tr>\n    <tr>\n      <th>11647</th>\n      <td>1</td>\n      <td>11979.8387</td>\n      <td>08|04</td>\n      <td>$GPRMC</td>\n      <td>142656.0</td>\n      <td>A</td>\n      <td>5219.9052</td>\n      <td>N</td>\n      <td>453.9402</td>\n      <td>E</td>\n      <td>0.0</td>\n      <td>1.9</td>\n      <td>150623</td>\n      <td>NaN</td>\n      <td>NaN</td>\n      <td>D</td>\n      <td>111001011</td>\n      <td>0.0</td>\n    </tr>\n  </tbody>\n</table>\n<p>11648 rows × 18 columns</p>\n</div>"
     },
     "execution_count": 27,
     "metadata": {},
     "output_type": "execute_result"
    }
   ],
   "execution_count": 27
  },
  {
   "cell_type": "code",
   "id": "51d68bb7-3614-4f99-949e-6ed8398794ad",
   "metadata": {
    "ExecuteTime": {
     "end_time": "2024-09-24T12:22:35.067543Z",
     "start_time": "2024-09-24T12:22:34.990862Z"
    }
   },
   "source": [
    "%matplotlib qt\n",
    "'Plotting the race'\n",
    "plt.figure(figsize=(6,6))\n",
    "plt.scatter(data_file[xas], data_file[yas], c=data_file[zas], cmap='viridis')\n",
    "plt.title(xas + ' vs ' + yas + ' with ' + zas)\n",
    "plt.xlabel(xas)\n",
    "plt.ylabel(yas)\n",
    "\n",
    "# Adding a colorbar with a label for the speed in km/h\n",
    "cbar = plt.colorbar()\n",
    "cbar.set_label(zas)\n",
    "plt.grid()\n",
    "plt.show()\n"
   ],
   "outputs": [],
   "execution_count": 30
  },
  {
   "metadata": {
    "ExecuteTime": {
     "end_time": "2024-09-24T11:59:25.864553Z",
     "start_time": "2024-09-24T11:59:25.758239Z"
    }
   },
   "cell_type": "code",
   "source": [
    "import matplotlib.pyplot as plt\n",
    "from mpl_toolkits.mplot3d import Axes3D\n",
    "\n",
    "# Extract data for plotting\n",
    "latitudes = data_file['Latitude'].values\n",
    "longitudes = data_file['Longitude'].values\n",
    "speeds = data_file['Snelheid over de grond in km/h'].values\n",
    "\n",
    "# Plotting the race with a 3D scatter plot\n",
    "fig = plt.figure(figsize=(8, 8))\n",
    "ax = fig.add_subplot(111, projection='3d')\n",
    "\n",
    "# Scatter plot with height representing speed\n",
    "scatter = ax.scatter(latitudes, longitudes, speeds, c=speeds, cmap='viridis', s=10)\n",
    "\n",
    "# Adding labels and title\n",
    "ax.set_title('GPS data vs speed')\n",
    "ax.set_xlabel('Latitude')\n",
    "ax.set_ylabel('Longitude')\n",
    "ax.set_zlabel('Speed (km/h)')\n",
    "\n",
    "# Adding a colorbar with a label for the speed in km/h\n",
    "cbar = plt.colorbar(scatter, ax=ax, pad=0.1)\n",
    "cbar.set_label('Speed (km/h)')\n",
    "\n",
    "plt.show()"
   ],
   "id": "b7396bf19626675d",
   "outputs": [],
   "execution_count": 9
  },
  {
   "cell_type": "code",
   "outputs": [],
   "source": [
    "def plotten(xas,yas, zas = None):\n",
    "    return\n"
   ],
   "metadata": {
    "collapsed": false,
    "ExecuteTime": {
     "end_time": "2024-09-24T11:59:26.460352Z",
     "start_time": "2024-09-24T11:59:26.455941Z"
    }
   },
   "id": "c53cae6799f221ac",
   "execution_count": 10
  },
  {
   "cell_type": "code",
   "outputs": [],
   "source": [],
   "metadata": {
    "collapsed": false
   },
   "id": "109208c194f48a7d"
  }
 ],
 "metadata": {
  "kernelspec": {
   "display_name": "Python 3",
   "language": "python",
   "name": "python3"
  },
  "language_info": {
   "codemirror_mode": {
    "name": "ipython",
    "version": 3
   },
   "file_extension": ".py",
   "mimetype": "text/x-python",
   "name": "python",
   "nbconvert_exporter": "python",
   "pygments_lexer": "ipython3",
   "version": "3.8.8"
  }
 },
 "nbformat": 4,
 "nbformat_minor": 5
}
