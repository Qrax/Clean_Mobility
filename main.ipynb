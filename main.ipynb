{
 "cells": [
  {
   "cell_type": "code",
   "id": "200c6cb5-3b99-4942-80ba-fece84071309",
   "metadata": {
    "tags": [],
    "ExecuteTime": {
     "end_time": "2024-11-29T15:27:10.050884Z",
     "start_time": "2024-11-29T15:27:03.700754Z"
    }
   },
   "source": [
    "import math\n",
    "from logging import debug\n",
    "\n",
    "import matplotlib.pyplot as plt\n",
    "import numpy as np\n",
    "import pandas as pd\n",
    "import os\n",
    "import copy\n",
    "from math import sqrt,ceil\n",
    "\n",
    "from PIL.ImageColor import colormap\n",
    "from scipy.stats import linregress\n",
    "import libraries as lib"
   ],
   "outputs": [],
   "execution_count": 1
  },
  {
   "metadata": {
    "ExecuteTime": {
     "end_time": "2024-11-29T15:27:10.090883Z",
     "start_time": "2024-11-29T15:27:10.080884Z"
    }
   },
   "cell_type": "code",
   "source": [
    "#20240713_Huy-Limburg/0026 - 20240713T080342 14h37m16s 145.044km Durnal - Heel\n",
    "#Configuratie: \n",
    "#Roze roer \n",
    "#Motortype: 30100/13 (NR 6) \n",
    "#@i=7 (NR E) \n",
    "#Schakeling: Driehoek \n",
    "#Schroef: Incapa Blad 300 N, 15 \n",
    "#Piloot: \n",
    "#Teun van den Elzen (72kg) (11:0\n",
    "#Tristan Ploeger (80kg) (13:30-2\n",
    "#Tomas Kramer (70kg) (20:00- \n",
    "\n",
    "#20240709_Anse_stroomafwaarts/0002 - 20240709T070429 8h16m21s 51.701km Trevoux - Givors\n",
    "#Configuratie: \n",
    "#Roze roer \n",
    "#Motortype: 30100/13 (NR 6) \n",
    "#@i=7 (NR E) \n",
    "#Schakeling: Driehoek \n",
    "#Schroef: Schroef Fee (Chopped Tips) \n",
    "#Folder: \n",
    "#Folders zijn weer begonnen vanaf mapje 1 vanwege het vervangen van de sd-kaart. \n",
    "#0002: Gaat het water in <--- \n",
    "#0003: Na opnieuw opstarten. \n",
    "#Piloot: \n",
    "#Tristan Ploeger (80kg) \n",
    "#Jonathan Meuleman (70kg) \n",
    "\n",
    "#20240708_Valence/0231 - 20240708T111346 8h9m54s 47.648km La Voulte-sur-Rhone - Tournon-sur-Rhone\n",
    "#Configuratie: \n",
    "#Roze roer \n",
    "#Motortype: 30100/13 (NR 6) \n",
    "#@i=7 (NR E) \n",
    "#Schakeling: Driehoek \n",
    "#Schroef: Schroef Fee (Chopped Tips) \n",
    "#Piloot: \n",
    "#Ruben Jans (77kg) \n",
    "#Bastiaan Buurman (75kg) \n",
    "\n",
    "#20240714_Limburg-Nijmegen\\0028 - 20240714T061924 15h2m29s 148.594km Bunde - Lent\n",
    "#Configuratie: \n",
    "#Roze roer \n",
    "#Motortype: 30100/13 (NR 6) \n",
    "#@i=7 (NR E) \n",
    "#Schakeling: Driehoek \n",
    "#Schroef: Incapa Blad 300 N, 15 m/s \n",
    "#Piloot: \n",
    "#Felix van Beusekom (78kg) (10:20-14:40) \n",
    "#Dennis van den Berg (73kg) (14:40-~17:30) \n",
    "#Jonathan Gessel (76kg) (~17:30-21:20) "
   ],
   "id": "6510d45376b16057",
   "outputs": [],
   "execution_count": 2
  },
  {
   "cell_type": "code",
   "id": "7c69ab67-3836-4435-b6fe-763633e41c56",
   "metadata": {
    "ExecuteTime": {
     "end_time": "2024-11-29T15:27:12.046451Z",
     "start_time": "2024-11-29T15:27:11.841434Z"
    }
   },
   "source": [
    "directory1 = \"../../OneDrive - HvA/Logfiles/SOLAR/2024/20240707_20240715_terugvaart/20240713_Huy-Limburg/0026 - 20240713T080342 14h37m16s 145.044km Durnal - Heel\"\n",
    "directory2 = '../../OneDrive - HvA/Logfiles/SOLAR/2024/20240707_20240715_terugvaart/20240714_Limburg-Nijmegen/0028 - 20240714T061924 15h2m29s 148.594km Bunde - Lent'\n",
    "directory3 = '../../OneDrive - HvA/Logfiles/SOLAR/2024/20240707_20240715_terugvaart/20240708_Valence/0231 - 20240708T111346 8h9m54s 47.648km La Voulte-sur-Rhone - Tournon-sur-Rhone'\n",
    "directory4 = '../../OneDrive - HvA/Logfiles/SOLAR/2024/20240707_20240715_terugvaart/20240709_Anse_stroomafwaarts/0002 - 20240709T070429 8h16m21s 51.701km Trevoux - Givors'\n",
    "\n",
    "result1 = lib.DataUitzoekenGui(directory1)\n",
    "result2 = lib.DataUitzoekenGui(directory2)\n",
    "result3 = lib.DataUitzoekenGui(directory3)\n",
    "result4 = lib.DataUitzoekenGui(directory4)"
   ],
   "outputs": [
    {
     "data": {
      "text/plain": [
       "SelectMultiple(description='Bestanden:', options=('0_Bus.csv', '2_MPPT_0_05_05.csv', '3_MPPT_1_05_07.csv', '4_…"
      ],
      "application/vnd.jupyter.widget-view+json": {
       "version_major": 2,
       "version_minor": 0,
       "model_id": "71ce4a1ea2e449f28176a86534683c83"
      }
     },
     "metadata": {},
     "output_type": "display_data"
    },
    {
     "data": {
      "text/plain": [
       "Button(button_style='success', description='Bestanden Laden', icon='check', style=ButtonStyle(), tooltip='Klik…"
      ],
      "application/vnd.jupyter.widget-view+json": {
       "version_major": 2,
       "version_minor": 0,
       "model_id": "6e16c18137f842d19c89da8447f88649"
      }
     },
     "metadata": {},
     "output_type": "display_data"
    },
    {
     "data": {
      "text/plain": [
       "Label(value='')"
      ],
      "application/vnd.jupyter.widget-view+json": {
       "version_major": 2,
       "version_minor": 0,
       "model_id": "e7b18fa301e740d1a81c6e5d6f8b73a8"
      }
     },
     "metadata": {},
     "output_type": "display_data"
    },
    {
     "data": {
      "text/plain": [
       "SelectMultiple(description='Bestanden:', options=('0_Bus.csv', '2_MPPT_0_05_05.csv', '3_MPPT_1_05_07.csv', '4_…"
      ],
      "application/vnd.jupyter.widget-view+json": {
       "version_major": 2,
       "version_minor": 0,
       "model_id": "3054f390eeac4e659e09b9aee9b36927"
      }
     },
     "metadata": {},
     "output_type": "display_data"
    },
    {
     "data": {
      "text/plain": [
       "Button(button_style='success', description='Bestanden Laden', icon='check', style=ButtonStyle(), tooltip='Klik…"
      ],
      "application/vnd.jupyter.widget-view+json": {
       "version_major": 2,
       "version_minor": 0,
       "model_id": "0793b16771844ec48aac7ff6856cb927"
      }
     },
     "metadata": {},
     "output_type": "display_data"
    },
    {
     "data": {
      "text/plain": [
       "Label(value='')"
      ],
      "application/vnd.jupyter.widget-view+json": {
       "version_major": 2,
       "version_minor": 0,
       "model_id": "2370280efa0540bb8ea1cd285a15367b"
      }
     },
     "metadata": {},
     "output_type": "display_data"
    },
    {
     "data": {
      "text/plain": [
       "SelectMultiple(description='Bestanden:', options=('0_Bus.csv', '2_MPPT_0_05_05.csv', '3_MPPT_1_05_05.csv', '4_…"
      ],
      "application/vnd.jupyter.widget-view+json": {
       "version_major": 2,
       "version_minor": 0,
       "model_id": "0b7dd0348ddb406eb3c7e1d40e4599a4"
      }
     },
     "metadata": {},
     "output_type": "display_data"
    },
    {
     "data": {
      "text/plain": [
       "Button(button_style='success', description='Bestanden Laden', icon='check', style=ButtonStyle(), tooltip='Klik…"
      ],
      "application/vnd.jupyter.widget-view+json": {
       "version_major": 2,
       "version_minor": 0,
       "model_id": "f9228115cb4d44d7a2cdd4a6147a21d4"
      }
     },
     "metadata": {},
     "output_type": "display_data"
    },
    {
     "data": {
      "text/plain": [
       "Label(value='')"
      ],
      "application/vnd.jupyter.widget-view+json": {
       "version_major": 2,
       "version_minor": 0,
       "model_id": "304fab7cd38e42a9a3e630d7db13c22a"
      }
     },
     "metadata": {},
     "output_type": "display_data"
    },
    {
     "data": {
      "text/plain": [
       "SelectMultiple(description='Bestanden:', options=('0_Bus.csv', '2_MPPT_0_05_07.csv', '3_MPPT_1_05_07.csv', '4_…"
      ],
      "application/vnd.jupyter.widget-view+json": {
       "version_major": 2,
       "version_minor": 0,
       "model_id": "79a2156bab9c4d9185215be7da366571"
      }
     },
     "metadata": {},
     "output_type": "display_data"
    },
    {
     "data": {
      "text/plain": [
       "Button(button_style='success', description='Bestanden Laden', icon='check', style=ButtonStyle(), tooltip='Klik…"
      ],
      "application/vnd.jupyter.widget-view+json": {
       "version_major": 2,
       "version_minor": 0,
       "model_id": "8f4f18af5c5f4cdfb39f140284b1136c"
      }
     },
     "metadata": {},
     "output_type": "display_data"
    },
    {
     "data": {
      "text/plain": [
       "Label(value='')"
      ],
      "application/vnd.jupyter.widget-view+json": {
       "version_major": 2,
       "version_minor": 0,
       "model_id": "e2ac3445d5b044b8b24b6d67301abab9"
      }
     },
     "metadata": {},
     "output_type": "display_data"
    }
   ],
   "execution_count": 3
  },
  {
   "metadata": {
    "ExecuteTime": {
     "end_time": "2024-11-29T15:57:11.772434Z",
     "start_time": "2024-11-29T15:57:11.651950Z"
    }
   },
   "cell_type": "code",
   "source": [
    "# Na het laden van de bestanden en het klikken op de knop\n",
    "# Controleer of 'merged_df' in result zit\n",
    "if 'merged_df' in result1:\n",
    "    merged_df1 = result1['merged_df'].copy()\n",
    "    #merged_df2 = result2['merged_df'].copy()\n",
    "    #merged_df3 = result3['merged_df'].copy()\n",
    "    #merged_df4 = result4['merged_df'].copy()\n",
    "    # Gebruik merged_df zoals je wilt\n",
    "else:\n",
    "    print(\"De data is nog niet geladen.\")"
   ],
   "id": "cbaa56b909d21ac3",
   "outputs": [],
   "execution_count": 37
  },
  {
   "metadata": {
    "ExecuteTime": {
     "end_time": "2024-11-29T15:57:13.884833Z",
     "start_time": "2024-11-29T15:57:13.814739Z"
    }
   },
   "cell_type": "code",
   "source": "merged_df1",
   "id": "2f4213dfa5064e2e",
   "outputs": [
    {
     "data": {
      "text/plain": [
       "                 1_Datalogger port  1_Dataloggertijd, in s  1_MPPT-tijd, in s  \\\n",
       "Indextijd                                                                       \n",
       "0 days 00:02:17                2.0              137.432109        1200.551736   \n",
       "0 days 00:02:18                2.0              137.993885        1201.113462   \n",
       "0 days 00:02:19                2.0              138.999369        1202.118929   \n",
       "0 days 00:02:20                2.0              140.000394        1203.119943   \n",
       "0 days 00:02:21                2.0              140.999270        1204.118814   \n",
       "...                            ...                     ...                ...   \n",
       "0 days 14:39:31                2.0            52770.997042       53833.132747   \n",
       "0 days 14:39:32                2.0            52772.000473       53834.136150   \n",
       "0 days 14:39:33                2.0            52773.003900       53835.139566   \n",
       "0 days 14:39:34                2.0            52774.002288       53836.137929   \n",
       "0 days 14:39:35                2.0            52774.728387       53836.864000   \n",
       "\n",
       "                 1_Paneel 1 ingangsspanning, in V  \\\n",
       "Indextijd                                           \n",
       "0 days 00:02:17                         20.520091   \n",
       "0 days 00:02:18                         20.557133   \n",
       "0 days 00:02:19                         20.635529   \n",
       "0 days 00:02:20                         20.715600   \n",
       "0 days 00:02:21                         20.637881   \n",
       "...                                           ...   \n",
       "0 days 14:39:31                         -0.083859   \n",
       "0 days 14:39:32                         -0.083960   \n",
       "0 days 14:39:33                         -0.083919   \n",
       "0 days 14:39:34                         -0.083515   \n",
       "0 days 14:39:35                         -0.083622   \n",
       "\n",
       "                 1_Paneel 1 ingangsstroom, in I  \\\n",
       "Indextijd                                         \n",
       "0 days 00:02:17                        1.222273   \n",
       "0 days 00:02:18                        1.220663   \n",
       "0 days 00:02:19                        1.217696   \n",
       "0 days 00:02:20                        1.212442   \n",
       "0 days 00:02:21                        1.217366   \n",
       "...                                         ...   \n",
       "0 days 14:39:31                       -0.017313   \n",
       "0 days 14:39:32                       -0.017560   \n",
       "0 days 14:39:33                       -0.017273   \n",
       "0 days 14:39:34                       -0.017253   \n",
       "0 days 14:39:35                       -0.017622   \n",
       "\n",
       "                 1_Paneel 1 instantaan ingangsvermogen, in W  \\\n",
       "Indextijd                                                      \n",
       "0 days 00:02:17                                    43.175000   \n",
       "0 days 00:02:18                                    43.513612   \n",
       "0 days 00:02:19                                    43.665510   \n",
       "0 days 00:02:20                                    43.540411   \n",
       "0 days 00:02:21                                    43.537604   \n",
       "...                                                      ...   \n",
       "0 days 14:39:31                                     0.002424   \n",
       "0 days 14:39:32                                     0.002490   \n",
       "0 days 14:39:33                                     0.002444   \n",
       "0 days 14:39:34                                     0.002394   \n",
       "0 days 14:39:35                                     0.002467   \n",
       "\n",
       "                 1_Paneel 1 totale ingangsenergie, in J  \\\n",
       "Indextijd                                                 \n",
       "0 days 00:02:17                            1.403547e+04   \n",
       "0 days 00:02:18                            1.404957e+04   \n",
       "0 days 00:02:19                            1.407482e+04   \n",
       "0 days 00:02:20                            1.409996e+04   \n",
       "0 days 00:02:21                            1.412506e+04   \n",
       "...                                                 ...   \n",
       "0 days 14:39:31                            1.355884e+06   \n",
       "0 days 14:39:32                            1.355884e+06   \n",
       "0 days 14:39:33                            1.355884e+06   \n",
       "0 days 14:39:34                            1.355884e+06   \n",
       "0 days 14:39:35                            1.355884e+06   \n",
       "\n",
       "                 1_Paneel 2 ingangsspanning, in V  \\\n",
       "Indextijd                                           \n",
       "0 days 00:02:17                         21.182909   \n",
       "0 days 00:02:18                         21.081939   \n",
       "0 days 00:02:19                         20.999480   \n",
       "0 days 00:02:20                         21.150800   \n",
       "0 days 00:02:21                         21.080851   \n",
       "...                                           ...   \n",
       "0 days 14:39:31                         -0.082424   \n",
       "0 days 14:39:32                         -0.082430   \n",
       "0 days 14:39:33                         -0.082646   \n",
       "0 days 14:39:34                         -0.082414   \n",
       "0 days 14:39:35                         -0.082800   \n",
       "\n",
       "                 1_Paneel 2 ingangsstroom, in I  \\\n",
       "Indextijd                                         \n",
       "0 days 00:02:17                        1.216727   \n",
       "0 days 00:02:18                        1.220235   \n",
       "0 days 00:02:19                        1.225176   \n",
       "0 days 00:02:20                        1.218021   \n",
       "0 days 00:02:21                        1.222149   \n",
       "...                                         ...   \n",
       "0 days 14:39:31                       -0.017576   \n",
       "0 days 14:39:32                       -0.017490   \n",
       "0 days 14:39:33                       -0.017525   \n",
       "0 days 14:39:34                       -0.017263   \n",
       "0 days 14:39:35                       -0.017489   \n",
       "\n",
       "                 1_Paneel 2 instantaan ingangsvermogen, in W  ...  \\\n",
       "Indextijd                                                     ...   \n",
       "0 days 00:02:17                                    44.403455  ...   \n",
       "0 days 00:02:18                                    44.595745  ...   \n",
       "0 days 00:02:19                                    44.707304  ...   \n",
       "0 days 00:02:20                                    44.659474  ...   \n",
       "0 days 00:02:21                                    44.650535  ...   \n",
       "...                                                      ...  ...   \n",
       "0 days 14:39:31                                     0.002323  ...   \n",
       "0 days 14:39:32                                     0.002280  ...   \n",
       "0 days 14:39:33                                     0.002333  ...   \n",
       "0 days 14:39:34                                     0.002263  ...   \n",
       "0 days 14:39:35                                     0.002311  ...   \n",
       "\n",
       "                 5_Gps-latitude, in graden  5_GPS richting  5_Gps-tijd, in s  \\\n",
       "Indextijd                                                                      \n",
       "0 days 00:02:17                  5020.2014             9.7      60340.800000   \n",
       "0 days 00:02:18                  5020.2014             9.7      60341.408163   \n",
       "0 days 00:02:19                  5020.2014             9.7      60342.349057   \n",
       "0 days 00:02:20                  5020.2014             9.7      60343.277228   \n",
       "0 days 00:02:21                  5020.2014             9.7      60344.207547   \n",
       "...                                    ...             ...               ...   \n",
       "0 days 14:39:31                  5110.7016           286.3     204054.030612   \n",
       "0 days 14:39:32                  5110.7016           286.3     204055.000000   \n",
       "0 days 14:39:33                  5110.7016           286.3     204055.979167   \n",
       "0 days 14:39:34                  5110.7016           286.3     204056.979592   \n",
       "0 days 14:39:35                  5110.7016           286.3     204057.931818   \n",
       "\n",
       "                 5_Format header (>05|05)  5_Paneel 1 ingangsspanning, in V  \\\n",
       "Indextijd                                                                     \n",
       "0 days 00:02:17                     05|07                            -0.050   \n",
       "0 days 00:02:18                     05|07                            -0.052   \n",
       "0 days 00:02:19                     05|07                            -0.051   \n",
       "0 days 00:02:20                     05|07                            -0.051   \n",
       "0 days 00:02:21                     05|07                            -0.050   \n",
       "...                                   ...                               ...   \n",
       "0 days 14:39:31                     05|07                            -0.043   \n",
       "0 days 14:39:32                     05|07                            -0.044   \n",
       "0 days 14:39:33                     05|07                            -0.042   \n",
       "0 days 14:39:34                     05|07                            -0.042   \n",
       "0 days 14:39:35                     05|07                            -0.041   \n",
       "\n",
       "                 5_Uitgangsspanning, in V  \\\n",
       "Indextijd                                   \n",
       "0 days 00:02:17                 -0.166683   \n",
       "0 days 00:02:18                 -0.165728   \n",
       "0 days 00:02:19                 -0.165576   \n",
       "0 days 00:02:20                 -0.165597   \n",
       "0 days 00:02:21                 -0.165157   \n",
       "...                                   ...   \n",
       "0 days 14:39:31                 -0.143247   \n",
       "0 days 14:39:32                 -0.144925   \n",
       "0 days 14:39:33                 -0.145139   \n",
       "0 days 14:39:34                 -0.145245   \n",
       "0 days 14:39:35                 -0.147741   \n",
       "\n",
       "                 5_Kanaal 1 instantaan uitgangsvermogen, in W  \\\n",
       "Indextijd                                                       \n",
       "0 days 00:02:17                                         0.001   \n",
       "0 days 00:02:18                                         0.001   \n",
       "0 days 00:02:19                                         0.001   \n",
       "0 days 00:02:20                                         0.001   \n",
       "0 days 00:02:21                                         0.001   \n",
       "...                                                       ...   \n",
       "0 days 14:39:31                                         0.001   \n",
       "0 days 14:39:32                                         0.001   \n",
       "0 days 14:39:33                                         0.001   \n",
       "0 days 14:39:34                                         0.001   \n",
       "0 days 14:39:35                                         0.001   \n",
       "\n",
       "                 5_Gps-snelheid, in km/u  5_Pirano 1  5_Pirano 2  \n",
       "Indextijd                                                         \n",
       "0 days 00:02:17                      0.0         200         221  \n",
       "0 days 00:02:18                      0.0         200         221  \n",
       "0 days 00:02:19                      0.0         200         221  \n",
       "0 days 00:02:20                      0.0         200         221  \n",
       "0 days 00:02:21                      0.0         201         222  \n",
       "...                                  ...         ...         ...  \n",
       "0 days 14:39:31                      0.0          -7          -8  \n",
       "0 days 14:39:32                      0.0          -7          -8  \n",
       "0 days 14:39:33                      0.0          -7          -8  \n",
       "0 days 14:39:34                      0.0          -7          -8  \n",
       "0 days 14:39:35                      0.0          -7          -8  \n",
       "\n",
       "[52639 rows x 171 columns]"
      ],
      "text/html": [
       "<div>\n",
       "<style scoped>\n",
       "    .dataframe tbody tr th:only-of-type {\n",
       "        vertical-align: middle;\n",
       "    }\n",
       "\n",
       "    .dataframe tbody tr th {\n",
       "        vertical-align: top;\n",
       "    }\n",
       "\n",
       "    .dataframe thead th {\n",
       "        text-align: right;\n",
       "    }\n",
       "</style>\n",
       "<table border=\"1\" class=\"dataframe\">\n",
       "  <thead>\n",
       "    <tr style=\"text-align: right;\">\n",
       "      <th></th>\n",
       "      <th>1_Datalogger port</th>\n",
       "      <th>1_Dataloggertijd, in s</th>\n",
       "      <th>1_MPPT-tijd, in s</th>\n",
       "      <th>1_Paneel 1 ingangsspanning, in V</th>\n",
       "      <th>1_Paneel 1 ingangsstroom, in I</th>\n",
       "      <th>1_Paneel 1 instantaan ingangsvermogen, in W</th>\n",
       "      <th>1_Paneel 1 totale ingangsenergie, in J</th>\n",
       "      <th>1_Paneel 2 ingangsspanning, in V</th>\n",
       "      <th>1_Paneel 2 ingangsstroom, in I</th>\n",
       "      <th>1_Paneel 2 instantaan ingangsvermogen, in W</th>\n",
       "      <th>...</th>\n",
       "      <th>5_Gps-latitude, in graden</th>\n",
       "      <th>5_GPS richting</th>\n",
       "      <th>5_Gps-tijd, in s</th>\n",
       "      <th>5_Format header (&gt;05|05)</th>\n",
       "      <th>5_Paneel 1 ingangsspanning, in V</th>\n",
       "      <th>5_Uitgangsspanning, in V</th>\n",
       "      <th>5_Kanaal 1 instantaan uitgangsvermogen, in W</th>\n",
       "      <th>5_Gps-snelheid, in km/u</th>\n",
       "      <th>5_Pirano 1</th>\n",
       "      <th>5_Pirano 2</th>\n",
       "    </tr>\n",
       "    <tr>\n",
       "      <th>Indextijd</th>\n",
       "      <th></th>\n",
       "      <th></th>\n",
       "      <th></th>\n",
       "      <th></th>\n",
       "      <th></th>\n",
       "      <th></th>\n",
       "      <th></th>\n",
       "      <th></th>\n",
       "      <th></th>\n",
       "      <th></th>\n",
       "      <th></th>\n",
       "      <th></th>\n",
       "      <th></th>\n",
       "      <th></th>\n",
       "      <th></th>\n",
       "      <th></th>\n",
       "      <th></th>\n",
       "      <th></th>\n",
       "      <th></th>\n",
       "      <th></th>\n",
       "      <th></th>\n",
       "    </tr>\n",
       "  </thead>\n",
       "  <tbody>\n",
       "    <tr>\n",
       "      <th>0 days 00:02:17</th>\n",
       "      <td>2.0</td>\n",
       "      <td>137.432109</td>\n",
       "      <td>1200.551736</td>\n",
       "      <td>20.520091</td>\n",
       "      <td>1.222273</td>\n",
       "      <td>43.175000</td>\n",
       "      <td>1.403547e+04</td>\n",
       "      <td>21.182909</td>\n",
       "      <td>1.216727</td>\n",
       "      <td>44.403455</td>\n",
       "      <td>...</td>\n",
       "      <td>5020.2014</td>\n",
       "      <td>9.7</td>\n",
       "      <td>60340.800000</td>\n",
       "      <td>05|07</td>\n",
       "      <td>-0.050</td>\n",
       "      <td>-0.166683</td>\n",
       "      <td>0.001</td>\n",
       "      <td>0.0</td>\n",
       "      <td>200</td>\n",
       "      <td>221</td>\n",
       "    </tr>\n",
       "    <tr>\n",
       "      <th>0 days 00:02:18</th>\n",
       "      <td>2.0</td>\n",
       "      <td>137.993885</td>\n",
       "      <td>1201.113462</td>\n",
       "      <td>20.557133</td>\n",
       "      <td>1.220663</td>\n",
       "      <td>43.513612</td>\n",
       "      <td>1.404957e+04</td>\n",
       "      <td>21.081939</td>\n",
       "      <td>1.220235</td>\n",
       "      <td>44.595745</td>\n",
       "      <td>...</td>\n",
       "      <td>5020.2014</td>\n",
       "      <td>9.7</td>\n",
       "      <td>60341.408163</td>\n",
       "      <td>05|07</td>\n",
       "      <td>-0.052</td>\n",
       "      <td>-0.165728</td>\n",
       "      <td>0.001</td>\n",
       "      <td>0.0</td>\n",
       "      <td>200</td>\n",
       "      <td>221</td>\n",
       "    </tr>\n",
       "    <tr>\n",
       "      <th>0 days 00:02:19</th>\n",
       "      <td>2.0</td>\n",
       "      <td>138.999369</td>\n",
       "      <td>1202.118929</td>\n",
       "      <td>20.635529</td>\n",
       "      <td>1.217696</td>\n",
       "      <td>43.665510</td>\n",
       "      <td>1.407482e+04</td>\n",
       "      <td>20.999480</td>\n",
       "      <td>1.225176</td>\n",
       "      <td>44.707304</td>\n",
       "      <td>...</td>\n",
       "      <td>5020.2014</td>\n",
       "      <td>9.7</td>\n",
       "      <td>60342.349057</td>\n",
       "      <td>05|07</td>\n",
       "      <td>-0.051</td>\n",
       "      <td>-0.165576</td>\n",
       "      <td>0.001</td>\n",
       "      <td>0.0</td>\n",
       "      <td>200</td>\n",
       "      <td>221</td>\n",
       "    </tr>\n",
       "    <tr>\n",
       "      <th>0 days 00:02:20</th>\n",
       "      <td>2.0</td>\n",
       "      <td>140.000394</td>\n",
       "      <td>1203.119943</td>\n",
       "      <td>20.715600</td>\n",
       "      <td>1.212442</td>\n",
       "      <td>43.540411</td>\n",
       "      <td>1.409996e+04</td>\n",
       "      <td>21.150800</td>\n",
       "      <td>1.218021</td>\n",
       "      <td>44.659474</td>\n",
       "      <td>...</td>\n",
       "      <td>5020.2014</td>\n",
       "      <td>9.7</td>\n",
       "      <td>60343.277228</td>\n",
       "      <td>05|07</td>\n",
       "      <td>-0.051</td>\n",
       "      <td>-0.165597</td>\n",
       "      <td>0.001</td>\n",
       "      <td>0.0</td>\n",
       "      <td>200</td>\n",
       "      <td>221</td>\n",
       "    </tr>\n",
       "    <tr>\n",
       "      <th>0 days 00:02:21</th>\n",
       "      <td>2.0</td>\n",
       "      <td>140.999270</td>\n",
       "      <td>1204.118814</td>\n",
       "      <td>20.637881</td>\n",
       "      <td>1.217366</td>\n",
       "      <td>43.537604</td>\n",
       "      <td>1.412506e+04</td>\n",
       "      <td>21.080851</td>\n",
       "      <td>1.222149</td>\n",
       "      <td>44.650535</td>\n",
       "      <td>...</td>\n",
       "      <td>5020.2014</td>\n",
       "      <td>9.7</td>\n",
       "      <td>60344.207547</td>\n",
       "      <td>05|07</td>\n",
       "      <td>-0.050</td>\n",
       "      <td>-0.165157</td>\n",
       "      <td>0.001</td>\n",
       "      <td>0.0</td>\n",
       "      <td>201</td>\n",
       "      <td>222</td>\n",
       "    </tr>\n",
       "    <tr>\n",
       "      <th>...</th>\n",
       "      <td>...</td>\n",
       "      <td>...</td>\n",
       "      <td>...</td>\n",
       "      <td>...</td>\n",
       "      <td>...</td>\n",
       "      <td>...</td>\n",
       "      <td>...</td>\n",
       "      <td>...</td>\n",
       "      <td>...</td>\n",
       "      <td>...</td>\n",
       "      <td>...</td>\n",
       "      <td>...</td>\n",
       "      <td>...</td>\n",
       "      <td>...</td>\n",
       "      <td>...</td>\n",
       "      <td>...</td>\n",
       "      <td>...</td>\n",
       "      <td>...</td>\n",
       "      <td>...</td>\n",
       "      <td>...</td>\n",
       "      <td>...</td>\n",
       "    </tr>\n",
       "    <tr>\n",
       "      <th>0 days 14:39:31</th>\n",
       "      <td>2.0</td>\n",
       "      <td>52770.997042</td>\n",
       "      <td>53833.132747</td>\n",
       "      <td>-0.083859</td>\n",
       "      <td>-0.017313</td>\n",
       "      <td>0.002424</td>\n",
       "      <td>1.355884e+06</td>\n",
       "      <td>-0.082424</td>\n",
       "      <td>-0.017576</td>\n",
       "      <td>0.002323</td>\n",
       "      <td>...</td>\n",
       "      <td>5110.7016</td>\n",
       "      <td>286.3</td>\n",
       "      <td>204054.030612</td>\n",
       "      <td>05|07</td>\n",
       "      <td>-0.043</td>\n",
       "      <td>-0.143247</td>\n",
       "      <td>0.001</td>\n",
       "      <td>0.0</td>\n",
       "      <td>-7</td>\n",
       "      <td>-8</td>\n",
       "    </tr>\n",
       "    <tr>\n",
       "      <th>0 days 14:39:32</th>\n",
       "      <td>2.0</td>\n",
       "      <td>52772.000473</td>\n",
       "      <td>53834.136150</td>\n",
       "      <td>-0.083960</td>\n",
       "      <td>-0.017560</td>\n",
       "      <td>0.002490</td>\n",
       "      <td>1.355884e+06</td>\n",
       "      <td>-0.082430</td>\n",
       "      <td>-0.017490</td>\n",
       "      <td>0.002280</td>\n",
       "      <td>...</td>\n",
       "      <td>5110.7016</td>\n",
       "      <td>286.3</td>\n",
       "      <td>204055.000000</td>\n",
       "      <td>05|07</td>\n",
       "      <td>-0.044</td>\n",
       "      <td>-0.144925</td>\n",
       "      <td>0.001</td>\n",
       "      <td>0.0</td>\n",
       "      <td>-7</td>\n",
       "      <td>-8</td>\n",
       "    </tr>\n",
       "    <tr>\n",
       "      <th>0 days 14:39:33</th>\n",
       "      <td>2.0</td>\n",
       "      <td>52773.003900</td>\n",
       "      <td>53835.139566</td>\n",
       "      <td>-0.083919</td>\n",
       "      <td>-0.017273</td>\n",
       "      <td>0.002444</td>\n",
       "      <td>1.355884e+06</td>\n",
       "      <td>-0.082646</td>\n",
       "      <td>-0.017525</td>\n",
       "      <td>0.002333</td>\n",
       "      <td>...</td>\n",
       "      <td>5110.7016</td>\n",
       "      <td>286.3</td>\n",
       "      <td>204055.979167</td>\n",
       "      <td>05|07</td>\n",
       "      <td>-0.042</td>\n",
       "      <td>-0.145139</td>\n",
       "      <td>0.001</td>\n",
       "      <td>0.0</td>\n",
       "      <td>-7</td>\n",
       "      <td>-8</td>\n",
       "    </tr>\n",
       "    <tr>\n",
       "      <th>0 days 14:39:34</th>\n",
       "      <td>2.0</td>\n",
       "      <td>52774.002288</td>\n",
       "      <td>53836.137929</td>\n",
       "      <td>-0.083515</td>\n",
       "      <td>-0.017253</td>\n",
       "      <td>0.002394</td>\n",
       "      <td>1.355884e+06</td>\n",
       "      <td>-0.082414</td>\n",
       "      <td>-0.017263</td>\n",
       "      <td>0.002263</td>\n",
       "      <td>...</td>\n",
       "      <td>5110.7016</td>\n",
       "      <td>286.3</td>\n",
       "      <td>204056.979592</td>\n",
       "      <td>05|07</td>\n",
       "      <td>-0.042</td>\n",
       "      <td>-0.145245</td>\n",
       "      <td>0.001</td>\n",
       "      <td>0.0</td>\n",
       "      <td>-7</td>\n",
       "      <td>-8</td>\n",
       "    </tr>\n",
       "    <tr>\n",
       "      <th>0 days 14:39:35</th>\n",
       "      <td>2.0</td>\n",
       "      <td>52774.728387</td>\n",
       "      <td>53836.864000</td>\n",
       "      <td>-0.083622</td>\n",
       "      <td>-0.017622</td>\n",
       "      <td>0.002467</td>\n",
       "      <td>1.355884e+06</td>\n",
       "      <td>-0.082800</td>\n",
       "      <td>-0.017489</td>\n",
       "      <td>0.002311</td>\n",
       "      <td>...</td>\n",
       "      <td>5110.7016</td>\n",
       "      <td>286.3</td>\n",
       "      <td>204057.931818</td>\n",
       "      <td>05|07</td>\n",
       "      <td>-0.041</td>\n",
       "      <td>-0.147741</td>\n",
       "      <td>0.001</td>\n",
       "      <td>0.0</td>\n",
       "      <td>-7</td>\n",
       "      <td>-8</td>\n",
       "    </tr>\n",
       "  </tbody>\n",
       "</table>\n",
       "<p>52639 rows × 171 columns</p>\n",
       "</div>"
      ]
     },
     "execution_count": 38,
     "metadata": {},
     "output_type": "execute_result"
    }
   ],
   "execution_count": 38
  },
  {
   "metadata": {
    "ExecuteTime": {
     "end_time": "2024-11-29T15:57:17.655587Z",
     "start_time": "2024-11-29T15:57:17.594551Z"
    }
   },
   "cell_type": "code",
   "source": [
    "#merged_df1 filter alle snelheden boven de 100 km/u\n",
    "merged_df1 = merged_df1[merged_df1['1_Gps-snelheid, in km/u'] < 100]"
   ],
   "id": "abd420eaef905278",
   "outputs": [],
   "execution_count": 39
  },
  {
   "metadata": {
    "ExecuteTime": {
     "end_time": "2024-11-29T15:57:19.034297Z",
     "start_time": "2024-11-29T15:57:19.024299Z"
    }
   },
   "cell_type": "code",
   "source": [
    "import pandas as pd\n",
    "import numpy as np\n",
    "import matplotlib.pyplot as plt\n",
    "import re\n",
    "\n",
    "# Veronderstel dat 'merged_df' je dataframe is\n",
    "# (vervang 'merged_df' door 'merged_df1' als je specifiek met 'merged_df1' werkt)\n",
    "\n",
    "# Stap 1: Identificeer de kolommen voor paneelvermogens\n",
    "def identificeer_paneelvermogens(df):\n",
    "    paneel_power_cols = []\n",
    "    pattern = r'^\\d+_Paneel \\d+ instantaan ingangsvermogen, in W$'\n",
    "    for col in df.columns:\n",
    "        if re.match(pattern, col):\n",
    "            paneel_power_cols.append(col)\n",
    "    return paneel_power_cols\n",
    "\n",
    "paneel_power_cols = identificeer_paneelvermogens(merged_df1)\n",
    "\n",
    "# Controleer welke kolommen zijn gevonden\n",
    "print(\"Gevonden paneelvermogen kolommen:\")\n",
    "for col in paneel_power_cols:\n",
    "    print(col)"
   ],
   "id": "b078456437b81cb3",
   "outputs": [
    {
     "name": "stdout",
     "output_type": "stream",
     "text": [
      "Gevonden paneelvermogen kolommen:\n",
      "1_Paneel 1 instantaan ingangsvermogen, in W\n",
      "1_Paneel 2 instantaan ingangsvermogen, in W\n",
      "2_Paneel 1 instantaan ingangsvermogen, in W\n",
      "2_Paneel 2 instantaan ingangsvermogen, in W\n",
      "3_Paneel 1 instantaan ingangsvermogen, in W\n",
      "3_Paneel 2 instantaan ingangsvermogen, in W\n",
      "4_Paneel 1 instantaan ingangsvermogen, in W\n",
      "4_Paneel 2 instantaan ingangsvermogen, in W\n",
      "5_Paneel 1 instantaan ingangsvermogen, in W\n",
      "5_Paneel 2 instantaan ingangsvermogen, in W\n"
     ]
    }
   ],
   "execution_count": 40
  },
  {
   "metadata": {
    "ExecuteTime": {
     "end_time": "2024-11-29T16:00:29.699781Z",
     "start_time": "2024-11-29T16:00:29.568646Z"
    }
   },
   "cell_type": "code",
   "source": [
    "# Bereken de totale output power door alle paneelvermogens op te tellen\n",
    "merged_df1['Totale_MPPT_Output_W'] = merged_df1[paneel_power_cols].sum(axis=1)"
   ],
   "id": "82a262262b13c11e",
   "outputs": [],
   "execution_count": 43
  },
  {
   "metadata": {
    "ExecuteTime": {
     "end_time": "2024-11-29T16:00:32.472112Z",
     "start_time": "2024-11-29T16:00:32.462148Z"
    }
   },
   "cell_type": "code",
   "source": [
    "# Aantal panelen is gelijk aan het aantal vermogen kolommen gevonden\n",
    "aantal_panelen = len(paneel_power_cols)\n",
    "oppervlakte_per_paneel = 0.5  # in m² (pas dit aan naar jouw situatie)\n",
    "totale_oppervlakte = aantal_panelen * oppervlakte_per_paneel"
   ],
   "id": "f87df036c4d9a090",
   "outputs": [],
   "execution_count": 44
  },
  {
   "metadata": {
    "ExecuteTime": {
     "end_time": "2024-11-29T16:00:33.655068Z",
     "start_time": "2024-11-29T16:00:33.366244Z"
    }
   },
   "cell_type": "code",
   "source": [
    "def identificeer_pirano_kolommen(df):\n",
    "    pirano_cols = []\n",
    "    pattern = r'^\\d+_Pirano \\d+$'\n",
    "    for col in df.columns:\n",
    "        if re.match(pattern, col):\n",
    "            pirano_cols.append(col)\n",
    "    return pirano_cols\n",
    "\n",
    "pirano_cols = identificeer_pirano_kolommen(merged_df1)\n",
    "\n",
    "# Controleer welke kolommen zijn gevonden\n",
    "print(\"Gevonden pyranometer kolommen:\")\n",
    "for col in pirano_cols:\n",
    "    print(col)\n",
    "\n",
    "# Bereken de gemiddelde irradiance\n",
    "if len(pirano_cols) >= 2:\n",
    "    merged_df1['Gemiddelde_Irradiance_W_per_m2'] = merged_df1[pirano_cols].mean(axis=1)\n",
    "elif len(pirano_cols) == 1:\n",
    "    merged_df1['Gemiddelde_Irradiance_W_per_m2'] = merged_df1[pirano_cols[0]]\n",
    "else:\n",
    "    print(\"Geen pyranometer data beschikbaar.\")\n",
    "    merged_df1['Gemiddelde_Irradiance_W_per_m2'] = np.nan"
   ],
   "id": "95e9bcd3f3e10d63",
   "outputs": [
    {
     "name": "stdout",
     "output_type": "stream",
     "text": [
      "Gevonden pyranometer kolommen:\n",
      "2_Pirano 1\n",
      "2_Pirano 2\n",
      "4_Pirano 2\n",
      "4_Pirano 1\n",
      "5_Pirano 1\n",
      "5_Pirano 2\n"
     ]
    },
    {
     "name": "stderr",
     "output_type": "stream",
     "text": [
      "<ipython-input-45-e12e4c05b704>:18: FutureWarning: Dropping of nuisance columns in DataFrame reductions (with 'numeric_only=None') is deprecated; in a future version this will raise TypeError.  Select only valid columns before calling the reduction.\n",
      "  merged_df1['Gemiddelde_Irradiance_W_per_m2'] = merged_df1[pirano_cols].mean(axis=1)\n"
     ]
    }
   ],
   "execution_count": 45
  },
  {
   "metadata": {
    "ExecuteTime": {
     "end_time": "2024-11-29T16:00:35.337041Z",
     "start_time": "2024-11-29T16:00:35.316707Z"
    }
   },
   "cell_type": "code",
   "source": [
    "merged_df1['Totale_Incident_Power_W'] = merged_df1['Gemiddelde_Irradiance_W_per_m2'] * totale_oppervlakte\n",
    "\n",
    "# Vermijd deling door nul\n",
    "merged_df1['Totale_Incident_Power_W'].replace(0, np.nan, inplace=True)"
   ],
   "id": "4353288f4eb6b198",
   "outputs": [],
   "execution_count": 46
  },
  {
   "metadata": {
    "ExecuteTime": {
     "end_time": "2024-11-29T16:00:36.511615Z",
     "start_time": "2024-11-29T16:00:36.319716Z"
    }
   },
   "cell_type": "code",
   "source": [
    "merged_df1['Efficiëntie_perc'] = (\n",
    "    merged_df1['Totale_MPPT_Output_W'] / merged_df1['Totale_Incident_Power_W']\n",
    ") * 100\n",
    "\n",
    "# Verwijder eventuele NaN-waarden\n",
    "merged_df1.dropna(subset=['Efficiëntie_perc'], inplace=True)"
   ],
   "id": "2a46caf4c959d8b7",
   "outputs": [],
   "execution_count": 47
  },
  {
   "metadata": {
    "ExecuteTime": {
     "end_time": "2024-11-29T16:01:46.652965Z",
     "start_time": "2024-11-29T16:01:46.476707Z"
    }
   },
   "cell_type": "code",
   "source": [
    "#filter snelheden boven de 100km/u eruit\n",
    "merged_df1 = merged_df1[merged_df1['1_Gps-snelheid, in km/u'] < 100]\n",
    "#en effcienties boven de 200%\n",
    "merged_df1 = merged_df1[merged_df1['Efficiëntie_perc'] < 200]\n",
    "merged_df1 = merged_df1[merged_df1['Efficiëntie_perc'] > -200]"
   ],
   "id": "231069703858636e",
   "outputs": [],
   "execution_count": 51
  },
  {
   "metadata": {
    "ExecuteTime": {
     "end_time": "2024-11-29T16:03:39.907435Z",
     "start_time": "2024-11-29T16:03:39.631311Z"
    }
   },
   "cell_type": "code",
   "source": [
    "# Efficiëntie over de tijd plotten\n",
    "plt.figure(figsize=(12, 6))\n",
    "plt.plot(merged_df1['1_Dataloggertijd, in s'], merged_df1['Efficiëntie_perc'], label='Efficiëntie')\n",
    "plt.title('Efficiëntie van het zonne-energiesysteem over de tijd')\n",
    "plt.xlabel('Tijd')\n",
    "plt.ylabel('Efficiëntie (%)')\n",
    "plt.legend()\n",
    "plt.grid(True)\n",
    "plt.show()"
   ],
   "id": "fd422d9c309def74",
   "outputs": [
    {
     "data": {
      "text/plain": [
       "<Figure size 864x432 with 1 Axes>"
      ],
      "image/png": "[encoded data removed]"
     },
     "metadata": {
      "needs_background": "light"
     },
     "output_type": "display_data"
    }
   ],
   "execution_count": 54
  },
  {
   "metadata": {
    "ExecuteTime": {
     "end_time": "2024-11-29T16:05:00.313980Z",
     "start_time": "2024-11-29T16:05:00.218258Z"
    }
   },
   "cell_type": "code",
   "source": [
    "#sorteer de data op tijd\n",
    "merged_df1.sort_values(by='1_Dataloggertijd, in s', inplace=True)\n"
   ],
   "id": "1ef8d5e8f23aa461",
   "outputs": [],
   "execution_count": 57
  },
  {
   "metadata": {
    "ExecuteTime": {
     "end_time": "2024-11-29T16:05:02.230689Z",
     "start_time": "2024-11-29T16:05:01.960578Z"
    }
   },
   "cell_type": "code",
   "source": [
    "#plot efficiëntie tegen pirano opbrengst\n",
    "plt.figure(figsize=(12, 6))\n",
    "plt.scatter(merged_df1['Totale_Incident_Power_W'], merged_df1['Efficiëntie_perc'])\n",
    "plt.title('Efficiëntie van het zonne-energiesysteem tegen pirano opbrengst')\n",
    "plt.xlabel('Pirano opbrengst (W/m²)')\n",
    "plt.ylabel('Efficiëntie (%)')\n",
    "plt.grid(True)\n",
    "plt.show()"
   ],
   "id": "a1987bde2f5b1233",
   "outputs": [
    {
     "data": {
      "text/plain": [
       "<Figure size 864x432 with 1 Axes>"
      ],
      "image/png": "[encoded data removed]"
     },
     "metadata": {
      "needs_background": "light"
     },
     "output_type": "display_data"
    }
   ],
   "execution_count": 58
  },
  {
   "metadata": {
    "ExecuteTime": {
     "end_time": "2024-11-29T16:06:09.668826Z",
     "start_time": "2024-11-29T16:06:09.590035Z"
    }
   },
   "cell_type": "code",
   "source": [
    "#filter prirano meter hoger dan 2000 eruit\n",
    "merged_df1 = merged_df1[merged_df1['Totale_Incident_Power_W'] < 2000]"
   ],
   "id": "de52246ca9d641e3",
   "outputs": [],
   "execution_count": 61
  },
  {
   "metadata": {
    "ExecuteTime": {
     "end_time": "2024-11-29T16:09:50.570475Z",
     "start_time": "2024-11-29T16:09:49.823229Z"
    }
   },
   "cell_type": "code",
   "source": [
    "import matplotlib.pyplot as plt\n",
    "import numpy as np\n",
    "\n",
    "# Plot prirano meter tegen mppt outputs totaal\n",
    "plt.figure(figsize=(12, 6))\n",
    "plt.scatter(merged_df1['Totale_Incident_Power_W'], merged_df1['Totale_MPPT_Output_W'], label='Data points')\n",
    "\n",
    "# Calculate the linear trendline\n",
    "slope, intercept = np.polyfit(merged_df1['Totale_Incident_Power_W'], merged_df1['Totale_MPPT_Output_W'], 1)\n",
    "trendline = slope * merged_df1['Totale_Incident_Power_W'] + intercept\n",
    "\n",
    "# Plot the trendline\n",
    "plt.plot(merged_df1['Totale_Incident_Power_W'], trendline, color='red', label='Trendline')\n",
    "\n",
    "# Add titles and labels\n",
    "plt.title('Pirano meter tegen MPPT outputs totaal | Data terugvaart Durnal - Heel')\n",
    "plt.xlabel('Pirano meter (W/m²)')\n",
    "plt.ylabel('MPPT outputs totaal (W)')\n",
    "plt.legend()\n",
    "plt.grid(True)\n",
    "\n",
    "# Add the trendline formula as text annotation\n",
    "formula = f'Trendline: y = {slope:.2f}x + {intercept:.2f}'\n",
    "plt.text(0.05, 0.95, formula, transform=plt.gca().transAxes, fontsize=12, verticalalignment='top')\n",
    "\n",
    "plt.show()"
   ],
   "id": "4ec5f66d2fee8cbc",
   "outputs": [
    {
     "data": {
      "text/plain": [
       "<Figure size 864x432 with 1 Axes>"
      ],
      "image/png": "[encoded data removed]"
     },
     "metadata": {
      "needs_background": "light"
     },
     "output_type": "display_data"
    }
   ],
   "execution_count": 66
  },
  {
   "metadata": {},
   "cell_type": "code",
   "outputs": [],
   "execution_count": null,
   "source": "",
   "id": "ba075d462eb9bb36"
  }
 ],
 "metadata": {
  "kernelspec": {
   "display_name": "Python 3",
   "language": "python",
   "name": "python3"
  },
  "language_info": {
   "codemirror_mode": {
    "name": "ipython",
    "version": 3
   },
   "file_extension": ".py",
   "mimetype": "text/x-python",
   "name": "python",
   "nbconvert_exporter": "python",
   "pygments_lexer": "ipython3",
   "version": "3.8.8"
  }
 },
 "nbformat": 4,
 "nbformat_minor": 5
}
