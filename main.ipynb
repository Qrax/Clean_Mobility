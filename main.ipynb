{
 "cells": [
  {
   "metadata": {
    "ExecuteTime": {
     "end_time": "2024-11-26T12:14:38.772001Z",
     "start_time": "2024-11-26T12:14:38.730988Z"
    }
   },
   "cell_type": "code",
   "source": [
    "# Import necessary libraries\n",
    "import time\n",
    "import os\n",
    "import matplotlib.pyplot as plt\n",
    "import numpy as np\n",
    "import pandas as pd\n",
    "from scipy.optimize import curve_fit\n",
    "import libraries as lib\n",
    "\n",
    "# Use lib.DataUitzoekenGui to load the data interactively\n",
    "# Adjust the directory paths as needed\n",
    "directory1 = \"../../../OneDrive - HvA/Logfiles/SOLAR/2024/20240707_20240715_terugvaart/20240713_Huy-Limburg/0026 - 20240713T080342 14h37m16s 145.044km Durnal - Heel\"\n",
    "directory2 = \"../../../OneDrive - HvA/Logfiles/SOLAR/2024/2024-10-24_sleeptest/0056 - 20241024T115530 1h25m5s 12.315km De Rijp - Uitgeest - De Rijp\"\n",
    "\n",
    "# Load dataset 1\n",
    "print(\"Select files for Dataset 1:\")\n",
    "result1 = lib.DataUitzoekenGui(directory1)\n",
    "\n",
    "# Load dataset 2\n",
    "print(\"Select files for Dataset 2:\")\n",
    "result2 = lib.DataUitzoekenGui(directory2)\n",
    "\n",
    "print(\"Both datasets are loaded successfully!\")\n"
   ],
   "id": "e403b8fe47e8a28c",
   "outputs": [
    {
     "name": "stdout",
     "output_type": "stream",
     "text": [
      "Select files for Dataset 1:\n"
     ]
    },
    {
     "data": {
      "text/plain": [
       "SelectMultiple(description='Bestanden:', options=('0_Bus.csv', '2_MPPT_0_05_05.csv', '3_MPPT_1_05_07.csv', '4_…"
      ],
      "application/vnd.jupyter.widget-view+json": {
       "version_major": 2,
       "version_minor": 0,
       "model_id": "26e51c39f19443a8937320d757732bf9"
      }
     },
     "metadata": {},
     "output_type": "display_data"
    },
    {
     "data": {
      "text/plain": [
       "Button(button_style='success', description='Bestanden Laden', icon='check', style=ButtonStyle(), tooltip='Klik…"
      ],
      "application/vnd.jupyter.widget-view+json": {
       "version_major": 2,
       "version_minor": 0,
       "model_id": "0642a5b05ada441ab8200df62083c54b"
      }
     },
     "metadata": {},
     "output_type": "display_data"
    },
    {
     "data": {
      "text/plain": [
       "Label(value='')"
      ],
      "application/vnd.jupyter.widget-view+json": {
       "version_major": 2,
       "version_minor": 0,
       "model_id": "96cfa49b32c34c80943e49f28111a346"
      }
     },
     "metadata": {},
     "output_type": "display_data"
    },
    {
     "name": "stdout",
     "output_type": "stream",
     "text": [
      "Select files for Dataset 2:\n"
     ]
    },
    {
     "data": {
      "text/plain": [
       "SelectMultiple(description='Bestanden:', options=('0_Bus.csv', '1_Master_08_05.csv', '2_MPPT_0_05_05.csv', '3_…"
      ],
      "application/vnd.jupyter.widget-view+json": {
       "version_major": 2,
       "version_minor": 0,
       "model_id": "d8034fe4e5344d268a38b800f3562656"
      }
     },
     "metadata": {},
     "output_type": "display_data"
    },
    {
     "data": {
      "text/plain": [
       "Button(button_style='success', description='Bestanden Laden', icon='check', style=ButtonStyle(), tooltip='Klik…"
      ],
      "application/vnd.jupyter.widget-view+json": {
       "version_major": 2,
       "version_minor": 0,
       "model_id": "1574ce5e84fe4d9f92d893821fa72976"
      }
     },
     "metadata": {},
     "output_type": "display_data"
    },
    {
     "data": {
      "text/plain": [
       "Label(value='')"
      ],
      "application/vnd.jupyter.widget-view+json": {
       "version_major": 2,
       "version_minor": 0,
       "model_id": "f8a1fdd982a94df4b612b4a7ad77c081"
      }
     },
     "metadata": {},
     "output_type": "display_data"
    },
    {
     "name": "stdout",
     "output_type": "stream",
     "text": [
      "Both datasets are loaded successfully!\n"
     ]
    }
   ],
   "execution_count": 8
  },
  {
   "metadata": {
    "ExecuteTime": {
     "end_time": "2024-11-26T12:14:46.372579Z",
     "start_time": "2024-11-26T12:14:46.346598Z"
    }
   },
   "cell_type": "code",
   "source": "print(result2)",
   "id": "8d29db9952a4fcdf",
   "outputs": [
    {
     "name": "stdout",
     "output_type": "stream",
     "text": [
      "{'merged_df':                  1_Datalogger port  1_Dataloggertijd, in s  1_Cycle count  \\\n",
      "Indextijd                                                                   \n",
      "0 days 00:02:19                NaN                     NaN            NaN   \n",
      "0 days 00:02:20                9.0                140.4098        145.861   \n",
      "0 days 00:02:21                9.0                141.4102        146.860   \n",
      "0 days 00:02:22                9.0                142.4364        147.886   \n",
      "0 days 00:02:23                9.0                143.4079        148.859   \n",
      "...                            ...                     ...            ...   \n",
      "0 days 01:27:32                NaN                     NaN            NaN   \n",
      "0 days 01:27:33                NaN                     NaN            NaN   \n",
      "0 days 01:27:34                NaN                     NaN            NaN   \n",
      "0 days 01:27:35                NaN                     NaN            NaN   \n",
      "0 days 01:27:36                NaN                     NaN            NaN   \n",
      "\n",
      "                  1_Tijd  1_Latitude  1_Longitude  \\\n",
      "Indextijd                                           \n",
      "0 days 00:02:19      NaN         NaN          NaN   \n",
      "0 days 00:02:20  95531.0   5233.2842     446.5866   \n",
      "0 days 00:02:21  95532.0   5233.2847     446.5861   \n",
      "0 days 00:02:22  95533.0   5233.2850     446.5858   \n",
      "0 days 00:02:23  95534.0   5233.2856     446.5850   \n",
      "...                  ...         ...          ...   \n",
      "0 days 01:27:32      NaN         NaN          NaN   \n",
      "0 days 01:27:33      NaN         NaN          NaN   \n",
      "0 days 01:27:34      NaN         NaN          NaN   \n",
      "0 days 01:27:35      NaN         NaN          NaN   \n",
      "0 days 01:27:36      NaN         NaN          NaN   \n",
      "\n",
      "                 1_Snelheid over de grond in km/h  1_Richting van de snelheid  \\\n",
      "Indextijd                                                                       \n",
      "0 days 00:02:19                               NaN                         NaN   \n",
      "0 days 00:02:20                               3.9                       324.9   \n",
      "0 days 00:02:21                               3.9                       325.2   \n",
      "0 days 00:02:22                               3.9                       325.3   \n",
      "0 days 00:02:23                               3.9                       324.7   \n",
      "...                                           ...                         ...   \n",
      "0 days 01:27:32                               NaN                         NaN   \n",
      "0 days 01:27:33                               NaN                         NaN   \n",
      "0 days 01:27:34                               NaN                         NaN   \n",
      "0 days 01:27:35                               NaN                         NaN   \n",
      "0 days 01:27:36                               NaN                         NaN   \n",
      "\n",
      "                  1_Datum  1_Magnetische variatie  ...  \\\n",
      "Indextijd                                          ...   \n",
      "0 days 00:02:19       NaN                     NaN  ...   \n",
      "0 days 00:02:20  241024.0                     NaN  ...   \n",
      "0 days 00:02:21  241024.0                     NaN  ...   \n",
      "0 days 00:02:22  241024.0                     NaN  ...   \n",
      "0 days 00:02:23  241024.0                     NaN  ...   \n",
      "...                   ...                     ...  ...   \n",
      "0 days 01:27:32       NaN                     NaN  ...   \n",
      "0 days 01:27:33       NaN                     NaN  ...   \n",
      "0 days 01:27:34       NaN                     NaN  ...   \n",
      "0 days 01:27:35       NaN                     NaN  ...   \n",
      "0 days 01:27:36       NaN                     NaN  ...   \n",
      "\n",
      "                 2_Externe ingangsspanning, in V  \\\n",
      "Indextijd                                          \n",
      "0 days 00:02:19                         1.293000   \n",
      "0 days 00:02:20                         1.293000   \n",
      "0 days 00:02:21                         1.293500   \n",
      "0 days 00:02:22                         1.292857   \n",
      "0 days 00:02:23                         1.292667   \n",
      "...                                          ...   \n",
      "0 days 01:27:32                         1.320857   \n",
      "0 days 01:27:33                         1.320857   \n",
      "0 days 01:27:34                         1.320333   \n",
      "0 days 01:27:35                         1.320500   \n",
      "0 days 01:27:36                         1.321000   \n",
      "\n",
      "                 2_Spanning op V_Analog, in V  \\\n",
      "Indextijd                                       \n",
      "0 days 00:02:19                      5.071200   \n",
      "0 days 00:02:20                      5.072000   \n",
      "0 days 00:02:21                      5.075000   \n",
      "0 days 00:02:22                      5.075857   \n",
      "0 days 00:02:23                      5.075833   \n",
      "...                                       ...   \n",
      "0 days 01:27:32                      5.078000   \n",
      "0 days 01:27:33                      5.078571   \n",
      "0 days 01:27:34                      5.077333   \n",
      "0 days 01:27:35                      5.076167   \n",
      "0 days 01:27:36                      5.078500   \n",
      "\n",
      "                 2_Spanning op de supercaps, in V  \\\n",
      "Indextijd                                           \n",
      "0 days 00:02:19                          5.758200   \n",
      "0 days 00:02:20                          5.759400   \n",
      "0 days 00:02:21                          5.762333   \n",
      "0 days 00:02:22                          5.762714   \n",
      "0 days 00:02:23                          5.763167   \n",
      "...                                           ...   \n",
      "0 days 01:27:32                          5.764714   \n",
      "0 days 01:27:33                          5.764857   \n",
      "0 days 01:27:34                          5.764167   \n",
      "0 days 01:27:35                          5.762667   \n",
      "0 days 01:27:36                          5.765500   \n",
      "\n",
      "                 2_Externe temperatuur, in graden Celsius  \\\n",
      "Indextijd                                                   \n",
      "0 days 00:02:19                                  0.027200   \n",
      "0 days 00:02:20                                  0.027200   \n",
      "0 days 00:02:21                                  0.027333   \n",
      "0 days 00:02:22                                  0.027143   \n",
      "0 days 00:02:23                                  0.027167   \n",
      "...                                                   ...   \n",
      "0 days 01:27:32                                  0.027000   \n",
      "0 days 01:27:33                                  0.027429   \n",
      "0 days 01:27:34                                  0.027000   \n",
      "0 days 01:27:35                                  0.027167   \n",
      "0 days 01:27:36                                  0.027500   \n",
      "\n",
      "                2_Interne temperatuur, in graden Celsius  \\\n",
      "Indextijd                                                  \n",
      "0 days 00:02:19                                24.305200   \n",
      "0 days 00:02:20                                24.311800   \n",
      "0 days 00:02:21                                24.324833   \n",
      "0 days 00:02:22                                24.328857   \n",
      "0 days 00:02:23                                24.333167   \n",
      "...                                                  ...   \n",
      "0 days 01:27:32                                25.531714   \n",
      "0 days 01:27:33                                25.528429   \n",
      "0 days 01:27:34                                25.527667   \n",
      "0 days 01:27:35                                25.519667   \n",
      "0 days 01:27:36                                25.534000   \n",
      "\n",
      "                2_Laadstroom van de supercaps, in mA  \\\n",
      "Indextijd                                              \n",
      "0 days 00:02:19                            38.700000   \n",
      "0 days 00:02:20                            38.740000   \n",
      "0 days 00:02:21                            38.766667   \n",
      "0 days 00:02:22                            38.714286   \n",
      "0 days 00:02:23                            38.700000   \n",
      "...                                              ...   \n",
      "0 days 01:27:32                            38.742857   \n",
      "0 days 01:27:33                            38.771429   \n",
      "0 days 01:27:34                            38.766667   \n",
      "0 days 01:27:35                            38.766667   \n",
      "0 days 01:27:36                            38.800000   \n",
      "\n",
      "                2_Stroom door de load cell, in mA 2_Datalogger port  \\\n",
      "Indextijd                                                             \n",
      "0 days 00:02:19                              12.1                 B   \n",
      "0 days 00:02:20                              12.1                 B   \n",
      "0 days 00:02:21                              12.1                 B   \n",
      "0 days 00:02:22                              12.1                 B   \n",
      "0 days 00:02:23                              12.1                 B   \n",
      "...                                           ...               ...   \n",
      "0 days 01:27:32                              12.1                 B   \n",
      "0 days 01:27:33                              12.1                 B   \n",
      "0 days 01:27:34                              12.1                 B   \n",
      "0 days 01:27:35                              12.1                 B   \n",
      "0 days 01:27:36                              12.1                 B   \n",
      "\n",
      "                2_Format header (>21|02)  2_Load cell interface tijd, in s  \n",
      "Indextijd                                                                   \n",
      "0 days 00:02:19                    21|02                           3554.85  \n",
      "0 days 00:02:20                    21|02                           3555.75  \n",
      "0 days 00:02:21                    21|02                           3556.65  \n",
      "0 days 00:02:22                    21|02                           3557.70  \n",
      "0 days 00:02:23                    21|02                           3558.75  \n",
      "...                                  ...                               ...  \n",
      "0 days 01:27:32                    21|02                           8667.60  \n",
      "0 days 01:27:33                    21|02                           8668.65  \n",
      "0 days 01:27:34                    21|02                           8669.70  \n",
      "0 days 01:27:35                    21|02                           8670.60  \n",
      "0 days 01:27:36                    21|02                           8671.65  \n",
      "\n",
      "[5118 rows x 37 columns]}\n"
     ]
    }
   ],
   "execution_count": 9
  },
  {
   "metadata": {},
   "cell_type": "code",
   "outputs": [],
   "execution_count": null,
   "source": "",
   "id": "a0a6e4314ef386fb"
  }
 ],
 "metadata": {
  "kernelspec": {
   "display_name": "Python 3",
   "language": "python",
   "name": "python3"
  },
  "language_info": {
   "codemirror_mode": {
    "name": "ipython",
    "version": 3
   },
   "file_extension": ".py",
   "mimetype": "text/x-python",
   "name": "python",
   "nbconvert_exporter": "python",
   "pygments_lexer": "ipython3",
   "version": "3.8.8"
  }
 },
 "nbformat": 4,
 "nbformat_minor": 5
}
