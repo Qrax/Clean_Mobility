{
 "cells": [
  {
   "cell_type": "code",
   "id": "200c6cb5-3b99-4942-80ba-fece84071309",
   "metadata": {
    "tags": [],
    "ExecuteTime": {
     "end_time": "2024-09-27T20:36:15.592633Z",
     "start_time": "2024-09-27T20:36:13.356308Z"
    }
   },
   "source": [
    "from heapq import merge\n",
    "\n",
    "import matplotlib.pyplot as plt\n",
    "import numpy as np\n",
    "import pandas as pd\n",
    "import os\n",
    "import copy\n",
    "from math import sqrt,ceil\n",
    "\n",
    "#from rope.base.oi.soa import analyze_module\n",
    "from scipy.stats import linregress\n",
    "import libraries as lib"
   ],
   "outputs": [
    {
     "name": "stderr",
     "output_type": "stream",
     "text": [
      "C:\\Users\\quinc\\anaconda3\\Lib\\site-packages\\pandas\\core\\arrays\\masked.py:60: UserWarning: Pandas requires version '1.3.6' or newer of 'bottleneck' (version '1.3.5' currently installed).\n",
      "  from pandas.core import (\n"
     ]
    }
   ],
   "execution_count": 1
  },
  {
   "metadata": {
    "ExecuteTime": {
     "end_time": "2024-09-27T20:36:15.615832Z",
     "start_time": "2024-09-27T20:36:15.598615Z"
    }
   },
   "cell_type": "code",
   "source": [
    "# Voorbeeld van hoe je de functie kunt aanroepen\n",
    "directory = \"../../../OneDrive - HvA/Logfiles/SOLAR/2024/20240701_20240707_monaco/20240705_endurance/0197 - 20240705T112922 4h42m28s 12.770km Monte-Carlo - Saint-Roman - Monte-Carlo\"\n",
    "result = lib.DataUitzoekenGui(directory)"
   ],
   "id": "c5ed1e145abaddcd",
   "outputs": [
    {
     "data": {
      "text/plain": [
       "SelectMultiple(description='Bestanden:', options=('0_Bus.csv', '2_MPPT_0_05_05.csv', '3_MPPT_1_05_05.csv', '4_…"
      ],
      "application/vnd.jupyter.widget-view+json": {
       "version_major": 2,
       "version_minor": 0,
       "model_id": "f37e9c7360154166a34d6de37822e164"
      }
     },
     "metadata": {},
     "output_type": "display_data"
    },
    {
     "data": {
      "text/plain": [
       "Button(button_style='success', description='Bestanden Laden', icon='check', style=ButtonStyle(), tooltip='Klik…"
      ],
      "application/vnd.jupyter.widget-view+json": {
       "version_major": 2,
       "version_minor": 0,
       "model_id": "6c48e78dcf49495c87118197d7ac84e3"
      }
     },
     "metadata": {},
     "output_type": "display_data"
    },
    {
     "data": {
      "text/plain": [
       "Label(value='')"
      ],
      "application/vnd.jupyter.widget-view+json": {
       "version_major": 2,
       "version_minor": 0,
       "model_id": "0f6d79a132444ddfb29e97b5aabb184a"
      }
     },
     "metadata": {},
     "output_type": "display_data"
    }
   ],
   "execution_count": 2
  },
  {
   "metadata": {
    "ExecuteTime": {
     "end_time": "2024-09-27T20:36:26.953458Z",
     "start_time": "2024-09-27T20:36:26.935121Z"
    }
   },
   "cell_type": "code",
   "source": [
    "# Na het laden van de bestanden en het klikken op de knop\n",
    "# Controleer of 'merged_df' in result zit\n",
    "if 'merged_df' in result:\n",
    "    merged_df = result['merged_df']\n",
    "    # Gebruik merged_df zoals je wilt\n",
    "    display(merged_df.head())\n",
    "else:\n",
    "    print(\"De data is nog niet geladen.\")\n"
   ],
   "id": "4b3595fd13f135fe",
   "outputs": [
    {
     "data": {
      "text/plain": [
       "                 Datalogger port_x  Dataloggertijd, in s_x  \\\n",
       "Indextijd                                                    \n",
       "0 days 00:00:49                NaN                     NaN   \n",
       "0 days 00:00:50                NaN                     NaN   \n",
       "0 days 00:00:51                NaN                     NaN   \n",
       "0 days 00:00:52                NaN                     NaN   \n",
       "0 days 00:00:53                NaN                     NaN   \n",
       "\n",
       "                 Tijd sinds boot in seconden  tijd  Datum_x  \\\n",
       "Indextijd                                                     \n",
       "0 days 00:00:49                          NaN   NaN      NaN   \n",
       "0 days 00:00:50                          NaN   NaN      NaN   \n",
       "0 days 00:00:51                          NaN   NaN      NaN   \n",
       "0 days 00:00:52                          NaN   NaN      NaN   \n",
       "0 days 00:00:53                          NaN   NaN      NaN   \n",
       "\n",
       "                 Cel spanning van cel 1  Cel spanning van cel 2  \\\n",
       "Indextijd                                                         \n",
       "0 days 00:00:49                     NaN                     NaN   \n",
       "0 days 00:00:50                     NaN                     NaN   \n",
       "0 days 00:00:51                     NaN                     NaN   \n",
       "0 days 00:00:52                     NaN                     NaN   \n",
       "0 days 00:00:53                     NaN                     NaN   \n",
       "\n",
       "                 Cel spanning van cel 3  Cel spanning van cel 4  \\\n",
       "Indextijd                                                         \n",
       "0 days 00:00:49                     NaN                     NaN   \n",
       "0 days 00:00:50                     NaN                     NaN   \n",
       "0 days 00:00:51                     NaN                     NaN   \n",
       "0 days 00:00:52                     NaN                     NaN   \n",
       "0 days 00:00:53                     NaN                     NaN   \n",
       "\n",
       "                 Cel spanning van cel 5  ...  Board Temperature  \\\n",
       "Indextijd                                ...                      \n",
       "0 days 00:00:49                     NaN  ...               34.5   \n",
       "0 days 00:00:50                     NaN  ...               34.4   \n",
       "0 days 00:00:51                     NaN  ...               34.4   \n",
       "0 days 00:00:52                     NaN  ...               34.4   \n",
       "0 days 00:00:53                     NaN  ...               34.4   \n",
       "\n",
       "                 Format header (>08|05)        Tijd  Status   Latitude  \\\n",
       "Indextijd                                                                \n",
       "0 days 00:00:49                   08|05  092923.000       A  4344.2300   \n",
       "0 days 00:00:50                   08|05  092924.000       A  4344.2300   \n",
       "0 days 00:00:51                   08|05  092925.000       A  4344.2300   \n",
       "0 days 00:00:52                   08|05  092926.000       A  4344.2300   \n",
       "0 days 00:00:53                   08|05  092927.000       A  4344.2300   \n",
       "\n",
       "                 Noord of Zuid (N/S)   Longitude  Oost of West (E/W)  \\\n",
       "Indextijd                                                              \n",
       "0 days 00:00:49                    N  00725.6064                   E   \n",
       "0 days 00:00:50                    N  00725.6067                   E   \n",
       "0 days 00:00:51                    N  00725.6067                   E   \n",
       "0 days 00:00:52                    N  00725.6067                   E   \n",
       "0 days 00:00:53                    N  00725.6066                   E   \n",
       "\n",
       "                 Magnetische directie  Mode indicator (D)  \n",
       "Indextijd                                                  \n",
       "0 days 00:00:49                  None                   D  \n",
       "0 days 00:00:50                  None                   D  \n",
       "0 days 00:00:51                  None                   D  \n",
       "0 days 00:00:52                  None                   D  \n",
       "0 days 00:00:53                  None                   D  \n",
       "\n",
       "[5 rows x 76 columns]"
      ],
      "text/html": [
       "<div>\n",
       "<style scoped>\n",
       "    .dataframe tbody tr th:only-of-type {\n",
       "        vertical-align: middle;\n",
       "    }\n",
       "\n",
       "    .dataframe tbody tr th {\n",
       "        vertical-align: top;\n",
       "    }\n",
       "\n",
       "    .dataframe thead th {\n",
       "        text-align: right;\n",
       "    }\n",
       "</style>\n",
       "<table border=\"1\" class=\"dataframe\">\n",
       "  <thead>\n",
       "    <tr style=\"text-align: right;\">\n",
       "      <th></th>\n",
       "      <th>Datalogger port_x</th>\n",
       "      <th>Dataloggertijd, in s_x</th>\n",
       "      <th>Tijd sinds boot in seconden</th>\n",
       "      <th>tijd</th>\n",
       "      <th>Datum_x</th>\n",
       "      <th>Cel spanning van cel 1</th>\n",
       "      <th>Cel spanning van cel 2</th>\n",
       "      <th>Cel spanning van cel 3</th>\n",
       "      <th>Cel spanning van cel 4</th>\n",
       "      <th>Cel spanning van cel 5</th>\n",
       "      <th>...</th>\n",
       "      <th>Board Temperature</th>\n",
       "      <th>Format header (&gt;08|05)</th>\n",
       "      <th>Tijd</th>\n",
       "      <th>Status</th>\n",
       "      <th>Latitude</th>\n",
       "      <th>Noord of Zuid (N/S)</th>\n",
       "      <th>Longitude</th>\n",
       "      <th>Oost of West (E/W)</th>\n",
       "      <th>Magnetische directie</th>\n",
       "      <th>Mode indicator (D)</th>\n",
       "    </tr>\n",
       "    <tr>\n",
       "      <th>Indextijd</th>\n",
       "      <th></th>\n",
       "      <th></th>\n",
       "      <th></th>\n",
       "      <th></th>\n",
       "      <th></th>\n",
       "      <th></th>\n",
       "      <th></th>\n",
       "      <th></th>\n",
       "      <th></th>\n",
       "      <th></th>\n",
       "      <th></th>\n",
       "      <th></th>\n",
       "      <th></th>\n",
       "      <th></th>\n",
       "      <th></th>\n",
       "      <th></th>\n",
       "      <th></th>\n",
       "      <th></th>\n",
       "      <th></th>\n",
       "      <th></th>\n",
       "      <th></th>\n",
       "    </tr>\n",
       "  </thead>\n",
       "  <tbody>\n",
       "    <tr>\n",
       "      <th>0 days 00:00:49</th>\n",
       "      <td>NaN</td>\n",
       "      <td>NaN</td>\n",
       "      <td>NaN</td>\n",
       "      <td>NaN</td>\n",
       "      <td>NaN</td>\n",
       "      <td>NaN</td>\n",
       "      <td>NaN</td>\n",
       "      <td>NaN</td>\n",
       "      <td>NaN</td>\n",
       "      <td>NaN</td>\n",
       "      <td>...</td>\n",
       "      <td>34.5</td>\n",
       "      <td>08|05</td>\n",
       "      <td>092923.000</td>\n",
       "      <td>A</td>\n",
       "      <td>4344.2300</td>\n",
       "      <td>N</td>\n",
       "      <td>00725.6064</td>\n",
       "      <td>E</td>\n",
       "      <td>None</td>\n",
       "      <td>D</td>\n",
       "    </tr>\n",
       "    <tr>\n",
       "      <th>0 days 00:00:50</th>\n",
       "      <td>NaN</td>\n",
       "      <td>NaN</td>\n",
       "      <td>NaN</td>\n",
       "      <td>NaN</td>\n",
       "      <td>NaN</td>\n",
       "      <td>NaN</td>\n",
       "      <td>NaN</td>\n",
       "      <td>NaN</td>\n",
       "      <td>NaN</td>\n",
       "      <td>NaN</td>\n",
       "      <td>...</td>\n",
       "      <td>34.4</td>\n",
       "      <td>08|05</td>\n",
       "      <td>092924.000</td>\n",
       "      <td>A</td>\n",
       "      <td>4344.2300</td>\n",
       "      <td>N</td>\n",
       "      <td>00725.6067</td>\n",
       "      <td>E</td>\n",
       "      <td>None</td>\n",
       "      <td>D</td>\n",
       "    </tr>\n",
       "    <tr>\n",
       "      <th>0 days 00:00:51</th>\n",
       "      <td>NaN</td>\n",
       "      <td>NaN</td>\n",
       "      <td>NaN</td>\n",
       "      <td>NaN</td>\n",
       "      <td>NaN</td>\n",
       "      <td>NaN</td>\n",
       "      <td>NaN</td>\n",
       "      <td>NaN</td>\n",
       "      <td>NaN</td>\n",
       "      <td>NaN</td>\n",
       "      <td>...</td>\n",
       "      <td>34.4</td>\n",
       "      <td>08|05</td>\n",
       "      <td>092925.000</td>\n",
       "      <td>A</td>\n",
       "      <td>4344.2300</td>\n",
       "      <td>N</td>\n",
       "      <td>00725.6067</td>\n",
       "      <td>E</td>\n",
       "      <td>None</td>\n",
       "      <td>D</td>\n",
       "    </tr>\n",
       "    <tr>\n",
       "      <th>0 days 00:00:52</th>\n",
       "      <td>NaN</td>\n",
       "      <td>NaN</td>\n",
       "      <td>NaN</td>\n",
       "      <td>NaN</td>\n",
       "      <td>NaN</td>\n",
       "      <td>NaN</td>\n",
       "      <td>NaN</td>\n",
       "      <td>NaN</td>\n",
       "      <td>NaN</td>\n",
       "      <td>NaN</td>\n",
       "      <td>...</td>\n",
       "      <td>34.4</td>\n",
       "      <td>08|05</td>\n",
       "      <td>092926.000</td>\n",
       "      <td>A</td>\n",
       "      <td>4344.2300</td>\n",
       "      <td>N</td>\n",
       "      <td>00725.6067</td>\n",
       "      <td>E</td>\n",
       "      <td>None</td>\n",
       "      <td>D</td>\n",
       "    </tr>\n",
       "    <tr>\n",
       "      <th>0 days 00:00:53</th>\n",
       "      <td>NaN</td>\n",
       "      <td>NaN</td>\n",
       "      <td>NaN</td>\n",
       "      <td>NaN</td>\n",
       "      <td>NaN</td>\n",
       "      <td>NaN</td>\n",
       "      <td>NaN</td>\n",
       "      <td>NaN</td>\n",
       "      <td>NaN</td>\n",
       "      <td>NaN</td>\n",
       "      <td>...</td>\n",
       "      <td>34.4</td>\n",
       "      <td>08|05</td>\n",
       "      <td>092927.000</td>\n",
       "      <td>A</td>\n",
       "      <td>4344.2300</td>\n",
       "      <td>N</td>\n",
       "      <td>00725.6066</td>\n",
       "      <td>E</td>\n",
       "      <td>None</td>\n",
       "      <td>D</td>\n",
       "    </tr>\n",
       "  </tbody>\n",
       "</table>\n",
       "<p>5 rows × 76 columns</p>\n",
       "</div>"
      ]
     },
     "metadata": {},
     "output_type": "display_data"
    }
   ],
   "execution_count": 7
  },
  {
   "metadata": {
    "ExecuteTime": {
     "end_time": "2024-09-27T20:36:26.963289Z",
     "start_time": "2024-09-27T20:36:26.960433Z"
    }
   },
   "cell_type": "code",
   "source": "#x_as, y_as, z_as = lib.variable_selector(merged_df)",
   "id": "f66d56356356080e",
   "outputs": [],
   "execution_count": 8
  },
  {
   "metadata": {
    "ExecuteTime": {
     "end_time": "2024-09-27T20:36:26.998494Z",
     "start_time": "2024-09-27T20:36:26.994838Z"
    }
   },
   "cell_type": "code",
   "source": "#lib.plot_data(x_as, y_as, z_as)",
   "id": "3a8705bf0912db05",
   "outputs": [],
   "execution_count": 9
  },
  {
   "metadata": {
    "ExecuteTime": {
     "end_time": "2024-09-27T20:36:59.752475Z",
     "start_time": "2024-09-27T20:36:31.380284Z"
    }
   },
   "cell_type": "code",
   "source": "lib.plot_window_gui(merged_df)",
   "id": "b3de4ec85760a169",
   "outputs": [
    {
     "data": {
      "text/plain": [
       "<Figure size 800x800 with 2 Axes>"
      ],
      "image/png": "[encoded data removed]"
     },
     "metadata": {},
     "output_type": "display_data"
    }
   ],
   "execution_count": 11
  },
  {
   "metadata": {},
   "cell_type": "code",
   "outputs": [],
   "execution_count": null,
   "source": "",
   "id": "37203ca0661df0b4"
  }
 ],
 "metadata": {
  "kernelspec": {
   "display_name": "Python 3",
   "language": "python",
   "name": "python3"
  },
  "language_info": {
   "codemirror_mode": {
    "name": "ipython",
    "version": 3
   },
   "file_extension": ".py",
   "mimetype": "text/x-python",
   "name": "python",
   "nbconvert_exporter": "python",
   "pygments_lexer": "ipython3",
   "version": "3.8.8"
  }
 },
 "nbformat": 4,
 "nbformat_minor": 5
}
