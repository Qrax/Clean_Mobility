{
 "cells": [
  {
   "cell_type": "code",
   "id": "200c6cb5-3b99-4942-80ba-fece84071309",
   "metadata": {
    "tags": [],
    "ExecuteTime": {
     "end_time": "2024-09-24T09:19:45.996735Z",
     "start_time": "2024-09-24T09:19:45.974268Z"
    }
   },
   "source": [
    "import matplotlib.pyplot as plt\n",
    "import numpy as np\n",
    "import pandas as pd\n",
    "import os\n",
    "import copy\n",
    "from math import sqrt,ceil\n",
    "\n",
    "from rope.base.oi.soa import analyze_module\n",
    "from scipy.stats import linregress\n",
    "import libraries as lib"
   ],
   "outputs": [],
   "execution_count": 19
  },
  {
   "cell_type": "code",
   "id": "7c69ab67-3836-4435-b6fe-763633e41c56",
   "metadata": {
    "ExecuteTime": {
     "end_time": "2024-09-24T09:19:46.007350Z",
     "start_time": "2024-09-24T09:19:46.001498Z"
    }
   },
   "source": [
    "directory = \"../../../OneDrive - HvA/Logfiles/H2A/2022/20220628-20220701_race_nogaro/0023 - 20220701T141014 1h8m8s 13.336km Nogaro/\"\n",
    "file = \"1.csv\""
   ],
   "outputs": [],
   "execution_count": 20
  },
  {
   "metadata": {
    "ExecuteTime": {
     "end_time": "2024-09-24T09:19:46.122025Z",
     "start_time": "2024-09-24T09:19:46.009358Z"
    }
   },
   "cell_type": "code",
   "source": [
    "data_file = lib.DataInladen(f'{directory}{file}')"
   ],
   "id": "f5528a29228fc98e",
   "outputs": [],
   "execution_count": 21
  },
  {
   "metadata": {
    "ExecuteTime": {
     "end_time": "2024-09-24T09:19:46.164885Z",
     "start_time": "2024-09-24T09:19:46.124541Z"
    }
   },
   "cell_type": "code",
   "source": [
    "data_file"
   ],
   "id": "c9f081bfa31fb02",
   "outputs": [
    {
     "data": {
      "text/plain": "      Datalogger port  Dataloggertijd, in s Format header (>08|03)  \\\n0                   1               70.8626                  08|03   \n1                   1               71.8578                  08|03   \n2                   1               72.8577                  08|03   \n3                   1               73.8609                  08|03   \n4                   1               74.8585                  08|03   \n...               ...                   ...                    ...   \n4200                1             4276.0450                  08|03   \n4201                1             4277.0633                  08|03   \n4202                1             4278.0288                  08|03   \n4203                1             4279.0253                  08|03   \n4204                1             4280.0489                  08|03   \n\n     NMEA type($GPRMC)      Tijd Status   Latitude Noord of Zuid (N/S)  \\\n0               $GPRMC  120813.0      V     0.0000                   N   \n1               $GPRMC  120814.0      V     0.0000                   N   \n2               $GPRMC  120815.0      V     0.0000                   N   \n3               $GPRMC  120816.0      V     0.0000                   N   \n4               $GPRMC  120817.0      V     0.0000                   N   \n...                ...       ...    ...        ...                 ...   \n4200            $GPRMC  131818.0      A  4346.3114                   N   \n4201            $GPRMC  131819.0      A  4346.3114                   N   \n4202            $GPRMC  131820.0      A  4346.3114                   N   \n4203            $GPRMC  131821.0      A  4346.3114                   N   \n4204            $GPRMC  131822.0      A  4346.3114                   N   \n\n      Longitude Oost of West (E/W)  ...  Mode indicator (A)  \\\n0        0.0000                  E  ...                   N   \n1        0.0000                  E  ...                   N   \n2        0.0000                  E  ...                   N   \n3        0.0000                  E  ...                   N   \n4        0.0000                  E  ...                   N   \n...         ...                ...  ...                 ...   \n4200     2.5422                  W  ...                   A   \n4201     2.5422                  W  ...                   A   \n4202     2.5422                  W  ...                   A   \n4203     2.5422                  W  ...                   A   \n4204     2.5422                  W  ...                   A   \n\n      Data in balancers  DegreesTrue   T  DegreesMagnetic   M  \\\n0            1100000011          NaN NaN              NaN NaN   \n1            1100000011          NaN NaN              NaN NaN   \n2            1100000011          NaN NaN              NaN NaN   \n3            1100000011          NaN NaN              NaN NaN   \n4            1100000011          NaN NaN              NaN NaN   \n...                 ...          ...  ..              ...  ..   \n4200         1100000011          NaN NaN              NaN NaN   \n4201         1100000011          NaN NaN              NaN NaN   \n4202         1100000011          NaN NaN              NaN NaN   \n4203         1100000011          NaN NaN              NaN NaN   \n4204         1100000011          NaN NaN              NaN NaN   \n\n      Snelheid tenopzichte van het water in Knots   N  \\\n0                                             NaN NaN   \n1                                             NaN NaN   \n2                                             NaN NaN   \n3                                             NaN NaN   \n4                                             NaN NaN   \n...                                           ...  ..   \n4200                                          NaN NaN   \n4201                                          NaN NaN   \n4202                                          NaN NaN   \n4203                                          NaN NaN   \n4204                                          NaN NaN   \n\n      Snelheid tenopzichte van het water in Kilometers   K  \n0                                                  NaN NaN  \n1                                                  NaN NaN  \n2                                                  NaN NaN  \n3                                                  NaN NaN  \n4                                                  NaN NaN  \n...                                                ...  ..  \n4200                                               NaN NaN  \n4201                                               NaN NaN  \n4202                                               NaN NaN  \n4203                                               NaN NaN  \n4204                                               NaN NaN  \n\n[4205 rows x 25 columns]",
      "text/html": "<div>\n<style scoped>\n    .dataframe tbody tr th:only-of-type {\n        vertical-align: middle;\n    }\n\n    .dataframe tbody tr th {\n        vertical-align: top;\n    }\n\n    .dataframe thead th {\n        text-align: right;\n    }\n</style>\n<table border=\"1\" class=\"dataframe\">\n  <thead>\n    <tr style=\"text-align: right;\">\n      <th></th>\n      <th>Datalogger port</th>\n      <th>Dataloggertijd, in s</th>\n      <th>Format header (&gt;08|03)</th>\n      <th>NMEA type($GPRMC)</th>\n      <th>Tijd</th>\n      <th>Status</th>\n      <th>Latitude</th>\n      <th>Noord of Zuid (N/S)</th>\n      <th>Longitude</th>\n      <th>Oost of West (E/W)</th>\n      <th>...</th>\n      <th>Mode indicator (A)</th>\n      <th>Data in balancers</th>\n      <th>DegreesTrue</th>\n      <th>T</th>\n      <th>DegreesMagnetic</th>\n      <th>M</th>\n      <th>Snelheid tenopzichte van het water in Knots</th>\n      <th>N</th>\n      <th>Snelheid tenopzichte van het water in Kilometers</th>\n      <th>K</th>\n    </tr>\n  </thead>\n  <tbody>\n    <tr>\n      <th>0</th>\n      <td>1</td>\n      <td>70.8626</td>\n      <td>08|03</td>\n      <td>$GPRMC</td>\n      <td>120813.0</td>\n      <td>V</td>\n      <td>0.0000</td>\n      <td>N</td>\n      <td>0.0000</td>\n      <td>E</td>\n      <td>...</td>\n      <td>N</td>\n      <td>1100000011</td>\n      <td>NaN</td>\n      <td>NaN</td>\n      <td>NaN</td>\n      <td>NaN</td>\n      <td>NaN</td>\n      <td>NaN</td>\n      <td>NaN</td>\n      <td>NaN</td>\n    </tr>\n    <tr>\n      <th>1</th>\n      <td>1</td>\n      <td>71.8578</td>\n      <td>08|03</td>\n      <td>$GPRMC</td>\n      <td>120814.0</td>\n      <td>V</td>\n      <td>0.0000</td>\n      <td>N</td>\n      <td>0.0000</td>\n      <td>E</td>\n      <td>...</td>\n      <td>N</td>\n      <td>1100000011</td>\n      <td>NaN</td>\n      <td>NaN</td>\n      <td>NaN</td>\n      <td>NaN</td>\n      <td>NaN</td>\n      <td>NaN</td>\n      <td>NaN</td>\n      <td>NaN</td>\n    </tr>\n    <tr>\n      <th>2</th>\n      <td>1</td>\n      <td>72.8577</td>\n      <td>08|03</td>\n      <td>$GPRMC</td>\n      <td>120815.0</td>\n      <td>V</td>\n      <td>0.0000</td>\n      <td>N</td>\n      <td>0.0000</td>\n      <td>E</td>\n      <td>...</td>\n      <td>N</td>\n      <td>1100000011</td>\n      <td>NaN</td>\n      <td>NaN</td>\n      <td>NaN</td>\n      <td>NaN</td>\n      <td>NaN</td>\n      <td>NaN</td>\n      <td>NaN</td>\n      <td>NaN</td>\n    </tr>\n    <tr>\n      <th>3</th>\n      <td>1</td>\n      <td>73.8609</td>\n      <td>08|03</td>\n      <td>$GPRMC</td>\n      <td>120816.0</td>\n      <td>V</td>\n      <td>0.0000</td>\n      <td>N</td>\n      <td>0.0000</td>\n      <td>E</td>\n      <td>...</td>\n      <td>N</td>\n      <td>1100000011</td>\n      <td>NaN</td>\n      <td>NaN</td>\n      <td>NaN</td>\n      <td>NaN</td>\n      <td>NaN</td>\n      <td>NaN</td>\n      <td>NaN</td>\n      <td>NaN</td>\n    </tr>\n    <tr>\n      <th>4</th>\n      <td>1</td>\n      <td>74.8585</td>\n      <td>08|03</td>\n      <td>$GPRMC</td>\n      <td>120817.0</td>\n      <td>V</td>\n      <td>0.0000</td>\n      <td>N</td>\n      <td>0.0000</td>\n      <td>E</td>\n      <td>...</td>\n      <td>N</td>\n      <td>1100000011</td>\n      <td>NaN</td>\n      <td>NaN</td>\n      <td>NaN</td>\n      <td>NaN</td>\n      <td>NaN</td>\n      <td>NaN</td>\n      <td>NaN</td>\n      <td>NaN</td>\n    </tr>\n    <tr>\n      <th>...</th>\n      <td>...</td>\n      <td>...</td>\n      <td>...</td>\n      <td>...</td>\n      <td>...</td>\n      <td>...</td>\n      <td>...</td>\n      <td>...</td>\n      <td>...</td>\n      <td>...</td>\n      <td>...</td>\n      <td>...</td>\n      <td>...</td>\n      <td>...</td>\n      <td>...</td>\n      <td>...</td>\n      <td>...</td>\n      <td>...</td>\n      <td>...</td>\n      <td>...</td>\n      <td>...</td>\n    </tr>\n    <tr>\n      <th>4200</th>\n      <td>1</td>\n      <td>4276.0450</td>\n      <td>08|03</td>\n      <td>$GPRMC</td>\n      <td>131818.0</td>\n      <td>A</td>\n      <td>4346.3114</td>\n      <td>N</td>\n      <td>2.5422</td>\n      <td>W</td>\n      <td>...</td>\n      <td>A</td>\n      <td>1100000011</td>\n      <td>NaN</td>\n      <td>NaN</td>\n      <td>NaN</td>\n      <td>NaN</td>\n      <td>NaN</td>\n      <td>NaN</td>\n      <td>NaN</td>\n      <td>NaN</td>\n    </tr>\n    <tr>\n      <th>4201</th>\n      <td>1</td>\n      <td>4277.0633</td>\n      <td>08|03</td>\n      <td>$GPRMC</td>\n      <td>131819.0</td>\n      <td>A</td>\n      <td>4346.3114</td>\n      <td>N</td>\n      <td>2.5422</td>\n      <td>W</td>\n      <td>...</td>\n      <td>A</td>\n      <td>1100000011</td>\n      <td>NaN</td>\n      <td>NaN</td>\n      <td>NaN</td>\n      <td>NaN</td>\n      <td>NaN</td>\n      <td>NaN</td>\n      <td>NaN</td>\n      <td>NaN</td>\n    </tr>\n    <tr>\n      <th>4202</th>\n      <td>1</td>\n      <td>4278.0288</td>\n      <td>08|03</td>\n      <td>$GPRMC</td>\n      <td>131820.0</td>\n      <td>A</td>\n      <td>4346.3114</td>\n      <td>N</td>\n      <td>2.5422</td>\n      <td>W</td>\n      <td>...</td>\n      <td>A</td>\n      <td>1100000011</td>\n      <td>NaN</td>\n      <td>NaN</td>\n      <td>NaN</td>\n      <td>NaN</td>\n      <td>NaN</td>\n      <td>NaN</td>\n      <td>NaN</td>\n      <td>NaN</td>\n    </tr>\n    <tr>\n      <th>4203</th>\n      <td>1</td>\n      <td>4279.0253</td>\n      <td>08|03</td>\n      <td>$GPRMC</td>\n      <td>131821.0</td>\n      <td>A</td>\n      <td>4346.3114</td>\n      <td>N</td>\n      <td>2.5422</td>\n      <td>W</td>\n      <td>...</td>\n      <td>A</td>\n      <td>1100000011</td>\n      <td>NaN</td>\n      <td>NaN</td>\n      <td>NaN</td>\n      <td>NaN</td>\n      <td>NaN</td>\n      <td>NaN</td>\n      <td>NaN</td>\n      <td>NaN</td>\n    </tr>\n    <tr>\n      <th>4204</th>\n      <td>1</td>\n      <td>4280.0489</td>\n      <td>08|03</td>\n      <td>$GPRMC</td>\n      <td>131822.0</td>\n      <td>A</td>\n      <td>4346.3114</td>\n      <td>N</td>\n      <td>2.5422</td>\n      <td>W</td>\n      <td>...</td>\n      <td>A</td>\n      <td>1100000011</td>\n      <td>NaN</td>\n      <td>NaN</td>\n      <td>NaN</td>\n      <td>NaN</td>\n      <td>NaN</td>\n      <td>NaN</td>\n      <td>NaN</td>\n      <td>NaN</td>\n    </tr>\n  </tbody>\n</table>\n<p>4205 rows × 25 columns</p>\n</div>"
     },
     "execution_count": 22,
     "metadata": {},
     "output_type": "execute_result"
    }
   ],
   "execution_count": 22
  },
  {
   "metadata": {
    "ExecuteTime": {
     "end_time": "2024-09-24T09:19:46.786533Z",
     "start_time": "2024-09-24T09:19:46.167354Z"
    }
   },
   "cell_type": "code",
   "source": [
    "xas = 'Latitude'\n",
    "yas = 'Longitude'\n",
    "\n",
    "# Filtering the data so it's only the laps we want to analyze\n",
    "# First filter so that the data without GPS data is removed\n",
    "data_file = data_file[data_file[xas] != 0]\n",
    "data_file = data_file[data_file[yas] != 0]\n",
    "\n",
    "# Now filter out the beginning and end of the data, by removing the first and last 10% of the data\n",
    "from math import ceil\n",
    "data_file\n",
    "data_file = data_file.iloc[ceil(len(data_file)*0.215):ceil(len(data_file)*0.267)]\n",
    "\n",
    "# Display the filtered data\n",
    "data_file"
   ],
   "id": "4c6686a5b4a3b8ad",
   "outputs": [
    {
     "data": {
      "text/plain": "      Datalogger port  Dataloggertijd, in s Format header (>08|03)  \\\n1000                1             1074.0251                  08|03   \n1001                1             1075.0263                  08|03   \n1002                1             1076.0461                  08|03   \n1003                1             1077.0251                  08|03   \n1004                1             1078.0262                  08|03   \n...               ...                   ...                    ...   \n1208                1             1282.0243                  08|03   \n1209                1             1283.0397                  08|03   \n1210                1             1284.0313                  08|03   \n1211                1             1285.0255                  08|03   \n1212                1             1286.0457                  08|03   \n\n     NMEA type($GPRMC)      Tijd Status   Latitude Noord of Zuid (N/S)  \\\n1000            $GPRMC  122456.0      A  4346.2791                   N   \n1001            $GPRMC  122457.0      A  4346.2825                   N   \n1002            $GPRMC  122458.0      A  4346.2856                   N   \n1003            $GPRMC  122459.0      A  4346.2890                   N   \n1004            $GPRMC  122500.0      A  4346.2920                   N   \n...                ...       ...    ...        ...                 ...   \n1208            $GPRMC  122824.0      A  4346.2801                   N   \n1209            $GPRMC  122825.0      A  4346.2833                   N   \n1210            $GPRMC  122826.0      A  4346.2865                   N   \n1211            $GPRMC  122827.0      A  4346.2896                   N   \n1212            $GPRMC  122828.0      A  4346.2927                   N   \n\n      Longitude Oost of West (E/W)  ...  Mode indicator (A)  \\\n1000     2.4708                  W  ...                   A   \n1001     2.4744                  W  ...                   A   \n1002     2.4783                  W  ...                   A   \n1003     2.4821                  W  ...                   A   \n1004     2.4858                  W  ...                   A   \n...         ...                ...  ...                 ...   \n1208     2.4701                  W  ...                   A   \n1209     2.4742                  W  ...                   A   \n1210     2.4780                  W  ...                   A   \n1211     2.4820                  W  ...                   A   \n1212     2.4855                  W  ...                   A   \n\n      Data in balancers  DegreesTrue   T  DegreesMagnetic   M  \\\n1000         1100000011          NaN NaN              NaN NaN   \n1001         1100000011          NaN NaN              NaN NaN   \n1002         1100000011          NaN NaN              NaN NaN   \n1003         1100000011          NaN NaN              NaN NaN   \n1004         1100000011          NaN NaN              NaN NaN   \n...                 ...          ...  ..              ...  ..   \n1208         1100000011          NaN NaN              NaN NaN   \n1209         1100000011          NaN NaN              NaN NaN   \n1210         1100000011          NaN NaN              NaN NaN   \n1211         1100000011          NaN NaN              NaN NaN   \n1212         1100000011          NaN NaN              NaN NaN   \n\n      Snelheid tenopzichte van het water in Knots   N  \\\n1000                                          NaN NaN   \n1001                                          NaN NaN   \n1002                                          NaN NaN   \n1003                                          NaN NaN   \n1004                                          NaN NaN   \n...                                           ...  ..   \n1208                                          NaN NaN   \n1209                                          NaN NaN   \n1210                                          NaN NaN   \n1211                                          NaN NaN   \n1212                                          NaN NaN   \n\n      Snelheid tenopzichte van het water in Kilometers   K  \n1000                                               NaN NaN  \n1001                                               NaN NaN  \n1002                                               NaN NaN  \n1003                                               NaN NaN  \n1004                                               NaN NaN  \n...                                                ...  ..  \n1208                                               NaN NaN  \n1209                                               NaN NaN  \n1210                                               NaN NaN  \n1211                                               NaN NaN  \n1212                                               NaN NaN  \n\n[213 rows x 25 columns]",
      "text/html": "<div>\n<style scoped>\n    .dataframe tbody tr th:only-of-type {\n        vertical-align: middle;\n    }\n\n    .dataframe tbody tr th {\n        vertical-align: top;\n    }\n\n    .dataframe thead th {\n        text-align: right;\n    }\n</style>\n<table border=\"1\" class=\"dataframe\">\n  <thead>\n    <tr style=\"text-align: right;\">\n      <th></th>\n      <th>Datalogger port</th>\n      <th>Dataloggertijd, in s</th>\n      <th>Format header (&gt;08|03)</th>\n      <th>NMEA type($GPRMC)</th>\n      <th>Tijd</th>\n      <th>Status</th>\n      <th>Latitude</th>\n      <th>Noord of Zuid (N/S)</th>\n      <th>Longitude</th>\n      <th>Oost of West (E/W)</th>\n      <th>...</th>\n      <th>Mode indicator (A)</th>\n      <th>Data in balancers</th>\n      <th>DegreesTrue</th>\n      <th>T</th>\n      <th>DegreesMagnetic</th>\n      <th>M</th>\n      <th>Snelheid tenopzichte van het water in Knots</th>\n      <th>N</th>\n      <th>Snelheid tenopzichte van het water in Kilometers</th>\n      <th>K</th>\n    </tr>\n  </thead>\n  <tbody>\n    <tr>\n      <th>1000</th>\n      <td>1</td>\n      <td>1074.0251</td>\n      <td>08|03</td>\n      <td>$GPRMC</td>\n      <td>122456.0</td>\n      <td>A</td>\n      <td>4346.2791</td>\n      <td>N</td>\n      <td>2.4708</td>\n      <td>W</td>\n      <td>...</td>\n      <td>A</td>\n      <td>1100000011</td>\n      <td>NaN</td>\n      <td>NaN</td>\n      <td>NaN</td>\n      <td>NaN</td>\n      <td>NaN</td>\n      <td>NaN</td>\n      <td>NaN</td>\n      <td>NaN</td>\n    </tr>\n    <tr>\n      <th>1001</th>\n      <td>1</td>\n      <td>1075.0263</td>\n      <td>08|03</td>\n      <td>$GPRMC</td>\n      <td>122457.0</td>\n      <td>A</td>\n      <td>4346.2825</td>\n      <td>N</td>\n      <td>2.4744</td>\n      <td>W</td>\n      <td>...</td>\n      <td>A</td>\n      <td>1100000011</td>\n      <td>NaN</td>\n      <td>NaN</td>\n      <td>NaN</td>\n      <td>NaN</td>\n      <td>NaN</td>\n      <td>NaN</td>\n      <td>NaN</td>\n      <td>NaN</td>\n    </tr>\n    <tr>\n      <th>1002</th>\n      <td>1</td>\n      <td>1076.0461</td>\n      <td>08|03</td>\n      <td>$GPRMC</td>\n      <td>122458.0</td>\n      <td>A</td>\n      <td>4346.2856</td>\n      <td>N</td>\n      <td>2.4783</td>\n      <td>W</td>\n      <td>...</td>\n      <td>A</td>\n      <td>1100000011</td>\n      <td>NaN</td>\n      <td>NaN</td>\n      <td>NaN</td>\n      <td>NaN</td>\n      <td>NaN</td>\n      <td>NaN</td>\n      <td>NaN</td>\n      <td>NaN</td>\n    </tr>\n    <tr>\n      <th>1003</th>\n      <td>1</td>\n      <td>1077.0251</td>\n      <td>08|03</td>\n      <td>$GPRMC</td>\n      <td>122459.0</td>\n      <td>A</td>\n      <td>4346.2890</td>\n      <td>N</td>\n      <td>2.4821</td>\n      <td>W</td>\n      <td>...</td>\n      <td>A</td>\n      <td>1100000011</td>\n      <td>NaN</td>\n      <td>NaN</td>\n      <td>NaN</td>\n      <td>NaN</td>\n      <td>NaN</td>\n      <td>NaN</td>\n      <td>NaN</td>\n      <td>NaN</td>\n    </tr>\n    <tr>\n      <th>1004</th>\n      <td>1</td>\n      <td>1078.0262</td>\n      <td>08|03</td>\n      <td>$GPRMC</td>\n      <td>122500.0</td>\n      <td>A</td>\n      <td>4346.2920</td>\n      <td>N</td>\n      <td>2.4858</td>\n      <td>W</td>\n      <td>...</td>\n      <td>A</td>\n      <td>1100000011</td>\n      <td>NaN</td>\n      <td>NaN</td>\n      <td>NaN</td>\n      <td>NaN</td>\n      <td>NaN</td>\n      <td>NaN</td>\n      <td>NaN</td>\n      <td>NaN</td>\n    </tr>\n    <tr>\n      <th>...</th>\n      <td>...</td>\n      <td>...</td>\n      <td>...</td>\n      <td>...</td>\n      <td>...</td>\n      <td>...</td>\n      <td>...</td>\n      <td>...</td>\n      <td>...</td>\n      <td>...</td>\n      <td>...</td>\n      <td>...</td>\n      <td>...</td>\n      <td>...</td>\n      <td>...</td>\n      <td>...</td>\n      <td>...</td>\n      <td>...</td>\n      <td>...</td>\n      <td>...</td>\n      <td>...</td>\n    </tr>\n    <tr>\n      <th>1208</th>\n      <td>1</td>\n      <td>1282.0243</td>\n      <td>08|03</td>\n      <td>$GPRMC</td>\n      <td>122824.0</td>\n      <td>A</td>\n      <td>4346.2801</td>\n      <td>N</td>\n      <td>2.4701</td>\n      <td>W</td>\n      <td>...</td>\n      <td>A</td>\n      <td>1100000011</td>\n      <td>NaN</td>\n      <td>NaN</td>\n      <td>NaN</td>\n      <td>NaN</td>\n      <td>NaN</td>\n      <td>NaN</td>\n      <td>NaN</td>\n      <td>NaN</td>\n    </tr>\n    <tr>\n      <th>1209</th>\n      <td>1</td>\n      <td>1283.0397</td>\n      <td>08|03</td>\n      <td>$GPRMC</td>\n      <td>122825.0</td>\n      <td>A</td>\n      <td>4346.2833</td>\n      <td>N</td>\n      <td>2.4742</td>\n      <td>W</td>\n      <td>...</td>\n      <td>A</td>\n      <td>1100000011</td>\n      <td>NaN</td>\n      <td>NaN</td>\n      <td>NaN</td>\n      <td>NaN</td>\n      <td>NaN</td>\n      <td>NaN</td>\n      <td>NaN</td>\n      <td>NaN</td>\n    </tr>\n    <tr>\n      <th>1210</th>\n      <td>1</td>\n      <td>1284.0313</td>\n      <td>08|03</td>\n      <td>$GPRMC</td>\n      <td>122826.0</td>\n      <td>A</td>\n      <td>4346.2865</td>\n      <td>N</td>\n      <td>2.4780</td>\n      <td>W</td>\n      <td>...</td>\n      <td>A</td>\n      <td>1100000011</td>\n      <td>NaN</td>\n      <td>NaN</td>\n      <td>NaN</td>\n      <td>NaN</td>\n      <td>NaN</td>\n      <td>NaN</td>\n      <td>NaN</td>\n      <td>NaN</td>\n    </tr>\n    <tr>\n      <th>1211</th>\n      <td>1</td>\n      <td>1285.0255</td>\n      <td>08|03</td>\n      <td>$GPRMC</td>\n      <td>122827.0</td>\n      <td>A</td>\n      <td>4346.2896</td>\n      <td>N</td>\n      <td>2.4820</td>\n      <td>W</td>\n      <td>...</td>\n      <td>A</td>\n      <td>1100000011</td>\n      <td>NaN</td>\n      <td>NaN</td>\n      <td>NaN</td>\n      <td>NaN</td>\n      <td>NaN</td>\n      <td>NaN</td>\n      <td>NaN</td>\n      <td>NaN</td>\n    </tr>\n    <tr>\n      <th>1212</th>\n      <td>1</td>\n      <td>1286.0457</td>\n      <td>08|03</td>\n      <td>$GPRMC</td>\n      <td>122828.0</td>\n      <td>A</td>\n      <td>4346.2927</td>\n      <td>N</td>\n      <td>2.4855</td>\n      <td>W</td>\n      <td>...</td>\n      <td>A</td>\n      <td>1100000011</td>\n      <td>NaN</td>\n      <td>NaN</td>\n      <td>NaN</td>\n      <td>NaN</td>\n      <td>NaN</td>\n      <td>NaN</td>\n      <td>NaN</td>\n      <td>NaN</td>\n    </tr>\n  </tbody>\n</table>\n<p>213 rows × 25 columns</p>\n</div>"
     },
     "execution_count": 23,
     "metadata": {},
     "output_type": "execute_result"
    }
   ],
   "execution_count": 23
  },
  {
   "cell_type": "code",
   "id": "51d68bb7-3614-4f99-949e-6ed8398794ad",
   "metadata": {
    "ExecuteTime": {
     "end_time": "2024-09-24T09:19:46.988654Z",
     "start_time": "2024-09-24T09:19:46.787782Z"
    }
   },
   "source": [
    "%matplotlib qt\n",
    "'Plotting the race'\n",
    "plt.figure(figsize=(6,6))\n",
    "plt.scatter(data_file['Latitude'], data_file['Longitude'], c=data_file['Snelheid over de grond in km/h'], cmap='viridis')\n",
    "plt.title('GPS data vs speed')\n",
    "plt.xlabel('Latitude')\n",
    "plt.ylabel('Longitude')\n",
    "\n",
    "# Adding a colorbar with a label for the speed in km/h\n",
    "cbar = plt.colorbar()\n",
    "cbar.set_label('Speed (km/h)')\n",
    "plt.grid()\n",
    "plt.show()\n"
   ],
   "outputs": [],
   "execution_count": 24
  },
  {
   "metadata": {
    "ExecuteTime": {
     "end_time": "2024-09-24T09:19:47.085725Z",
     "start_time": "2024-09-24T09:19:46.990845Z"
    }
   },
   "cell_type": "code",
   "source": [
    "import matplotlib.pyplot as plt\n",
    "from mpl_toolkits.mplot3d import Axes3D\n",
    "\n",
    "# Extract data for plotting\n",
    "latitudes = data_file['Latitude'].values\n",
    "longitudes = data_file['Longitude'].values\n",
    "speeds = data_file['Snelheid over de grond in km/h'].values\n",
    "\n",
    "# Plotting the race with a 3D scatter plot\n",
    "fig = plt.figure(figsize=(8, 8))\n",
    "ax = fig.add_subplot(111, projection='3d')\n",
    "\n",
    "# Scatter plot with height representing speed\n",
    "scatter = ax.scatter(latitudes, longitudes, speeds, c=speeds, cmap='viridis', s=10)\n",
    "\n",
    "# Adding labels and title\n",
    "ax.set_title('GPS data vs speed')\n",
    "ax.set_xlabel('Latitude')\n",
    "ax.set_ylabel('Longitude')\n",
    "ax.set_zlabel('Speed (km/h)')\n",
    "\n",
    "# Adding a colorbar with a label for the speed in km/h\n",
    "cbar = plt.colorbar(scatter, ax=ax, pad=0.1)\n",
    "cbar.set_label('Speed (km/h)')\n",
    "\n",
    "plt.show()"
   ],
   "id": "b7396bf19626675d",
   "outputs": [],
   "execution_count": 25
  },
  {
   "cell_type": "code",
   "outputs": [],
   "source": [],
   "metadata": {
    "collapsed": false,
    "ExecuteTime": {
     "end_time": "2024-09-24T09:19:47.090556Z",
     "start_time": "2024-09-24T09:19:47.087066Z"
    }
   },
   "id": "c53cae6799f221ac",
   "execution_count": 25
  }
 ],
 "metadata": {
  "kernelspec": {
   "display_name": "Python 3",
   "language": "python",
   "name": "python3"
  },
  "language_info": {
   "codemirror_mode": {
    "name": "ipython",
    "version": 3
   },
   "file_extension": ".py",
   "mimetype": "text/x-python",
   "name": "python",
   "nbconvert_exporter": "python",
   "pygments_lexer": "ipython3",
   "version": "3.8.8"
  }
 },
 "nbformat": 4,
 "nbformat_minor": 5
}
