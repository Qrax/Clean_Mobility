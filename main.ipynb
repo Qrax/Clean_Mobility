{
 "cells": [
  {
   "cell_type": "code",
   "id": "200c6cb5-3b99-4942-80ba-fece84071309",
   "metadata": {
    "tags": []
   },
   "source": [
    "import matplotlib.pyplot as plt\n",
    "import numpy as np\n",
    "import pandas as pd\n",
    "import os\n",
    "import copy\n",
    "from math import sqrt,ceil\n",
    "\n",
    "from rope.base.oi.soa import analyze_module\n",
    "from scipy.stats import linregress\n",
    "import libraries as lib"
   ],
   "outputs": [],
   "execution_count": null
  },
  {
   "cell_type": "code",
   "id": "7c69ab67-3836-4435-b6fe-763633e41c56",
   "metadata": {},
   "source": [
    "directory = \"../../../OneDrive - HvA/Logfiles/H2A/2022/20220628-20220701_race_nogaro/0023 - 20220701T141014 1h8m8s 13.336km Nogaro/\"\n",
    "file = \"1.csv\""
   ],
   "outputs": [],
   "execution_count": null
  },
  {
   "metadata": {},
   "cell_type": "code",
   "source": "data_file = lib.DataInladen(f'{directory}{file}')",
   "id": "f5528a29228fc98e",
   "outputs": [],
   "execution_count": null
  },
  {
   "metadata": {},
   "cell_type": "code",
   "source": "data_file",
   "id": "c9f081bfa31fb02",
   "outputs": [],
   "execution_count": null
  },
  {
   "metadata": {},
   "cell_type": "code",
   "source": [
    "# Filtering the data so it's only the laps we want to analyze\n",
    "# First filter so that the data without GPS data is removed\n",
    "data_file = data_file[data_file[xas] != 0]\n",
    "data_file = data_file[data_file[yas] != 0]\n",
    "\n",
    "# Now filter out the beginning and end of the data, by removing the first and last 10% of the data\n",
    "from math import ceil\n",
    "data_file\n",
    "data_file = data_file.iloc[ceil(len(data_file)*0.215):ceil(len(data_file)*0.267)]\n",
    "\n",
    "# Display the filtered data\n",
    "data_file"
   ],
   "id": "4c6686a5b4a3b8ad",
   "outputs": [],
   "execution_count": null
  },
  {
   "cell_type": "code",
   "id": "51d68bb7-3614-4f99-949e-6ed8398794ad",
   "metadata": {},
   "source": [
    "'Plotting the race'\n",
    "plt.figure(figsize=(6,6))\n",
    "plt.scatter(data_file['Latitude'], data_file['Longitude'], c=data_file['Snelheid over de grond in km/h'], cmap='viridis')\n",
    "plt.title('GPS data vs speed')\n",
    "plt.xlabel('Latitude')\n",
    "plt.ylabel('Longitude')\n",
    "\n",
    "# Adding a colorbar with a label for the speed in km/h\n",
    "cbar = plt.colorbar()\n",
    "cbar.set_label('Speed (km/h)')\n",
    "plt.grid()\n",
    "plt.show()\n"
   ],
   "outputs": [],
   "execution_count": null
  },
  {
   "metadata": {},
   "cell_type": "code",
   "source": [
    "import matplotlib.pyplot as plt\n",
    "from mpl_toolkits.mplot3d import Axes3D\n",
    "\n",
    "# Extract data for plotting\n",
    "latitudes = data_file['Latitude'].values\n",
    "longitudes = data_file['Longitude'].values\n",
    "speeds = data_file['Snelheid over de grond in km/h'].values\n",
    "\n",
    "# Plotting the race with a 3D scatter plot\n",
    "fig = plt.figure(figsize=(8, 8))\n",
    "ax = fig.add_subplot(111, projection='3d')\n",
    "\n",
    "# Scatter plot with height representing speed\n",
    "scatter = ax.scatter(latitudes, longitudes, speeds, c=speeds, cmap='viridis', s=10)\n",
    "\n",
    "# Adding labels and title\n",
    "ax.set_title('GPS data vs speed')\n",
    "ax.set_xlabel('Latitude')\n",
    "ax.set_ylabel('Longitude')\n",
    "ax.set_zlabel('Speed (km/h)')\n",
    "\n",
    "# Adding a colorbar with a label for the speed in km/h\n",
    "cbar = plt.colorbar(scatter, ax=ax, pad=0.1)\n",
    "cbar.set_label('Speed (km/h)')\n",
    "\n",
    "plt.show()"
   ],
   "id": "b7396bf19626675d",
   "outputs": [],
   "execution_count": null
  }
 ],
 "metadata": {
  "kernelspec": {
   "display_name": "Python 3",
   "language": "python",
   "name": "python3"
  },
  "language_info": {
   "codemirror_mode": {
    "name": "ipython",
    "version": 3
   },
   "file_extension": ".py",
   "mimetype": "text/x-python",
   "name": "python",
   "nbconvert_exporter": "python",
   "pygments_lexer": "ipython3",
   "version": "3.8.8"
  }
 },
 "nbformat": 4,
 "nbformat_minor": 5
}
